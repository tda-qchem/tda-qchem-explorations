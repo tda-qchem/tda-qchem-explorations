{
 "cells": [
  {
   "cell_type": "markdown",
   "metadata": {
    "deletable": true,
    "editable": true
   },
   "source": [
    "# Analysis of selected isomers of (H$_2$O)$_5$ water clusters"
   ]
  },
  {
   "cell_type": "code",
   "execution_count": 1,
   "metadata": {
    "collapsed": false,
    "deletable": true,
    "editable": true,
    "jupyter": {
     "outputs_hidden": false
    }
   },
   "outputs": [
    {
     "data": {
      "text/html": [
       "<script>\n",
       "code_show=true; \n",
       "function code_toggle() {\n",
       " if (code_show){\n",
       " $('div.input').hide();\n",
       " } else {\n",
       " $('div.input').show();\n",
       " }\n",
       " code_show = !code_show\n",
       "}\n",
       "$( document ).ready(code_toggle);\n",
       "</script>\n",
       "<form action=\"javascript:code_toggle()\"><input type=\"submit\" value=\"Click here to toggle on/off the raw code.\"></form>"
      ],
      "text/plain": [
       "<IPython.core.display.HTML object>"
      ]
     },
     "execution_count": 1,
     "metadata": {},
     "output_type": "execute_result"
    }
   ],
   "source": [
    "from IPython.display import HTML\n",
    "\n",
    "HTML('''<script>\n",
    "code_show=true; \n",
    "function code_toggle() {\n",
    " if (code_show){\n",
    " $('div.input').hide();\n",
    " } else {\n",
    " $('div.input').show();\n",
    " }\n",
    " code_show = !code_show\n",
    "}\n",
    "$( document ).ready(code_toggle);\n",
    "</script>\n",
    "<form action=\"javascript:code_toggle()\"><input type=\"submit\" value=\"Click here to toggle on/off the raw code.\"></form>''')"
   ]
  },
  {
   "cell_type": "code",
   "execution_count": 2,
   "metadata": {
    "collapsed": false,
    "deletable": true,
    "editable": true,
    "jupyter": {
     "outputs_hidden": false
    }
   },
   "outputs": [
    {
     "name": "stdout",
     "output_type": "stream",
     "text": [
      "2023.09.6\n",
      "Tue Jul 16 12:23:22 2024\n"
     ]
    }
   ],
   "source": [
    "from pathlib import Path\n",
    "\n",
    "import matplotlib\n",
    "import matplotlib.pyplot as plt\n",
    "import seaborn as sns\n",
    "import pandas as pd\n",
    "import numpy as np\n",
    "import pprint\n",
    "%matplotlib inline \n",
    "\n",
    "from rdkit import Chem\n",
    "from rdkit.Chem import AllChem\n",
    "from rdkit.Chem import Draw\n",
    "from rdkit.Chem.Draw import IPythonConsole\n",
    "from rdkit import rdBase\n",
    "from rdkit.Chem import rdmolfiles\n",
    "from rdkit.Chem import rdDetermineBonds\n",
    "print(rdBase.rdkitVersion)\n",
    "import os,time\n",
    "print( time.asctime())\n",
    "import py3Dmol\n",
    "import xyz2mol as x2m\n",
    "\n",
    "from ipywidgets import interact,fixed,IntSlider\n",
    "import ipywidgets"
   ]
  },
  {
   "cell_type": "code",
   "execution_count": 3,
   "metadata": {
    "collapsed": false,
    "deletable": true,
    "editable": true,
    "jupyter": {
     "outputs_hidden": false
    }
   },
   "outputs": [],
   "source": [
    "# setup\n",
    "gridspacing=0.05\n",
    "modes_dir=Path(os.getcwd(), 'W5_struc_4', 'results_gridspacing'+str(gridspacing)).resolve()\n",
    "\n",
    "# handy functions\n",
    "def prepare_view(moldict, p=None):\n",
    "    if p is None:\n",
    "        p = py3Dmol.view(width=400,height=400)\n",
    "    p.removeAllModels()\n",
    "    for key, mol in moldict.items():\n",
    "        mb = Chem.MolToMolBlock(mol)\n",
    "        p.addModel(mb,'sdf')\n",
    "    p.setStyle({'stick':{'radius':'0.1'}})\n",
    "    p.setBackgroundColor('0xeeeeee')\n",
    "    p.zoomTo()\n",
    "    return p   \n",
    "\n",
    "def prepare_view_single(onemol, p=None):\n",
    "    if p is None:\n",
    "        p = py3Dmol.view(width=400,height=400)\n",
    "    p.removeAllModels()\n",
    "    mb = Chem.MolToMolBlock(onemol)\n",
    "    p.addModel(mb,'sdf')\n",
    "    p.setStyle({'stick':{'radius':'0.1'}})\n",
    "    p.setBackgroundColor('0xeeeeee')\n",
    "    p.zoomTo()\n",
    "    return p  \n"
   ]
  },
  {
   "cell_type": "code",
   "execution_count": 4,
   "metadata": {
    "collapsed": false,
    "deletable": true,
    "editable": true,
    "jupyter": {
     "outputs_hidden": false
    }
   },
   "outputs": [
    {
     "ename": "IndexError",
     "evalue": "list index out of range",
     "output_type": "error",
     "traceback": [
      "\u001b[0;31m---------------------------------------------------------------------------\u001b[0m",
      "\u001b[0;31mIndexError\u001b[0m                                Traceback (most recent call last)",
      "Cell \u001b[0;32mIn[4], line 3\u001b[0m\n\u001b[1;32m      1\u001b[0m ftraj_all\u001b[38;5;241m=\u001b[39m{}\n\u001b[1;32m      2\u001b[0m \u001b[38;5;28;01mfor\u001b[39;00m m \u001b[38;5;129;01min\u001b[39;00m modes_dir\u001b[38;5;241m.\u001b[39mglob(\u001b[38;5;124m'\u001b[39m\u001b[38;5;124m*\u001b[39m\u001b[38;5;124m'\u001b[39m):\n\u001b[0;32m----> 3\u001b[0m     mode\u001b[38;5;241m=\u001b[39m\u001b[43mm\u001b[49m\u001b[38;5;241;43m.\u001b[39;49m\u001b[43mstem\u001b[49m\u001b[38;5;241;43m.\u001b[39;49m\u001b[43msplit\u001b[49m\u001b[43m(\u001b[49m\u001b[38;5;124;43m'\u001b[39;49m\u001b[38;5;124;43mmode\u001b[39;49m\u001b[38;5;124;43m'\u001b[39;49m\u001b[43m)\u001b[49m\u001b[43m[\u001b[49m\u001b[38;5;241;43m1\u001b[39;49m\u001b[43m]\u001b[49m\n\u001b[1;32m      4\u001b[0m     chem_suppl\u001b[38;5;241m=\u001b[39m{}\n\u001b[1;32m      5\u001b[0m     \u001b[38;5;28;01mfor\u001b[39;00m geom \u001b[38;5;129;01min\u001b[39;00m modes_dir\u001b[38;5;241m.\u001b[39mglob(\u001b[38;5;124m'\u001b[39m\u001b[38;5;124m*/coordinates/*\u001b[39m\u001b[38;5;124m'\u001b[39m):\n",
      "\u001b[0;31mIndexError\u001b[0m: list index out of range"
     ]
    }
   ],
   "source": [
    "ftraj_all={}\n",
    "for m in modes_dir.glob('*'):\n",
    "    mode=m.stem.split('mode')[1]\n",
    "    chem_suppl={}\n",
    "    for geom in modes_dir.glob('*/coordinates/*'):\n",
    "        g=geom.stem\n",
    "        if 'geom_0' in g:\n",
    "            Ns=0\n",
    "        elif 'minus' in g:\n",
    "            Ns=-int(g.split('_')[2])\n",
    "        elif 'plus' in g:\n",
    "            Ns=int(g.split('_')[2])\n",
    "        raw_mol = rdmolfiles.MolFromXYZFile(str(geom))\n",
    "        mol = Chem.Mol(raw_mol)\n",
    "        rdDetermineBonds.DetermineConnectivity(mol)\n",
    "        chem_suppl[Ns]=mol\n",
    "    ftraj_all[mode]=chem_suppl"
   ]
  },
  {
   "cell_type": "markdown",
   "metadata": {},
   "source": [
    "# Description\n",
    "\n",
    "In this example, we consider one selected isomer of \"W5\" water clusters with 5 water molecules; we refer to it as \"W5_struc_4\".\n",
    "We show its equilibrium (optimized) geometry below. We refer to the energy of this equilibrium geometry as \"E[0]\".\n",
    "\n",
    "The water cluster consists of 5 water molecules; thus, there are 39 normal modes of harmonic vibrations (according to the formula: Nmodes=3*Natoms-6, where \"Natoms\" is the number of all atoms in the system).\n",
    "\n",
    "Each normal mode represents the movement of all atoms that does not rotate or translate the molecule in space.\n",
    "Then, we consider molecular structures \"distorted\" along each mode.\n",
    "\n",
    "In other words:\n",
    "* every atom \"At\" in a system has an equilibrium position, At[0]=(x[0], y[0], z[0])\n",
    "* one selected normal mode (\"Nmode\") is characterized by a certain frequency (\"freq_mode\") and a set of vectors demonstrating the direction of movement of each atom (there are \"Natoms\" of these vectors; v[at] = (vx[at], vy[at], vz[at]));\n",
    "* in the generated \"distorted\" structures, the position of each atom is calculated as (pseudocode):\n",
    "\n",
    "  ```\n",
    "  # prepare:\n",
    "  dx, dy, dz  - grid spacing in x/y/z directions\n",
    "  epsilon=1.5 - this is an arbitrarily chosen value (to ensure the step is slightly larger than dx/dy/dz)\n",
    "  Nsteps=9    - this is an arbitrarily chosen number of steps\n",
    "  \n",
    "  for n in -Nsteps, ..., 0, ..., Nsteps:\n",
    "    ex=epsilon*n*dx\n",
    "    ey=epsilon*n*dy\n",
    "    ez=epsilon*n*dz\n",
    "    At[n] =(x[0] + ex*vx[At], y[0] + ey*vy[At], z[0] + ez*vz[At])\n",
    "  ```\n",
    "\n",
    "* then, for each of these geometries, we calculate the ED (electron density) and BNP (bare nuclear potential) functions (on grids created for each of these geometries).\n",
    "\n",
    "Therefore, in total, we have \"2*Nsteps+1\" structures (with structure \"0\" corresponding to the equilibrium geometry) for 39 normal modes of \"W5_struc_4\" cluster, which in total generates 741 datasets."
   ]
  },
  {
   "cell_type": "markdown",
   "metadata": {},
   "source": [
    "### Example 1: one selected normal mode"
   ]
  },
  {
   "cell_type": "code",
   "execution_count": null,
   "metadata": {},
   "outputs": [],
   "source": [
    "# Choose the normal mode to demonstrate; in this example - from 0 to 38;\n",
    "# then, rerun the cells below\n",
    "selected=20"
   ]
  },
  {
   "cell_type": "code",
   "execution_count": null,
   "metadata": {},
   "outputs": [],
   "source": [
    "print(\"This shows the equilibrium structure of W5_struc_4\")\n",
    "mol=ftraj_all[\"0\"][0]\n",
    "viewer=prepare_view_single(mol)\n",
    "viewer.show()"
   ]
  },
  {
   "cell_type": "code",
   "execution_count": null,
   "metadata": {},
   "outputs": [],
   "source": [
    "# we now track the nuclear displacement along the selected normal mode:\n",
    "\n",
    "# equilibrium geometry:\n",
    "f_0 = Path(modes_dir, \"molecule_optimized.xyz\")\n",
    "N_atoms=int(open(f_0,\"r\").readline().rstrip())\n",
    "atoms_df = pd.read_csv(f_0, skiprows=2,sep='\\s+',names=['at','x0','y0','z0'],skip_blank_lines=True)\n",
    "#pprint.pprint(atoms_df)\n",
    "\n",
    "# tracking along the mode:\n",
    "f_modes = Path(modes_dir, \"modes.txt\")\n",
    "with open(f_modes, \"r\") as f:\n",
    "    lines=f.readlines()\n",
    "    selected_mode=lines[selected-1].strip().split()\n",
    "    qx=[]\n",
    "    qy=[]\n",
    "    qz=[]\n",
    "    for i in range(N_atoms):\n",
    "        qx.append(float(selected_mode[0]))\n",
    "        qy.append(float(selected_mode[1]))\n",
    "        qz.append(float(selected_mode[2]))\n",
    "        del selected_mode[0:3]\n",
    "atoms_df[\"qx_\"+str(selected)] = pd.Series(qx)\n",
    "atoms_df[\"qy_\"+str(selected)] = pd.Series(qy)\n",
    "atoms_df[\"qz_\"+str(selected)] = pd.Series(qz)\n",
    "pprint.pprint(atoms_df)\n",
    "#for i in range(N_atoms):\n",
    "#    print(at[i])        \n",
    "        #for x in selected_mode:\n",
    "    #xyz_displ=[x[0:3] for x in selected"
   ]
  },
  {
   "cell_type": "code",
   "execution_count": null,
   "metadata": {},
   "outputs": [],
   "source": [
    "\n",
    "def prepare_view_single_with_arrows(onemol, onemol_df, p=None):\n",
    "    if p is None:\n",
    "        p = py3Dmol.view(width=400,height=400)\n",
    "    p.removeAllModels()\n",
    "    mb = Chem.MolToMolBlock(onemol)\n",
    "    p.addModel(mb,'sdf')\n",
    "    p.setStyle({'stick':{'radius':'0.1'}})\n",
    "    p.setBackgroundColor('0xeeeeee')\n",
    "    for ind in onemol_df.index:\n",
    "        xs=onemol_df[\"qx_\"+str(selected)][ind]\n",
    "        ys=onemol_df[\"qy_\"+str(selected)][ind]\n",
    "        zs=onemol_df[\"qz_\"+str(selected)][ind]\n",
    "        xe=xs+1\n",
    "        ye=ys+1\n",
    "        ze=zs+1\n",
    "        p.addArrow({\n",
    "                  start: {x:xs, y:ys, z:zs},\n",
    "                  end: {x:xe, y:ye, z:ze},\n",
    "                  radius: 1.0,\n",
    "                  radiusRadio:1.0,\n",
    "                  mid:1.0,\n",
    "                  clickable:true,\n",
    "                  })\n",
    "    p.zoomTo()\n",
    "    return p  \n",
    "\n"
   ]
  },
  {
   "cell_type": "code",
   "execution_count": null,
   "metadata": {},
   "outputs": [],
   "source": [
    "viewer=prepare_view_single_with_arrows(mol, atoms_df)\n",
    "viewer.show()"
   ]
  },
  {
   "cell_type": "code",
   "execution_count": null,
   "metadata": {},
   "outputs": [],
   "source": [
    "print(\"This shows all structures within the normal mode, \", selected)\n",
    "print(\"We overlay the structures to show the range of motion of O atoms (red) and H atoms (white).\")\n",
    "print(\"The number of overlaid structures: \", len(ftraj_all[str(selected)]))\n",
    "viewer=prepare_view(ftraj_all[str(selected)])\n",
    "viewer.show()"
   ]
  },
  {
   "cell_type": "code",
   "execution_count": null,
   "metadata": {},
   "outputs": [],
   "source": [
    "print(\"Use the slider to see how atoms move along the selected normal mode\")\n",
    "\n",
    "geoms=ftraj_all[str(selected)]\n",
    "\n",
    "def mol_viewer(idx):\n",
    "    mol = geoms[idx]\n",
    "    return prepare_view_single(mol).show()\n",
    "\n",
    "minv=min(geoms)\n",
    "maxv=max(geoms)-1\n",
    "\n",
    "interact(mol_viewer, idx=ipywidgets.IntSlider(min=minv,max=maxv, step=1))"
   ]
  },
  {
   "cell_type": "code",
   "execution_count": null,
   "metadata": {
    "editable": true,
    "slideshow": {
     "slide_type": ""
    },
    "tags": []
   },
   "outputs": [],
   "source": []
  }
 ],
 "metadata": {
  "kernelspec": {
   "display_name": "Python 3 (ipykernel)",
   "language": "python",
   "name": "python3"
  },
  "language_info": {
   "codemirror_mode": {
    "name": "ipython",
    "version": 3
   },
   "file_extension": ".py",
   "mimetype": "text/x-python",
   "name": "python",
   "nbconvert_exporter": "python",
   "pygments_lexer": "ipython3",
   "version": "3.10.13"
  }
 },
 "nbformat": 4,
 "nbformat_minor": 4
}
