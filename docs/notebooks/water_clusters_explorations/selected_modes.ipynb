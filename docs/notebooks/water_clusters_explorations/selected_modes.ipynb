{
 "cells": [
  {
   "cell_type": "markdown",
   "metadata": {
    "deletable": true,
    "editable": true
   },
   "source": [
    "# Analysis of selected isomers of (H$_2$O)$_5$ water clusters"
   ]
  },
  {
   "cell_type": "code",
   "execution_count": 1,
   "metadata": {
    "collapsed": false,
    "deletable": true,
    "editable": true,
    "jupyter": {
     "outputs_hidden": false
    }
   },
   "outputs": [
    {
     "data": {
      "text/html": [
       "<script>\n",
       "code_show=true; \n",
       "function code_toggle() {\n",
       " if (code_show){\n",
       " $('div.input').hide();\n",
       " } else {\n",
       " $('div.input').show();\n",
       " }\n",
       " code_show = !code_show\n",
       "}\n",
       "$( document ).ready(code_toggle);\n",
       "</script>\n",
       "<form action=\"javascript:code_toggle()\"><input type=\"submit\" value=\"Click here to toggle on/off the raw code.\"></form>"
      ],
      "text/plain": [
       "<IPython.core.display.HTML object>"
      ]
     },
     "execution_count": 1,
     "metadata": {},
     "output_type": "execute_result"
    }
   ],
   "source": [
    "from IPython.display import HTML\n",
    "\n",
    "HTML('''<script>\n",
    "code_show=true; \n",
    "function code_toggle() {\n",
    " if (code_show){\n",
    " $('div.input').hide();\n",
    " } else {\n",
    " $('div.input').show();\n",
    " }\n",
    " code_show = !code_show\n",
    "}\n",
    "$( document ).ready(code_toggle);\n",
    "</script>\n",
    "<form action=\"javascript:code_toggle()\"><input type=\"submit\" value=\"Click here to toggle on/off the raw code.\"></form>''')"
   ]
  },
  {
   "cell_type": "code",
   "execution_count": 2,
   "metadata": {
    "collapsed": false,
    "deletable": true,
    "editable": true,
    "jupyter": {
     "outputs_hidden": false
    }
   },
   "outputs": [
    {
     "name": "stdout",
     "output_type": "stream",
     "text": [
      "2023.09.5\n",
      "Wed Mar  6 12:50:01 2024\n"
     ]
    }
   ],
   "source": [
    "from pathlib import Path\n",
    "\n",
    "import matplotlib\n",
    "import matplotlib.pyplot as plt\n",
    "import seaborn as sns\n",
    "import pandas as pd\n",
    "import numpy as np\n",
    "%matplotlib inline \n",
    "\n",
    "from rdkit import Chem\n",
    "from rdkit.Chem import AllChem\n",
    "from rdkit.Chem import Draw\n",
    "from rdkit.Chem.Draw import IPythonConsole\n",
    "from rdkit import rdBase\n",
    "from rdkit.Chem import rdmolfiles\n",
    "from rdkit.Chem import rdDetermineBonds\n",
    "print(rdBase.rdkitVersion)\n",
    "import os,time\n",
    "print( time.asctime())\n",
    "import py3Dmol\n",
    "import xyz2mol as x2m\n",
    "\n",
    "from ipywidgets import interact,fixed,IntSlider\n",
    "import ipywidgets"
   ]
  },
  {
   "cell_type": "code",
   "execution_count": 3,
   "metadata": {
    "collapsed": false,
    "deletable": true,
    "editable": true,
    "jupyter": {
     "outputs_hidden": false
    }
   },
   "outputs": [],
   "source": [
    "# setup\n",
    "gridspacing=0.05\n",
    "modes_dir=Path(os.getcwd(), 'W5_struc_4', 'results_gridspacing'+str(gridspacing)).resolve()\n",
    "\n",
    "# handy functions\n",
    "def prepare_view(moldict, p=None):\n",
    "    if p is None:\n",
    "        p = py3Dmol.view(width=400,height=400)\n",
    "    p.removeAllModels()\n",
    "    for key, mol in moldict.items():\n",
    "        mb = Chem.MolToMolBlock(mol)\n",
    "        p.addModel(mb,'sdf')\n",
    "    p.setStyle({'stick':{'radius':'0.1'}})\n",
    "    p.setBackgroundColor('0xeeeeee')\n",
    "    p.zoomTo()\n",
    "    return p   \n",
    "\n",
    "def prepare_view_single(onemol, p=None):\n",
    "    if p is None:\n",
    "        p = py3Dmol.view(width=400,height=400)\n",
    "    p.removeAllModels()\n",
    "    mb = Chem.MolToMolBlock(onemol)\n",
    "    p.addModel(mb,'sdf')\n",
    "    p.setStyle({'stick':{'radius':'0.1'}})\n",
    "    p.setBackgroundColor('0xeeeeee')\n",
    "    p.zoomTo()\n",
    "    return p  "
   ]
  },
  {
   "cell_type": "code",
   "execution_count": 4,
   "metadata": {
    "collapsed": false,
    "deletable": true,
    "editable": true,
    "jupyter": {
     "outputs_hidden": false
    }
   },
   "outputs": [],
   "source": [
    "ftraj_all={}\n",
    "for m in modes_dir.glob('*'):\n",
    "    mode=m.stem.split('mode')[1]\n",
    "    chem_suppl={}\n",
    "    for geom in modes_dir.glob('*/coordinates/*'):\n",
    "        g=geom.stem\n",
    "        if 'geom_0' in g:\n",
    "            Ns=0\n",
    "        elif 'minus' in g:\n",
    "            Ns=-int(g.split('_')[2])\n",
    "        elif 'plus' in g:\n",
    "            Ns=int(g.split('_')[2])\n",
    "        raw_mol = rdmolfiles.MolFromXYZFile(str(geom))\n",
    "        mol = Chem.Mol(raw_mol)\n",
    "        rdDetermineBonds.DetermineConnectivity(mol)\n",
    "        chem_suppl[Ns]=mol\n",
    "    ftraj_all[mode]=chem_suppl"
   ]
  },
  {
   "cell_type": "markdown",
   "metadata": {},
   "source": [
    "# Description\n",
    "\n",
    "In this example, we consider one selected isomer of \"W5\" water clusters with 5 water molecules; we refer to it as \"W5_struc_4\".\n",
    "We show its equilibrium (optimized) geometry below. We refer to the energy of this equilibrium geometry as \"E[0]\".\n",
    "\n",
    "The water cluster consists of 5 water molecules; thus, there are 39 normal modes of harmonic vibrations (according to the formula: Nmodes=3*Natoms-6, where \"Natoms\" is the number of all atoms in the system).\n",
    "\n",
    "Each normal mode represents the movement of all atoms that does not rotate or translate the molecule in space.\n",
    "Then, we consider molecular structures \"distorted\" along each mode.\n",
    "\n",
    "In other words:\n",
    "* every atom \"At\" in a system has an equilibrium position, At[0]=(x[0], y[0], z[0])\n",
    "* one selected normal mode (\"Nmode\") is characterized by a certain frequency (\"freq_mode\") and a set of vectors demonstrating the direction of movement of each atom (there are \"Natoms\" of these vectors; v[at] = (vx[at], vy[at], vz[at]));\n",
    "* in the generated \"distorted\" structures, the position of each atom is calculated as (pseudocode):\n",
    "\n",
    "  ```\n",
    "  # prepare:\n",
    "  dx, dy, dz  - grid spacing in x/y/z directions\n",
    "  epsilon=1.5 - this is an arbitrarily chosen value (to ensure the step is slightly larger than dx/dy/dz)\n",
    "  Nsteps=10   - this is an arbitrarily chosen number of steps\n",
    "  \n",
    "  for n in -Nsteps, ..., 0, ..., Nsteps:\n",
    "    ex=epsilon*n*dx\n",
    "    ey=epsilon*n*dy\n",
    "    ez=epsilon*n*dz\n",
    "    At[n] =(x[0] + ex*vx[At], y[0] + ey*vy[At], z[0] + ez*vz[At])\n",
    "  ```\n",
    "\n",
    "* then, for each of these geometries, we calculate the ED (electron density) and BNP (bare nuclear potential) functions (on grids created for each of these geometries).\n",
    "\n",
    "Therefore, in total, we have \"2*Nsteps+1\" structures (with structure \"0\" corresponding to the equilibrium geometry) for 39 normal modes of \"W5_struc_4\" cluster."
   ]
  },
  {
   "cell_type": "markdown",
   "metadata": {},
   "source": [
    "### Example 1: one selected normal mode"
   ]
  },
  {
   "cell_type": "code",
   "execution_count": 5,
   "metadata": {},
   "outputs": [],
   "source": [
    "# Choose the normal mode to demonstrate; in this example - from 0 to 38:\n",
    "selected=20"
   ]
  },
  {
   "cell_type": "code",
   "execution_count": 6,
   "metadata": {},
   "outputs": [
    {
     "name": "stdout",
     "output_type": "stream",
     "text": [
      "This shows all structures within the normal mode,  20\n",
      "We overlay the structures to show the range of motion of O atoms (red) and H atoms (white).\n",
      "The number of overlaid structures:  19\n"
     ]
    },
    {
     "data": {
      "application/3dmoljs_load.v0": "<div id=\"3dmolviewer_1709725812082267\"  style=\"position: relative; width: 400px; height: 400px;\">\n        <p id=\"3dmolwarning_1709725812082267\" style=\"background-color:#ffcccc;color:black\">You appear to be running in JupyterLab (or JavaScript failed to load for some other reason).  You need to install the 3dmol extension: <br>\n        <tt>jupyter labextension install jupyterlab_3dmol</tt></p>\n        </div>\n<script>\n\nvar loadScriptAsync = function(uri){\n  return new Promise((resolve, reject) => {\n    //this is to ignore the existence of requirejs amd\n    var savedexports, savedmodule;\n    if (typeof exports !== 'undefined') savedexports = exports;\n    else exports = {}\n    if (typeof module !== 'undefined') savedmodule = module;\n    else module = {}\n\n    var tag = document.createElement('script');\n    tag.src = uri;\n    tag.async = true;\n    tag.onload = () => {\n        exports = savedexports;\n        module = savedmodule;\n        resolve();\n    };\n  var firstScriptTag = document.getElementsByTagName('script')[0];\n  firstScriptTag.parentNode.insertBefore(tag, firstScriptTag);\n});\n};\n\nif(typeof $3Dmolpromise === 'undefined') {\n$3Dmolpromise = null;\n  $3Dmolpromise = loadScriptAsync('https://cdnjs.cloudflare.com/ajax/libs/3Dmol/2.0.4/3Dmol-min.js');\n}\n\nvar viewer_1709725812082267 = null;\nvar warn = document.getElementById(\"3dmolwarning_1709725812082267\");\nif(warn) {\n    warn.parentNode.removeChild(warn);\n}\n$3Dmolpromise.then(function() {\nviewer_1709725812082267 = $3Dmol.createViewer(document.getElementById(\"3dmolviewer_1709725812082267\"),{backgroundColor:\"white\"});\nviewer_1709725812082267.zoomTo();\n\tviewer_1709725812082267.removeAllModels();\n\tviewer_1709725812082267.addModel(\"\\n     RDKit          3D\\n\\n 15 10  0  0  0  0  0  0  0  0999 V2000\\n   25.9791   18.9429    0.9381 O   0  0  0  0  0  0  0  0  0  0  0  0\\n   25.7590   18.0289    1.2488 H   0  0  0  0  0  0  0  0  0  0  0  0\\n   25.5286   19.5056    1.6176 H   0  0  0  0  0  0  0  0  0  0  0  0\\n   24.0562   19.0753   -0.8715 O   0  0  0  0  0  0  0  0  0  0  0  0\\n   24.8877   19.0765   -0.2829 H   0  0  0  0  0  0  0  0  0  0  0  0\\n   23.9761   19.9829   -1.2066 H   0  0  0  0  0  0  0  0  0  0  0  0\\n   24.1522   20.2189    2.6596 O   0  0  0  0  0  0  0  0  0  0  0  0\\n   24.2347   19.9686    3.5940 H   0  0  0  0  0  0  0  0  0  0  0  0\\n   23.4625   19.6128    2.2926 H   0  0  0  0  0  0  0  0  0  0  0  0\\n   22.6398   18.3688    1.2086 O   0  0  0  0  0  0  0  0  0  0  0  0\\n   21.6864   18.2583    1.0686 H   0  0  0  0  0  0  0  0  0  0  0  0\\n   23.0407   18.6746    0.3236 H   0  0  0  0  0  0  0  0  0  0  0  0\\n   24.7011   16.5926    1.8245 O   0  0  0  0  0  0  0  0  0  0  0  0\\n   24.7167   15.8194    1.2377 H   0  0  0  0  0  0  0  0  0  0  0  0\\n   23.8467   17.0493    1.6244 H   0  0  0  0  0  0  0  0  0  0  0  0\\n  2  1  1  0\\n  3  1  1  0\\n  5  4  1  0\\n  6  4  1  0\\n  8  7  1  0\\n  9  7  1  0\\n 11 10  1  0\\n 12 10  1  0\\n 14 13  1  0\\n 15 13  1  0\\nM  END\\n\",\"sdf\");\n\tviewer_1709725812082267.addModel(\"\\n     RDKit          3D\\n\\n 15 10  0  0  0  0  0  0  0  0999 V2000\\n   25.9731   18.9449    0.9264 O   0  0  0  0  0  0  0  0  0  0  0  0\\n   25.7650   18.0281    1.2379 H   0  0  0  0  0  0  0  0  0  0  0  0\\n   25.5267   19.5022    1.6137 H   0  0  0  0  0  0  0  0  0  0  0  0\\n   24.0578   19.0716   -0.8544 O   0  0  0  0  0  0  0  0  0  0  0  0\\n   24.8925   19.0756   -0.2670 H   0  0  0  0  0  0  0  0  0  0  0  0\\n   23.9746   19.9765   -1.1958 H   0  0  0  0  0  0  0  0  0  0  0  0\\n   24.1527   20.2203    2.6623 O   0  0  0  0  0  0  0  0  0  0  0  0\\n   24.2214   19.9735    3.5989 H   0  0  0  0  0  0  0  0  0  0  0  0\\n   23.4540   19.6260    2.2927 H   0  0  0  0  0  0  0  0  0  0  0  0\\n   22.6424   18.3762    1.1993 O   0  0  0  0  0  0  0  0  0  0  0  0\\n   21.6983   18.2123    1.0387 H   0  0  0  0  0  0  0  0  0  0  0  0\\n   23.0513   18.6792    0.3147 H   0  0  0  0  0  0  0  0  0  0  0  0\\n   24.7023   16.5869    1.8271 O   0  0  0  0  0  0  0  0  0  0  0  0\\n   24.7043   15.8196    1.2321 H   0  0  0  0  0  0  0  0  0  0  0  0\\n   23.8560   17.0610    1.6280 H   0  0  0  0  0  0  0  0  0  0  0  0\\n  2  1  1  0\\n  3  1  1  0\\n  5  4  1  0\\n  6  4  1  0\\n  8  7  1  0\\n  9  7  1  0\\n 11 10  1  0\\n 12 10  1  0\\n 14 13  1  0\\n 15 13  1  0\\nM  END\\n\",\"sdf\");\n\tviewer_1709725812082267.addModel(\"\\n     RDKit          3D\\n\\n 15 10  0  0  0  0  0  0  0  0999 V2000\\n   25.9671   18.9470    0.9147 O   0  0  0  0  0  0  0  0  0  0  0  0\\n   25.7710   18.0274    1.2269 H   0  0  0  0  0  0  0  0  0  0  0  0\\n   25.5248   19.4988    1.6099 H   0  0  0  0  0  0  0  0  0  0  0  0\\n   24.0593   19.0680   -0.8373 O   0  0  0  0  0  0  0  0  0  0  0  0\\n   24.8974   19.0746   -0.2511 H   0  0  0  0  0  0  0  0  0  0  0  0\\n   23.9731   19.9700   -1.1851 H   0  0  0  0  0  0  0  0  0  0  0  0\\n   24.1532   20.2216    2.6650 O   0  0  0  0  0  0  0  0  0  0  0  0\\n   24.2081   19.9784    3.6038 H   0  0  0  0  0  0  0  0  0  0  0  0\\n   23.4456   19.6393    2.2928 H   0  0  0  0  0  0  0  0  0  0  0  0\\n   22.6449   18.3836    1.1901 O   0  0  0  0  0  0  0  0  0  0  0  0\\n   21.7101   18.1663    1.0088 H   0  0  0  0  0  0  0  0  0  0  0  0\\n   23.0619   18.6837    0.3058 H   0  0  0  0  0  0  0  0  0  0  0  0\\n   24.7034   16.5813    1.8297 O   0  0  0  0  0  0  0  0  0  0  0  0\\n   24.6919   15.8198    1.2265 H   0  0  0  0  0  0  0  0  0  0  0  0\\n   23.8653   17.0728    1.6315 H   0  0  0  0  0  0  0  0  0  0  0  0\\n  2  1  1  0\\n  3  1  1  0\\n  5  4  1  0\\n  6  4  1  0\\n  8  7  1  0\\n  9  7  1  0\\n 11 10  1  0\\n 12 10  1  0\\n 14 13  1  0\\n 15 13  1  0\\nM  END\\n\",\"sdf\");\n\tviewer_1709725812082267.addModel(\"\\n     RDKit          3D\\n\\n 15 10  0  0  0  0  0  0  0  0999 V2000\\n   25.9611   18.9490    0.9029 O   0  0  0  0  0  0  0  0  0  0  0  0\\n   25.7770   18.0266    1.2159 H   0  0  0  0  0  0  0  0  0  0  0  0\\n   25.5229   19.4954    1.6060 H   0  0  0  0  0  0  0  0  0  0  0  0\\n   24.0608   19.0643   -0.8201 O   0  0  0  0  0  0  0  0  0  0  0  0\\n   24.9022   19.0736   -0.2352 H   0  0  0  0  0  0  0  0  0  0  0  0\\n   23.9716   19.9636   -1.1743 H   0  0  0  0  0  0  0  0  0  0  0  0\\n   24.1536   20.2229    2.6678 O   0  0  0  0  0  0  0  0  0  0  0  0\\n   24.1948   19.9833    3.6087 H   0  0  0  0  0  0  0  0  0  0  0  0\\n   23.4371   19.6525    2.2930 H   0  0  0  0  0  0  0  0  0  0  0  0\\n   22.6474   18.3910    1.1809 O   0  0  0  0  0  0  0  0  0  0  0  0\\n   21.7220   18.1203    0.9789 H   0  0  0  0  0  0  0  0  0  0  0  0\\n   23.0725   18.6882    0.2968 H   0  0  0  0  0  0  0  0  0  0  0  0\\n   24.7046   16.5757    1.8324 O   0  0  0  0  0  0  0  0  0  0  0  0\\n   24.6796   15.8200    1.2209 H   0  0  0  0  0  0  0  0  0  0  0  0\\n   23.8747   17.0845    1.6350 H   0  0  0  0  0  0  0  0  0  0  0  0\\n  2  1  1  0\\n  3  1  1  0\\n  5  4  1  0\\n  6  4  1  0\\n  8  7  1  0\\n  9  7  1  0\\n 11 10  1  0\\n 12 10  1  0\\n 14 13  1  0\\n 15 13  1  0\\nM  END\\n\",\"sdf\");\n\tviewer_1709725812082267.addModel(\"\\n     RDKit          3D\\n\\n 15 10  0  0  0  0  0  0  0  0999 V2000\\n   25.9551   18.9511    0.8912 O   0  0  0  0  0  0  0  0  0  0  0  0\\n   25.7830   18.0258    1.2050 H   0  0  0  0  0  0  0  0  0  0  0  0\\n   25.5211   19.4919    1.6022 H   0  0  0  0  0  0  0  0  0  0  0  0\\n   24.0623   19.0606   -0.8030 O   0  0  0  0  0  0  0  0  0  0  0  0\\n   24.9071   19.0726   -0.2193 H   0  0  0  0  0  0  0  0  0  0  0  0\\n   23.9702   19.9571   -1.1636 H   0  0  0  0  0  0  0  0  0  0  0  0\\n   24.1541   20.2242    2.6705 O   0  0  0  0  0  0  0  0  0  0  0  0\\n   24.1815   19.9882    3.6136 H   0  0  0  0  0  0  0  0  0  0  0  0\\n   23.4287   19.6657    2.2931 H   0  0  0  0  0  0  0  0  0  0  0  0\\n   22.6500   18.3984    1.1717 O   0  0  0  0  0  0  0  0  0  0  0  0\\n   21.7339   18.0743    0.9490 H   0  0  0  0  0  0  0  0  0  0  0  0\\n   23.0831   18.6927    0.2879 H   0  0  0  0  0  0  0  0  0  0  0  0\\n   24.7058   16.5700    1.8350 O   0  0  0  0  0  0  0  0  0  0  0  0\\n   24.6672   15.8202    1.2153 H   0  0  0  0  0  0  0  0  0  0  0  0\\n   23.8840   17.0963    1.6386 H   0  0  0  0  0  0  0  0  0  0  0  0\\n  2  1  1  0\\n  3  1  1  0\\n  5  4  1  0\\n  6  4  1  0\\n  8  7  1  0\\n  9  7  1  0\\n 11 10  1  0\\n 12 10  1  0\\n 14 13  1  0\\n 15 13  1  0\\nM  END\\n\",\"sdf\");\n\tviewer_1709725812082267.addModel(\"\\n     RDKit          3D\\n\\n 15 10  0  0  0  0  0  0  0  0999 V2000\\n   25.9491   18.9532    0.8795 O   0  0  0  0  0  0  0  0  0  0  0  0\\n   25.7890   18.0251    1.1940 H   0  0  0  0  0  0  0  0  0  0  0  0\\n   25.5192   19.4885    1.5983 H   0  0  0  0  0  0  0  0  0  0  0  0\\n   24.0639   19.0569   -0.7859 O   0  0  0  0  0  0  0  0  0  0  0  0\\n   24.9119   19.0716   -0.2035 H   0  0  0  0  0  0  0  0  0  0  0  0\\n   23.9687   19.9507   -1.1529 H   0  0  0  0  0  0  0  0  0  0  0  0\\n   24.1545   20.2255    2.6732 O   0  0  0  0  0  0  0  0  0  0  0  0\\n   24.1681   19.9931    3.6185 H   0  0  0  0  0  0  0  0  0  0  0  0\\n   23.4202   19.6789    2.2933 H   0  0  0  0  0  0  0  0  0  0  0  0\\n   22.6525   18.4058    1.1624 O   0  0  0  0  0  0  0  0  0  0  0  0\\n   21.7457   18.0283    0.9191 H   0  0  0  0  0  0  0  0  0  0  0  0\\n   23.0937   18.6972    0.2790 H   0  0  0  0  0  0  0  0  0  0  0  0\\n   24.7070   16.5644    1.8376 O   0  0  0  0  0  0  0  0  0  0  0  0\\n   24.6548   15.8204    1.2097 H   0  0  0  0  0  0  0  0  0  0  0  0\\n   23.8933   17.1080    1.6421 H   0  0  0  0  0  0  0  0  0  0  0  0\\n  2  1  1  0\\n  3  1  1  0\\n  5  4  1  0\\n  6  4  1  0\\n  8  7  1  0\\n  9  7  1  0\\n 11 10  1  0\\n 12 10  1  0\\n 14 13  1  0\\n 15 13  1  0\\nM  END\\n\",\"sdf\");\n\tviewer_1709725812082267.addModel(\"\\n     RDKit          3D\\n\\n 15 10  0  0  0  0  0  0  0  0999 V2000\\n   25.9431   18.9552    0.8678 O   0  0  0  0  0  0  0  0  0  0  0  0\\n   25.7950   18.0243    1.1831 H   0  0  0  0  0  0  0  0  0  0  0  0\\n   25.5173   19.4851    1.5945 H   0  0  0  0  0  0  0  0  0  0  0  0\\n   24.0654   19.0532   -0.7688 O   0  0  0  0  0  0  0  0  0  0  0  0\\n   24.9168   19.0706   -0.1876 H   0  0  0  0  0  0  0  0  0  0  0  0\\n   23.9672   19.9442   -1.1421 H   0  0  0  0  0  0  0  0  0  0  0  0\\n   24.1550   20.2268    2.6759 O   0  0  0  0  0  0  0  0  0  0  0  0\\n   24.1548   19.9980    3.6234 H   0  0  0  0  0  0  0  0  0  0  0  0\\n   23.4118   19.6922    2.2934 H   0  0  0  0  0  0  0  0  0  0  0  0\\n   22.6550   18.4132    1.1532 O   0  0  0  0  0  0  0  0  0  0  0  0\\n   21.7576   17.9824    0.8892 H   0  0  0  0  0  0  0  0  0  0  0  0\\n   23.1043   18.7017    0.2701 H   0  0  0  0  0  0  0  0  0  0  0  0\\n   24.7081   16.5587    1.8402 O   0  0  0  0  0  0  0  0  0  0  0  0\\n   24.6424   15.8207    1.2041 H   0  0  0  0  0  0  0  0  0  0  0  0\\n   23.9027   17.1198    1.6456 H   0  0  0  0  0  0  0  0  0  0  0  0\\n  2  1  1  0\\n  3  1  1  0\\n  5  4  1  0\\n  6  4  1  0\\n  8  7  1  0\\n  9  7  1  0\\n 11 10  1  0\\n 12 10  1  0\\n 14 13  1  0\\n 15 13  1  0\\nM  END\\n\",\"sdf\");\n\tviewer_1709725812082267.addModel(\"\\n     RDKit          3D\\n\\n 15 10  0  0  0  0  0  0  0  0999 V2000\\n   25.9371   18.9573    0.8560 O   0  0  0  0  0  0  0  0  0  0  0  0\\n   25.8009   18.0235    1.1721 H   0  0  0  0  0  0  0  0  0  0  0  0\\n   25.5155   19.4816    1.5906 H   0  0  0  0  0  0  0  0  0  0  0  0\\n   24.0669   19.0495   -0.7517 O   0  0  0  0  0  0  0  0  0  0  0  0\\n   24.9216   19.0696   -0.1717 H   0  0  0  0  0  0  0  0  0  0  0  0\\n   23.9657   19.9378   -1.1314 H   0  0  0  0  0  0  0  0  0  0  0  0\\n   24.1554   20.2282    2.6787 O   0  0  0  0  0  0  0  0  0  0  0  0\\n   24.1415   20.0029    3.6283 H   0  0  0  0  0  0  0  0  0  0  0  0\\n   23.4033   19.7054    2.2935 H   0  0  0  0  0  0  0  0  0  0  0  0\\n   22.6576   18.4206    1.1440 O   0  0  0  0  0  0  0  0  0  0  0  0\\n   21.7694   17.9364    0.8593 H   0  0  0  0  0  0  0  0  0  0  0  0\\n   23.1149   18.7062    0.2612 H   0  0  0  0  0  0  0  0  0  0  0  0\\n   24.7093   16.5531    1.8429 O   0  0  0  0  0  0  0  0  0  0  0  0\\n   24.6300   15.8209    1.1985 H   0  0  0  0  0  0  0  0  0  0  0  0\\n   23.9120   17.1315    1.6492 H   0  0  0  0  0  0  0  0  0  0  0  0\\n  2  1  1  0\\n  3  1  1  0\\n  5  4  1  0\\n  6  4  1  0\\n  8  7  1  0\\n  9  7  1  0\\n 11 10  1  0\\n 12 10  1  0\\n 14 13  1  0\\n 15 13  1  0\\nM  END\\n\",\"sdf\");\n\tviewer_1709725812082267.addModel(\"\\n     RDKit          3D\\n\\n 15 10  0  0  0  0  0  0  0  0999 V2000\\n   25.9311   18.9593    0.8443 O   0  0  0  0  0  0  0  0  0  0  0  0\\n   25.8069   18.0228    1.1612 H   0  0  0  0  0  0  0  0  0  0  0  0\\n   25.5136   19.4782    1.5868 H   0  0  0  0  0  0  0  0  0  0  0  0\\n   24.0684   19.0458   -0.7346 O   0  0  0  0  0  0  0  0  0  0  0  0\\n   24.9265   19.0686   -0.1558 H   0  0  0  0  0  0  0  0  0  0  0  0\\n   23.9642   19.9313   -1.1207 H   0  0  0  0  0  0  0  0  0  0  0  0\\n   24.1559   20.2295    2.6814 O   0  0  0  0  0  0  0  0  0  0  0  0\\n   24.1282   20.0078    3.6331 H   0  0  0  0  0  0  0  0  0  0  0  0\\n   23.3949   19.7186    2.2937 H   0  0  0  0  0  0  0  0  0  0  0  0\\n   22.6601   18.4280    1.1348 O   0  0  0  0  0  0  0  0  0  0  0  0\\n   21.7813   17.8904    0.8294 H   0  0  0  0  0  0  0  0  0  0  0  0\\n   23.1255   18.7107    0.2523 H   0  0  0  0  0  0  0  0  0  0  0  0\\n   24.7105   16.5474    1.8455 O   0  0  0  0  0  0  0  0  0  0  0  0\\n   24.6176   15.8211    1.1930 H   0  0  0  0  0  0  0  0  0  0  0  0\\n   23.9213   17.1432    1.6527 H   0  0  0  0  0  0  0  0  0  0  0  0\\n  2  1  1  0\\n  3  1  1  0\\n  5  4  1  0\\n  6  4  1  0\\n  8  7  1  0\\n  9  7  1  0\\n 11 10  1  0\\n 12 10  1  0\\n 14 13  1  0\\n 15 13  1  0\\nM  END\\n\",\"sdf\");\n\tviewer_1709725812082267.addModel(\"\\n     RDKit          3D\\n\\n 15 10  0  0  0  0  0  0  0  0999 V2000\\n   25.9251   18.9614    0.8326 O   0  0  0  0  0  0  0  0  0  0  0  0\\n   25.8129   18.0220    1.1502 H   0  0  0  0  0  0  0  0  0  0  0  0\\n   25.5117   19.4748    1.5830 H   0  0  0  0  0  0  0  0  0  0  0  0\\n   24.0700   19.0421   -0.7175 O   0  0  0  0  0  0  0  0  0  0  0  0\\n   24.9313   19.0677   -0.1399 H   0  0  0  0  0  0  0  0  0  0  0  0\\n   23.9627   19.9249   -1.1099 H   0  0  0  0  0  0  0  0  0  0  0  0\\n   24.1564   20.2308    2.6841 O   0  0  0  0  0  0  0  0  0  0  0  0\\n   24.1148   20.0127    3.6380 H   0  0  0  0  0  0  0  0  0  0  0  0\\n   23.3864   19.7318    2.2938 H   0  0  0  0  0  0  0  0  0  0  0  0\\n   22.6626   18.4354    1.1255 O   0  0  0  0  0  0  0  0  0  0  0  0\\n   21.7931   17.8444    0.7995 H   0  0  0  0  0  0  0  0  0  0  0  0\\n   23.1361   18.7152    0.2434 H   0  0  0  0  0  0  0  0  0  0  0  0\\n   24.7116   16.5418    1.8481 O   0  0  0  0  0  0  0  0  0  0  0  0\\n   24.6052   15.8213    1.1874 H   0  0  0  0  0  0  0  0  0  0  0  0\\n   23.9307   17.1550    1.6562 H   0  0  0  0  0  0  0  0  0  0  0  0\\n  2  1  1  0\\n  3  1  1  0\\n  5  4  1  0\\n  6  4  1  0\\n  8  7  1  0\\n  9  7  1  0\\n 11 10  1  0\\n 12 10  1  0\\n 14 13  1  0\\n 15 13  1  0\\nM  END\\n\",\"sdf\");\n\tviewer_1709725812082267.addModel(\"\\n     RDKit          3D\\n\\n 15 10  0  0  0  0  0  0  0  0999 V2000\\n   25.9851   18.9408    0.9499 O   0  0  0  0  0  0  0  0  0  0  0  0\\n   25.7531   18.0296    1.2598 H   0  0  0  0  0  0  0  0  0  0  0  0\\n   25.5304   19.5091    1.6214 H   0  0  0  0  0  0  0  0  0  0  0  0\\n   24.0547   19.0790   -0.8886 O   0  0  0  0  0  0  0  0  0  0  0  0\\n   24.8829   19.0775   -0.2988 H   0  0  0  0  0  0  0  0  0  0  0  0\\n   23.9776   19.9894   -1.2173 H   0  0  0  0  0  0  0  0  0  0  0  0\\n   24.1518   20.2176    2.6569 O   0  0  0  0  0  0  0  0  0  0  0  0\\n   24.2481   19.9637    3.5892 H   0  0  0  0  0  0  0  0  0  0  0  0\\n   23.4710   19.5996    2.2924 H   0  0  0  0  0  0  0  0  0  0  0  0\\n   22.6373   18.3614    1.2178 O   0  0  0  0  0  0  0  0  0  0  0  0\\n   21.6746   18.3042    1.0985 H   0  0  0  0  0  0  0  0  0  0  0  0\\n   23.0301   18.6701    0.3325 H   0  0  0  0  0  0  0  0  0  0  0  0\\n   24.6999   16.5982    1.8219 O   0  0  0  0  0  0  0  0  0  0  0  0\\n   24.7291   15.8192    1.2432 H   0  0  0  0  0  0  0  0  0  0  0  0\\n   23.8373   17.0376    1.6209 H   0  0  0  0  0  0  0  0  0  0  0  0\\n  2  1  1  0\\n  3  1  1  0\\n  5  4  1  0\\n  6  4  1  0\\n  8  7  1  0\\n  9  7  1  0\\n 11 10  1  0\\n 12 10  1  0\\n 14 13  1  0\\n 15 13  1  0\\nM  END\\n\",\"sdf\");\n\tviewer_1709725812082267.addModel(\"\\n     RDKit          3D\\n\\n 15 10  0  0  0  0  0  0  0  0999 V2000\\n   25.9911   18.9387    0.9616 O   0  0  0  0  0  0  0  0  0  0  0  0\\n   25.7471   18.0304    1.2707 H   0  0  0  0  0  0  0  0  0  0  0  0\\n   25.5323   19.5125    1.6252 H   0  0  0  0  0  0  0  0  0  0  0  0\\n   24.0532   19.0827   -0.9057 O   0  0  0  0  0  0  0  0  0  0  0  0\\n   24.8780   19.0785   -0.3147 H   0  0  0  0  0  0  0  0  0  0  0  0\\n   23.9791   19.9959   -1.2280 H   0  0  0  0  0  0  0  0  0  0  0  0\\n   24.1513   20.2163    2.6541 O   0  0  0  0  0  0  0  0  0  0  0  0\\n   24.2614   19.9588    3.5843 H   0  0  0  0  0  0  0  0  0  0  0  0\\n   23.4794   19.5864    2.2923 H   0  0  0  0  0  0  0  0  0  0  0  0\\n   22.6348   18.3540    1.2270 O   0  0  0  0  0  0  0  0  0  0  0  0\\n   21.6627   18.3502    1.1284 H   0  0  0  0  0  0  0  0  0  0  0  0\\n   23.0195   18.6656    0.3414 H   0  0  0  0  0  0  0  0  0  0  0  0\\n   24.6988   16.6039    1.8192 O   0  0  0  0  0  0  0  0  0  0  0  0\\n   24.7415   15.8190    1.2488 H   0  0  0  0  0  0  0  0  0  0  0  0\\n   23.8280   17.0258    1.6174 H   0  0  0  0  0  0  0  0  0  0  0  0\\n  2  1  1  0\\n  3  1  1  0\\n  5  4  1  0\\n  6  4  1  0\\n  8  7  1  0\\n  9  7  1  0\\n 11 10  1  0\\n 12 10  1  0\\n 14 13  1  0\\n 15 13  1  0\\nM  END\\n\",\"sdf\");\n\tviewer_1709725812082267.addModel(\"\\n     RDKit          3D\\n\\n 15 10  0  0  0  0  0  0  0  0999 V2000\\n   25.9971   18.9367    0.9733 O   0  0  0  0  0  0  0  0  0  0  0  0\\n   25.7411   18.0312    1.2817 H   0  0  0  0  0  0  0  0  0  0  0  0\\n   25.5342   19.5159    1.6291 H   0  0  0  0  0  0  0  0  0  0  0  0\\n   24.0517   19.0864   -0.9228 O   0  0  0  0  0  0  0  0  0  0  0  0\\n   24.8732   19.0795   -0.3306 H   0  0  0  0  0  0  0  0  0  0  0  0\\n   23.9806   20.0023   -1.2388 H   0  0  0  0  0  0  0  0  0  0  0  0\\n   24.1509   20.2150    2.6514 O   0  0  0  0  0  0  0  0  0  0  0  0\\n   24.2747   19.9539    3.5794 H   0  0  0  0  0  0  0  0  0  0  0  0\\n   23.4879   19.5732    2.2922 H   0  0  0  0  0  0  0  0  0  0  0  0\\n   22.6323   18.3466    1.2362 O   0  0  0  0  0  0  0  0  0  0  0  0\\n   21.6509   18.3962    1.1583 H   0  0  0  0  0  0  0  0  0  0  0  0\\n   23.0089   18.6611    0.3503 H   0  0  0  0  0  0  0  0  0  0  0  0\\n   24.6976   16.6095    1.8166 O   0  0  0  0  0  0  0  0  0  0  0  0\\n   24.7539   15.8188    1.2544 H   0  0  0  0  0  0  0  0  0  0  0  0\\n   23.8187   17.0141    1.6138 H   0  0  0  0  0  0  0  0  0  0  0  0\\n  2  1  1  0\\n  3  1  1  0\\n  5  4  1  0\\n  6  4  1  0\\n  8  7  1  0\\n  9  7  1  0\\n 11 10  1  0\\n 12 10  1  0\\n 14 13  1  0\\n 15 13  1  0\\nM  END\\n\",\"sdf\");\n\tviewer_1709725812082267.addModel(\"\\n     RDKit          3D\\n\\n 15 10  0  0  0  0  0  0  0  0999 V2000\\n   26.0031   18.9346    0.9850 O   0  0  0  0  0  0  0  0  0  0  0  0\\n   25.7351   18.0319    1.2927 H   0  0  0  0  0  0  0  0  0  0  0  0\\n   25.5360   19.5194    1.6329 H   0  0  0  0  0  0  0  0  0  0  0  0\\n   24.0501   19.0901   -0.9399 O   0  0  0  0  0  0  0  0  0  0  0  0\\n   24.8683   19.0805   -0.3465 H   0  0  0  0  0  0  0  0  0  0  0  0\\n   23.9820   20.0088   -1.2495 H   0  0  0  0  0  0  0  0  0  0  0  0\\n   24.1504   20.2137    2.6487 O   0  0  0  0  0  0  0  0  0  0  0  0\\n   24.2880   19.9490    3.5745 H   0  0  0  0  0  0  0  0  0  0  0  0\\n   23.4963   19.5599    2.2920 H   0  0  0  0  0  0  0  0  0  0  0  0\\n   22.6297   18.3392    1.2454 O   0  0  0  0  0  0  0  0  0  0  0  0\\n   21.6390   18.4422    1.1882 H   0  0  0  0  0  0  0  0  0  0  0  0\\n   22.9983   18.6566    0.3592 H   0  0  0  0  0  0  0  0  0  0  0  0\\n   24.6964   16.6152    1.8140 O   0  0  0  0  0  0  0  0  0  0  0  0\\n   24.7663   15.8186    1.2600 H   0  0  0  0  0  0  0  0  0  0  0  0\\n   23.8094   17.0023    1.6103 H   0  0  0  0  0  0  0  0  0  0  0  0\\n  2  1  1  0\\n  3  1  1  0\\n  5  4  1  0\\n  6  4  1  0\\n  8  7  1  0\\n  9  7  1  0\\n 11 10  1  0\\n 12 10  1  0\\n 14 13  1  0\\n 15 13  1  0\\nM  END\\n\",\"sdf\");\n\tviewer_1709725812082267.addModel(\"\\n     RDKit          3D\\n\\n 15 10  0  0  0  0  0  0  0  0999 V2000\\n   26.0091   18.9326    0.9968 O   0  0  0  0  0  0  0  0  0  0  0  0\\n   25.7291   18.0327    1.3036 H   0  0  0  0  0  0  0  0  0  0  0  0\\n   25.5379   19.5228    1.6368 H   0  0  0  0  0  0  0  0  0  0  0  0\\n   24.0486   19.0938   -0.9570 O   0  0  0  0  0  0  0  0  0  0  0  0\\n   24.8635   19.0815   -0.3624 H   0  0  0  0  0  0  0  0  0  0  0  0\\n   23.9835   20.0152   -1.2602 H   0  0  0  0  0  0  0  0  0  0  0  0\\n   24.1500   20.2124    2.6460 O   0  0  0  0  0  0  0  0  0  0  0  0\\n   24.3014   19.9441    3.5696 H   0  0  0  0  0  0  0  0  0  0  0  0\\n   23.5048   19.5467    2.2919 H   0  0  0  0  0  0  0  0  0  0  0  0\\n   22.6272   18.3317    1.2547 O   0  0  0  0  0  0  0  0  0  0  0  0\\n   21.6272   18.4882    1.2181 H   0  0  0  0  0  0  0  0  0  0  0  0\\n   22.9877   18.6521    0.3681 H   0  0  0  0  0  0  0  0  0  0  0  0\\n   24.6952   16.6208    1.8113 O   0  0  0  0  0  0  0  0  0  0  0  0\\n   24.7787   15.8184    1.2656 H   0  0  0  0  0  0  0  0  0  0  0  0\\n   23.8000   16.9906    1.6068 H   0  0  0  0  0  0  0  0  0  0  0  0\\n  2  1  1  0\\n  3  1  1  0\\n  5  4  1  0\\n  6  4  1  0\\n  8  7  1  0\\n  9  7  1  0\\n 11 10  1  0\\n 12 10  1  0\\n 14 13  1  0\\n 15 13  1  0\\nM  END\\n\",\"sdf\");\n\tviewer_1709725812082267.addModel(\"\\n     RDKit          3D\\n\\n 15 10  0  0  0  0  0  0  0  0999 V2000\\n   26.0151   18.9305    1.0085 O   0  0  0  0  0  0  0  0  0  0  0  0\\n   25.7231   18.0335    1.3146 H   0  0  0  0  0  0  0  0  0  0  0  0\\n   25.5398   19.5262    1.6406 H   0  0  0  0  0  0  0  0  0  0  0  0\\n   24.0471   19.0975   -0.9741 O   0  0  0  0  0  0  0  0  0  0  0  0\\n   24.8586   19.0825   -0.3783 H   0  0  0  0  0  0  0  0  0  0  0  0\\n   23.9850   20.0217   -1.2710 H   0  0  0  0  0  0  0  0  0  0  0  0\\n   24.1495   20.2111    2.6432 O   0  0  0  0  0  0  0  0  0  0  0  0\\n   24.3147   19.9392    3.5647 H   0  0  0  0  0  0  0  0  0  0  0  0\\n   23.5132   19.5335    2.2918 H   0  0  0  0  0  0  0  0  0  0  0  0\\n   22.6247   18.3243    1.2639 O   0  0  0  0  0  0  0  0  0  0  0  0\\n   21.6153   18.5342    1.2480 H   0  0  0  0  0  0  0  0  0  0  0  0\\n   22.9771   18.6476    0.3770 H   0  0  0  0  0  0  0  0  0  0  0  0\\n   24.6941   16.6264    1.8087 O   0  0  0  0  0  0  0  0  0  0  0  0\\n   24.7911   15.8182    1.2712 H   0  0  0  0  0  0  0  0  0  0  0  0\\n   23.7907   16.9788    1.6032 H   0  0  0  0  0  0  0  0  0  0  0  0\\n  2  1  1  0\\n  3  1  1  0\\n  5  4  1  0\\n  6  4  1  0\\n  8  7  1  0\\n  9  7  1  0\\n 11 10  1  0\\n 12 10  1  0\\n 14 13  1  0\\n 15 13  1  0\\nM  END\\n\",\"sdf\");\n\tviewer_1709725812082267.addModel(\"\\n     RDKit          3D\\n\\n 15 10  0  0  0  0  0  0  0  0999 V2000\\n   26.0211   18.9284    1.0202 O   0  0  0  0  0  0  0  0  0  0  0  0\\n   25.7172   18.0342    1.3255 H   0  0  0  0  0  0  0  0  0  0  0  0\\n   25.5417   19.5296    1.6445 H   0  0  0  0  0  0  0  0  0  0  0  0\\n   24.0456   19.1011   -0.9913 O   0  0  0  0  0  0  0  0  0  0  0  0\\n   24.8538   19.0835   -0.3942 H   0  0  0  0  0  0  0  0  0  0  0  0\\n   23.9865   20.0281   -1.2817 H   0  0  0  0  0  0  0  0  0  0  0  0\\n   24.1490   20.2097    2.6405 O   0  0  0  0  0  0  0  0  0  0  0  0\\n   24.3280   19.9343    3.5598 H   0  0  0  0  0  0  0  0  0  0  0  0\\n   23.5217   19.5203    2.2916 H   0  0  0  0  0  0  0  0  0  0  0  0\\n   22.6221   18.3169    1.2731 O   0  0  0  0  0  0  0  0  0  0  0  0\\n   21.6035   18.5801    1.2779 H   0  0  0  0  0  0  0  0  0  0  0  0\\n   22.9665   18.6431    0.3859 H   0  0  0  0  0  0  0  0  0  0  0  0\\n   24.6929   16.6321    1.8061 O   0  0  0  0  0  0  0  0  0  0  0  0\\n   24.8035   15.8180    1.2768 H   0  0  0  0  0  0  0  0  0  0  0  0\\n   23.7814   16.9671    1.5997 H   0  0  0  0  0  0  0  0  0  0  0  0\\n  2  1  1  0\\n  3  1  1  0\\n  5  4  1  0\\n  6  4  1  0\\n  8  7  1  0\\n  9  7  1  0\\n 11 10  1  0\\n 12 10  1  0\\n 14 13  1  0\\n 15 13  1  0\\nM  END\\n\",\"sdf\");\n\tviewer_1709725812082267.addModel(\"\\n     RDKit          3D\\n\\n 15 10  0  0  0  0  0  0  0  0999 V2000\\n   26.0271   18.9264    1.0320 O   0  0  0  0  0  0  0  0  0  0  0  0\\n   25.7112   18.0350    1.3365 H   0  0  0  0  0  0  0  0  0  0  0  0\\n   25.5435   19.5331    1.6483 H   0  0  0  0  0  0  0  0  0  0  0  0\\n   24.0440   19.1048   -1.0084 O   0  0  0  0  0  0  0  0  0  0  0  0\\n   24.8489   19.0844   -0.4101 H   0  0  0  0  0  0  0  0  0  0  0  0\\n   23.9880   20.0346   -1.2924 H   0  0  0  0  0  0  0  0  0  0  0  0\\n   24.1486   20.2084    2.6378 O   0  0  0  0  0  0  0  0  0  0  0  0\\n   24.3413   19.9294    3.5549 H   0  0  0  0  0  0  0  0  0  0  0  0\\n   23.5301   19.5070    2.2915 H   0  0  0  0  0  0  0  0  0  0  0  0\\n   22.6196   18.3095    1.2823 O   0  0  0  0  0  0  0  0  0  0  0  0\\n   21.5916   18.6261    1.3079 H   0  0  0  0  0  0  0  0  0  0  0  0\\n   22.9559   18.6386    0.3948 H   0  0  0  0  0  0  0  0  0  0  0  0\\n   24.6917   16.6377    1.8035 O   0  0  0  0  0  0  0  0  0  0  0  0\\n   24.8159   15.8178    1.2824 H   0  0  0  0  0  0  0  0  0  0  0  0\\n   23.7720   16.9554    1.5962 H   0  0  0  0  0  0  0  0  0  0  0  0\\n  2  1  1  0\\n  3  1  1  0\\n  5  4  1  0\\n  6  4  1  0\\n  8  7  1  0\\n  9  7  1  0\\n 11 10  1  0\\n 12 10  1  0\\n 14 13  1  0\\n 15 13  1  0\\nM  END\\n\",\"sdf\");\n\tviewer_1709725812082267.addModel(\"\\n     RDKit          3D\\n\\n 15 10  0  0  0  0  0  0  0  0999 V2000\\n   26.0331   18.9243    1.0437 O   0  0  0  0  0  0  0  0  0  0  0  0\\n   25.7052   18.0357    1.3474 H   0  0  0  0  0  0  0  0  0  0  0  0\\n   25.5454   19.5365    1.6522 H   0  0  0  0  0  0  0  0  0  0  0  0\\n   24.0425   19.1085   -1.0255 O   0  0  0  0  0  0  0  0  0  0  0  0\\n   24.8441   19.0854   -0.4260 H   0  0  0  0  0  0  0  0  0  0  0  0\\n   23.9895   20.0410   -1.3032 H   0  0  0  0  0  0  0  0  0  0  0  0\\n   24.1481   20.2071    2.6350 O   0  0  0  0  0  0  0  0  0  0  0  0\\n   24.3547   19.9245    3.5501 H   0  0  0  0  0  0  0  0  0  0  0  0\\n   23.5386   19.4938    2.2913 H   0  0  0  0  0  0  0  0  0  0  0  0\\n   22.6171   18.3021    1.2916 O   0  0  0  0  0  0  0  0  0  0  0  0\\n   21.5798   18.6721    1.3378 H   0  0  0  0  0  0  0  0  0  0  0  0\\n   22.9453   18.6341    0.4037 H   0  0  0  0  0  0  0  0  0  0  0  0\\n   24.6906   16.6434    1.8008 O   0  0  0  0  0  0  0  0  0  0  0  0\\n   24.8283   15.8176    1.2880 H   0  0  0  0  0  0  0  0  0  0  0  0\\n   23.7627   16.9436    1.5926 H   0  0  0  0  0  0  0  0  0  0  0  0\\n  2  1  1  0\\n  3  1  1  0\\n  5  4  1  0\\n  6  4  1  0\\n  8  7  1  0\\n  9  7  1  0\\n 11 10  1  0\\n 12 10  1  0\\n 14 13  1  0\\n 15 13  1  0\\nM  END\\n\",\"sdf\");\n\tviewer_1709725812082267.setStyle({\"stick\": {\"radius\": \"0.1\"}});\n\tviewer_1709725812082267.setBackgroundColor(\"0xeeeeee\");\n\tviewer_1709725812082267.zoomTo();\nviewer_1709725812082267.render();\n});\n</script>",
      "text/html": [
       "<div id=\"3dmolviewer_1709725812082267\"  style=\"position: relative; width: 400px; height: 400px;\">\n",
       "        <p id=\"3dmolwarning_1709725812082267\" style=\"background-color:#ffcccc;color:black\">You appear to be running in JupyterLab (or JavaScript failed to load for some other reason).  You need to install the 3dmol extension: <br>\n",
       "        <tt>jupyter labextension install jupyterlab_3dmol</tt></p>\n",
       "        </div>\n",
       "<script>\n",
       "\n",
       "var loadScriptAsync = function(uri){\n",
       "  return new Promise((resolve, reject) => {\n",
       "    //this is to ignore the existence of requirejs amd\n",
       "    var savedexports, savedmodule;\n",
       "    if (typeof exports !== 'undefined') savedexports = exports;\n",
       "    else exports = {}\n",
       "    if (typeof module !== 'undefined') savedmodule = module;\n",
       "    else module = {}\n",
       "\n",
       "    var tag = document.createElement('script');\n",
       "    tag.src = uri;\n",
       "    tag.async = true;\n",
       "    tag.onload = () => {\n",
       "        exports = savedexports;\n",
       "        module = savedmodule;\n",
       "        resolve();\n",
       "    };\n",
       "  var firstScriptTag = document.getElementsByTagName('script')[0];\n",
       "  firstScriptTag.parentNode.insertBefore(tag, firstScriptTag);\n",
       "});\n",
       "};\n",
       "\n",
       "if(typeof $3Dmolpromise === 'undefined') {\n",
       "$3Dmolpromise = null;\n",
       "  $3Dmolpromise = loadScriptAsync('https://cdnjs.cloudflare.com/ajax/libs/3Dmol/2.0.4/3Dmol-min.js');\n",
       "}\n",
       "\n",
       "var viewer_1709725812082267 = null;\n",
       "var warn = document.getElementById(\"3dmolwarning_1709725812082267\");\n",
       "if(warn) {\n",
       "    warn.parentNode.removeChild(warn);\n",
       "}\n",
       "$3Dmolpromise.then(function() {\n",
       "viewer_1709725812082267 = $3Dmol.createViewer(document.getElementById(\"3dmolviewer_1709725812082267\"),{backgroundColor:\"white\"});\n",
       "viewer_1709725812082267.zoomTo();\n",
       "\tviewer_1709725812082267.removeAllModels();\n",
       "\tviewer_1709725812082267.addModel(\"\\n     RDKit          3D\\n\\n 15 10  0  0  0  0  0  0  0  0999 V2000\\n   25.9791   18.9429    0.9381 O   0  0  0  0  0  0  0  0  0  0  0  0\\n   25.7590   18.0289    1.2488 H   0  0  0  0  0  0  0  0  0  0  0  0\\n   25.5286   19.5056    1.6176 H   0  0  0  0  0  0  0  0  0  0  0  0\\n   24.0562   19.0753   -0.8715 O   0  0  0  0  0  0  0  0  0  0  0  0\\n   24.8877   19.0765   -0.2829 H   0  0  0  0  0  0  0  0  0  0  0  0\\n   23.9761   19.9829   -1.2066 H   0  0  0  0  0  0  0  0  0  0  0  0\\n   24.1522   20.2189    2.6596 O   0  0  0  0  0  0  0  0  0  0  0  0\\n   24.2347   19.9686    3.5940 H   0  0  0  0  0  0  0  0  0  0  0  0\\n   23.4625   19.6128    2.2926 H   0  0  0  0  0  0  0  0  0  0  0  0\\n   22.6398   18.3688    1.2086 O   0  0  0  0  0  0  0  0  0  0  0  0\\n   21.6864   18.2583    1.0686 H   0  0  0  0  0  0  0  0  0  0  0  0\\n   23.0407   18.6746    0.3236 H   0  0  0  0  0  0  0  0  0  0  0  0\\n   24.7011   16.5926    1.8245 O   0  0  0  0  0  0  0  0  0  0  0  0\\n   24.7167   15.8194    1.2377 H   0  0  0  0  0  0  0  0  0  0  0  0\\n   23.8467   17.0493    1.6244 H   0  0  0  0  0  0  0  0  0  0  0  0\\n  2  1  1  0\\n  3  1  1  0\\n  5  4  1  0\\n  6  4  1  0\\n  8  7  1  0\\n  9  7  1  0\\n 11 10  1  0\\n 12 10  1  0\\n 14 13  1  0\\n 15 13  1  0\\nM  END\\n\",\"sdf\");\n",
       "\tviewer_1709725812082267.addModel(\"\\n     RDKit          3D\\n\\n 15 10  0  0  0  0  0  0  0  0999 V2000\\n   25.9731   18.9449    0.9264 O   0  0  0  0  0  0  0  0  0  0  0  0\\n   25.7650   18.0281    1.2379 H   0  0  0  0  0  0  0  0  0  0  0  0\\n   25.5267   19.5022    1.6137 H   0  0  0  0  0  0  0  0  0  0  0  0\\n   24.0578   19.0716   -0.8544 O   0  0  0  0  0  0  0  0  0  0  0  0\\n   24.8925   19.0756   -0.2670 H   0  0  0  0  0  0  0  0  0  0  0  0\\n   23.9746   19.9765   -1.1958 H   0  0  0  0  0  0  0  0  0  0  0  0\\n   24.1527   20.2203    2.6623 O   0  0  0  0  0  0  0  0  0  0  0  0\\n   24.2214   19.9735    3.5989 H   0  0  0  0  0  0  0  0  0  0  0  0\\n   23.4540   19.6260    2.2927 H   0  0  0  0  0  0  0  0  0  0  0  0\\n   22.6424   18.3762    1.1993 O   0  0  0  0  0  0  0  0  0  0  0  0\\n   21.6983   18.2123    1.0387 H   0  0  0  0  0  0  0  0  0  0  0  0\\n   23.0513   18.6792    0.3147 H   0  0  0  0  0  0  0  0  0  0  0  0\\n   24.7023   16.5869    1.8271 O   0  0  0  0  0  0  0  0  0  0  0  0\\n   24.7043   15.8196    1.2321 H   0  0  0  0  0  0  0  0  0  0  0  0\\n   23.8560   17.0610    1.6280 H   0  0  0  0  0  0  0  0  0  0  0  0\\n  2  1  1  0\\n  3  1  1  0\\n  5  4  1  0\\n  6  4  1  0\\n  8  7  1  0\\n  9  7  1  0\\n 11 10  1  0\\n 12 10  1  0\\n 14 13  1  0\\n 15 13  1  0\\nM  END\\n\",\"sdf\");\n",
       "\tviewer_1709725812082267.addModel(\"\\n     RDKit          3D\\n\\n 15 10  0  0  0  0  0  0  0  0999 V2000\\n   25.9671   18.9470    0.9147 O   0  0  0  0  0  0  0  0  0  0  0  0\\n   25.7710   18.0274    1.2269 H   0  0  0  0  0  0  0  0  0  0  0  0\\n   25.5248   19.4988    1.6099 H   0  0  0  0  0  0  0  0  0  0  0  0\\n   24.0593   19.0680   -0.8373 O   0  0  0  0  0  0  0  0  0  0  0  0\\n   24.8974   19.0746   -0.2511 H   0  0  0  0  0  0  0  0  0  0  0  0\\n   23.9731   19.9700   -1.1851 H   0  0  0  0  0  0  0  0  0  0  0  0\\n   24.1532   20.2216    2.6650 O   0  0  0  0  0  0  0  0  0  0  0  0\\n   24.2081   19.9784    3.6038 H   0  0  0  0  0  0  0  0  0  0  0  0\\n   23.4456   19.6393    2.2928 H   0  0  0  0  0  0  0  0  0  0  0  0\\n   22.6449   18.3836    1.1901 O   0  0  0  0  0  0  0  0  0  0  0  0\\n   21.7101   18.1663    1.0088 H   0  0  0  0  0  0  0  0  0  0  0  0\\n   23.0619   18.6837    0.3058 H   0  0  0  0  0  0  0  0  0  0  0  0\\n   24.7034   16.5813    1.8297 O   0  0  0  0  0  0  0  0  0  0  0  0\\n   24.6919   15.8198    1.2265 H   0  0  0  0  0  0  0  0  0  0  0  0\\n   23.8653   17.0728    1.6315 H   0  0  0  0  0  0  0  0  0  0  0  0\\n  2  1  1  0\\n  3  1  1  0\\n  5  4  1  0\\n  6  4  1  0\\n  8  7  1  0\\n  9  7  1  0\\n 11 10  1  0\\n 12 10  1  0\\n 14 13  1  0\\n 15 13  1  0\\nM  END\\n\",\"sdf\");\n",
       "\tviewer_1709725812082267.addModel(\"\\n     RDKit          3D\\n\\n 15 10  0  0  0  0  0  0  0  0999 V2000\\n   25.9611   18.9490    0.9029 O   0  0  0  0  0  0  0  0  0  0  0  0\\n   25.7770   18.0266    1.2159 H   0  0  0  0  0  0  0  0  0  0  0  0\\n   25.5229   19.4954    1.6060 H   0  0  0  0  0  0  0  0  0  0  0  0\\n   24.0608   19.0643   -0.8201 O   0  0  0  0  0  0  0  0  0  0  0  0\\n   24.9022   19.0736   -0.2352 H   0  0  0  0  0  0  0  0  0  0  0  0\\n   23.9716   19.9636   -1.1743 H   0  0  0  0  0  0  0  0  0  0  0  0\\n   24.1536   20.2229    2.6678 O   0  0  0  0  0  0  0  0  0  0  0  0\\n   24.1948   19.9833    3.6087 H   0  0  0  0  0  0  0  0  0  0  0  0\\n   23.4371   19.6525    2.2930 H   0  0  0  0  0  0  0  0  0  0  0  0\\n   22.6474   18.3910    1.1809 O   0  0  0  0  0  0  0  0  0  0  0  0\\n   21.7220   18.1203    0.9789 H   0  0  0  0  0  0  0  0  0  0  0  0\\n   23.0725   18.6882    0.2968 H   0  0  0  0  0  0  0  0  0  0  0  0\\n   24.7046   16.5757    1.8324 O   0  0  0  0  0  0  0  0  0  0  0  0\\n   24.6796   15.8200    1.2209 H   0  0  0  0  0  0  0  0  0  0  0  0\\n   23.8747   17.0845    1.6350 H   0  0  0  0  0  0  0  0  0  0  0  0\\n  2  1  1  0\\n  3  1  1  0\\n  5  4  1  0\\n  6  4  1  0\\n  8  7  1  0\\n  9  7  1  0\\n 11 10  1  0\\n 12 10  1  0\\n 14 13  1  0\\n 15 13  1  0\\nM  END\\n\",\"sdf\");\n",
       "\tviewer_1709725812082267.addModel(\"\\n     RDKit          3D\\n\\n 15 10  0  0  0  0  0  0  0  0999 V2000\\n   25.9551   18.9511    0.8912 O   0  0  0  0  0  0  0  0  0  0  0  0\\n   25.7830   18.0258    1.2050 H   0  0  0  0  0  0  0  0  0  0  0  0\\n   25.5211   19.4919    1.6022 H   0  0  0  0  0  0  0  0  0  0  0  0\\n   24.0623   19.0606   -0.8030 O   0  0  0  0  0  0  0  0  0  0  0  0\\n   24.9071   19.0726   -0.2193 H   0  0  0  0  0  0  0  0  0  0  0  0\\n   23.9702   19.9571   -1.1636 H   0  0  0  0  0  0  0  0  0  0  0  0\\n   24.1541   20.2242    2.6705 O   0  0  0  0  0  0  0  0  0  0  0  0\\n   24.1815   19.9882    3.6136 H   0  0  0  0  0  0  0  0  0  0  0  0\\n   23.4287   19.6657    2.2931 H   0  0  0  0  0  0  0  0  0  0  0  0\\n   22.6500   18.3984    1.1717 O   0  0  0  0  0  0  0  0  0  0  0  0\\n   21.7339   18.0743    0.9490 H   0  0  0  0  0  0  0  0  0  0  0  0\\n   23.0831   18.6927    0.2879 H   0  0  0  0  0  0  0  0  0  0  0  0\\n   24.7058   16.5700    1.8350 O   0  0  0  0  0  0  0  0  0  0  0  0\\n   24.6672   15.8202    1.2153 H   0  0  0  0  0  0  0  0  0  0  0  0\\n   23.8840   17.0963    1.6386 H   0  0  0  0  0  0  0  0  0  0  0  0\\n  2  1  1  0\\n  3  1  1  0\\n  5  4  1  0\\n  6  4  1  0\\n  8  7  1  0\\n  9  7  1  0\\n 11 10  1  0\\n 12 10  1  0\\n 14 13  1  0\\n 15 13  1  0\\nM  END\\n\",\"sdf\");\n",
       "\tviewer_1709725812082267.addModel(\"\\n     RDKit          3D\\n\\n 15 10  0  0  0  0  0  0  0  0999 V2000\\n   25.9491   18.9532    0.8795 O   0  0  0  0  0  0  0  0  0  0  0  0\\n   25.7890   18.0251    1.1940 H   0  0  0  0  0  0  0  0  0  0  0  0\\n   25.5192   19.4885    1.5983 H   0  0  0  0  0  0  0  0  0  0  0  0\\n   24.0639   19.0569   -0.7859 O   0  0  0  0  0  0  0  0  0  0  0  0\\n   24.9119   19.0716   -0.2035 H   0  0  0  0  0  0  0  0  0  0  0  0\\n   23.9687   19.9507   -1.1529 H   0  0  0  0  0  0  0  0  0  0  0  0\\n   24.1545   20.2255    2.6732 O   0  0  0  0  0  0  0  0  0  0  0  0\\n   24.1681   19.9931    3.6185 H   0  0  0  0  0  0  0  0  0  0  0  0\\n   23.4202   19.6789    2.2933 H   0  0  0  0  0  0  0  0  0  0  0  0\\n   22.6525   18.4058    1.1624 O   0  0  0  0  0  0  0  0  0  0  0  0\\n   21.7457   18.0283    0.9191 H   0  0  0  0  0  0  0  0  0  0  0  0\\n   23.0937   18.6972    0.2790 H   0  0  0  0  0  0  0  0  0  0  0  0\\n   24.7070   16.5644    1.8376 O   0  0  0  0  0  0  0  0  0  0  0  0\\n   24.6548   15.8204    1.2097 H   0  0  0  0  0  0  0  0  0  0  0  0\\n   23.8933   17.1080    1.6421 H   0  0  0  0  0  0  0  0  0  0  0  0\\n  2  1  1  0\\n  3  1  1  0\\n  5  4  1  0\\n  6  4  1  0\\n  8  7  1  0\\n  9  7  1  0\\n 11 10  1  0\\n 12 10  1  0\\n 14 13  1  0\\n 15 13  1  0\\nM  END\\n\",\"sdf\");\n",
       "\tviewer_1709725812082267.addModel(\"\\n     RDKit          3D\\n\\n 15 10  0  0  0  0  0  0  0  0999 V2000\\n   25.9431   18.9552    0.8678 O   0  0  0  0  0  0  0  0  0  0  0  0\\n   25.7950   18.0243    1.1831 H   0  0  0  0  0  0  0  0  0  0  0  0\\n   25.5173   19.4851    1.5945 H   0  0  0  0  0  0  0  0  0  0  0  0\\n   24.0654   19.0532   -0.7688 O   0  0  0  0  0  0  0  0  0  0  0  0\\n   24.9168   19.0706   -0.1876 H   0  0  0  0  0  0  0  0  0  0  0  0\\n   23.9672   19.9442   -1.1421 H   0  0  0  0  0  0  0  0  0  0  0  0\\n   24.1550   20.2268    2.6759 O   0  0  0  0  0  0  0  0  0  0  0  0\\n   24.1548   19.9980    3.6234 H   0  0  0  0  0  0  0  0  0  0  0  0\\n   23.4118   19.6922    2.2934 H   0  0  0  0  0  0  0  0  0  0  0  0\\n   22.6550   18.4132    1.1532 O   0  0  0  0  0  0  0  0  0  0  0  0\\n   21.7576   17.9824    0.8892 H   0  0  0  0  0  0  0  0  0  0  0  0\\n   23.1043   18.7017    0.2701 H   0  0  0  0  0  0  0  0  0  0  0  0\\n   24.7081   16.5587    1.8402 O   0  0  0  0  0  0  0  0  0  0  0  0\\n   24.6424   15.8207    1.2041 H   0  0  0  0  0  0  0  0  0  0  0  0\\n   23.9027   17.1198    1.6456 H   0  0  0  0  0  0  0  0  0  0  0  0\\n  2  1  1  0\\n  3  1  1  0\\n  5  4  1  0\\n  6  4  1  0\\n  8  7  1  0\\n  9  7  1  0\\n 11 10  1  0\\n 12 10  1  0\\n 14 13  1  0\\n 15 13  1  0\\nM  END\\n\",\"sdf\");\n",
       "\tviewer_1709725812082267.addModel(\"\\n     RDKit          3D\\n\\n 15 10  0  0  0  0  0  0  0  0999 V2000\\n   25.9371   18.9573    0.8560 O   0  0  0  0  0  0  0  0  0  0  0  0\\n   25.8009   18.0235    1.1721 H   0  0  0  0  0  0  0  0  0  0  0  0\\n   25.5155   19.4816    1.5906 H   0  0  0  0  0  0  0  0  0  0  0  0\\n   24.0669   19.0495   -0.7517 O   0  0  0  0  0  0  0  0  0  0  0  0\\n   24.9216   19.0696   -0.1717 H   0  0  0  0  0  0  0  0  0  0  0  0\\n   23.9657   19.9378   -1.1314 H   0  0  0  0  0  0  0  0  0  0  0  0\\n   24.1554   20.2282    2.6787 O   0  0  0  0  0  0  0  0  0  0  0  0\\n   24.1415   20.0029    3.6283 H   0  0  0  0  0  0  0  0  0  0  0  0\\n   23.4033   19.7054    2.2935 H   0  0  0  0  0  0  0  0  0  0  0  0\\n   22.6576   18.4206    1.1440 O   0  0  0  0  0  0  0  0  0  0  0  0\\n   21.7694   17.9364    0.8593 H   0  0  0  0  0  0  0  0  0  0  0  0\\n   23.1149   18.7062    0.2612 H   0  0  0  0  0  0  0  0  0  0  0  0\\n   24.7093   16.5531    1.8429 O   0  0  0  0  0  0  0  0  0  0  0  0\\n   24.6300   15.8209    1.1985 H   0  0  0  0  0  0  0  0  0  0  0  0\\n   23.9120   17.1315    1.6492 H   0  0  0  0  0  0  0  0  0  0  0  0\\n  2  1  1  0\\n  3  1  1  0\\n  5  4  1  0\\n  6  4  1  0\\n  8  7  1  0\\n  9  7  1  0\\n 11 10  1  0\\n 12 10  1  0\\n 14 13  1  0\\n 15 13  1  0\\nM  END\\n\",\"sdf\");\n",
       "\tviewer_1709725812082267.addModel(\"\\n     RDKit          3D\\n\\n 15 10  0  0  0  0  0  0  0  0999 V2000\\n   25.9311   18.9593    0.8443 O   0  0  0  0  0  0  0  0  0  0  0  0\\n   25.8069   18.0228    1.1612 H   0  0  0  0  0  0  0  0  0  0  0  0\\n   25.5136   19.4782    1.5868 H   0  0  0  0  0  0  0  0  0  0  0  0\\n   24.0684   19.0458   -0.7346 O   0  0  0  0  0  0  0  0  0  0  0  0\\n   24.9265   19.0686   -0.1558 H   0  0  0  0  0  0  0  0  0  0  0  0\\n   23.9642   19.9313   -1.1207 H   0  0  0  0  0  0  0  0  0  0  0  0\\n   24.1559   20.2295    2.6814 O   0  0  0  0  0  0  0  0  0  0  0  0\\n   24.1282   20.0078    3.6331 H   0  0  0  0  0  0  0  0  0  0  0  0\\n   23.3949   19.7186    2.2937 H   0  0  0  0  0  0  0  0  0  0  0  0\\n   22.6601   18.4280    1.1348 O   0  0  0  0  0  0  0  0  0  0  0  0\\n   21.7813   17.8904    0.8294 H   0  0  0  0  0  0  0  0  0  0  0  0\\n   23.1255   18.7107    0.2523 H   0  0  0  0  0  0  0  0  0  0  0  0\\n   24.7105   16.5474    1.8455 O   0  0  0  0  0  0  0  0  0  0  0  0\\n   24.6176   15.8211    1.1930 H   0  0  0  0  0  0  0  0  0  0  0  0\\n   23.9213   17.1432    1.6527 H   0  0  0  0  0  0  0  0  0  0  0  0\\n  2  1  1  0\\n  3  1  1  0\\n  5  4  1  0\\n  6  4  1  0\\n  8  7  1  0\\n  9  7  1  0\\n 11 10  1  0\\n 12 10  1  0\\n 14 13  1  0\\n 15 13  1  0\\nM  END\\n\",\"sdf\");\n",
       "\tviewer_1709725812082267.addModel(\"\\n     RDKit          3D\\n\\n 15 10  0  0  0  0  0  0  0  0999 V2000\\n   25.9251   18.9614    0.8326 O   0  0  0  0  0  0  0  0  0  0  0  0\\n   25.8129   18.0220    1.1502 H   0  0  0  0  0  0  0  0  0  0  0  0\\n   25.5117   19.4748    1.5830 H   0  0  0  0  0  0  0  0  0  0  0  0\\n   24.0700   19.0421   -0.7175 O   0  0  0  0  0  0  0  0  0  0  0  0\\n   24.9313   19.0677   -0.1399 H   0  0  0  0  0  0  0  0  0  0  0  0\\n   23.9627   19.9249   -1.1099 H   0  0  0  0  0  0  0  0  0  0  0  0\\n   24.1564   20.2308    2.6841 O   0  0  0  0  0  0  0  0  0  0  0  0\\n   24.1148   20.0127    3.6380 H   0  0  0  0  0  0  0  0  0  0  0  0\\n   23.3864   19.7318    2.2938 H   0  0  0  0  0  0  0  0  0  0  0  0\\n   22.6626   18.4354    1.1255 O   0  0  0  0  0  0  0  0  0  0  0  0\\n   21.7931   17.8444    0.7995 H   0  0  0  0  0  0  0  0  0  0  0  0\\n   23.1361   18.7152    0.2434 H   0  0  0  0  0  0  0  0  0  0  0  0\\n   24.7116   16.5418    1.8481 O   0  0  0  0  0  0  0  0  0  0  0  0\\n   24.6052   15.8213    1.1874 H   0  0  0  0  0  0  0  0  0  0  0  0\\n   23.9307   17.1550    1.6562 H   0  0  0  0  0  0  0  0  0  0  0  0\\n  2  1  1  0\\n  3  1  1  0\\n  5  4  1  0\\n  6  4  1  0\\n  8  7  1  0\\n  9  7  1  0\\n 11 10  1  0\\n 12 10  1  0\\n 14 13  1  0\\n 15 13  1  0\\nM  END\\n\",\"sdf\");\n",
       "\tviewer_1709725812082267.addModel(\"\\n     RDKit          3D\\n\\n 15 10  0  0  0  0  0  0  0  0999 V2000\\n   25.9851   18.9408    0.9499 O   0  0  0  0  0  0  0  0  0  0  0  0\\n   25.7531   18.0296    1.2598 H   0  0  0  0  0  0  0  0  0  0  0  0\\n   25.5304   19.5091    1.6214 H   0  0  0  0  0  0  0  0  0  0  0  0\\n   24.0547   19.0790   -0.8886 O   0  0  0  0  0  0  0  0  0  0  0  0\\n   24.8829   19.0775   -0.2988 H   0  0  0  0  0  0  0  0  0  0  0  0\\n   23.9776   19.9894   -1.2173 H   0  0  0  0  0  0  0  0  0  0  0  0\\n   24.1518   20.2176    2.6569 O   0  0  0  0  0  0  0  0  0  0  0  0\\n   24.2481   19.9637    3.5892 H   0  0  0  0  0  0  0  0  0  0  0  0\\n   23.4710   19.5996    2.2924 H   0  0  0  0  0  0  0  0  0  0  0  0\\n   22.6373   18.3614    1.2178 O   0  0  0  0  0  0  0  0  0  0  0  0\\n   21.6746   18.3042    1.0985 H   0  0  0  0  0  0  0  0  0  0  0  0\\n   23.0301   18.6701    0.3325 H   0  0  0  0  0  0  0  0  0  0  0  0\\n   24.6999   16.5982    1.8219 O   0  0  0  0  0  0  0  0  0  0  0  0\\n   24.7291   15.8192    1.2432 H   0  0  0  0  0  0  0  0  0  0  0  0\\n   23.8373   17.0376    1.6209 H   0  0  0  0  0  0  0  0  0  0  0  0\\n  2  1  1  0\\n  3  1  1  0\\n  5  4  1  0\\n  6  4  1  0\\n  8  7  1  0\\n  9  7  1  0\\n 11 10  1  0\\n 12 10  1  0\\n 14 13  1  0\\n 15 13  1  0\\nM  END\\n\",\"sdf\");\n",
       "\tviewer_1709725812082267.addModel(\"\\n     RDKit          3D\\n\\n 15 10  0  0  0  0  0  0  0  0999 V2000\\n   25.9911   18.9387    0.9616 O   0  0  0  0  0  0  0  0  0  0  0  0\\n   25.7471   18.0304    1.2707 H   0  0  0  0  0  0  0  0  0  0  0  0\\n   25.5323   19.5125    1.6252 H   0  0  0  0  0  0  0  0  0  0  0  0\\n   24.0532   19.0827   -0.9057 O   0  0  0  0  0  0  0  0  0  0  0  0\\n   24.8780   19.0785   -0.3147 H   0  0  0  0  0  0  0  0  0  0  0  0\\n   23.9791   19.9959   -1.2280 H   0  0  0  0  0  0  0  0  0  0  0  0\\n   24.1513   20.2163    2.6541 O   0  0  0  0  0  0  0  0  0  0  0  0\\n   24.2614   19.9588    3.5843 H   0  0  0  0  0  0  0  0  0  0  0  0\\n   23.4794   19.5864    2.2923 H   0  0  0  0  0  0  0  0  0  0  0  0\\n   22.6348   18.3540    1.2270 O   0  0  0  0  0  0  0  0  0  0  0  0\\n   21.6627   18.3502    1.1284 H   0  0  0  0  0  0  0  0  0  0  0  0\\n   23.0195   18.6656    0.3414 H   0  0  0  0  0  0  0  0  0  0  0  0\\n   24.6988   16.6039    1.8192 O   0  0  0  0  0  0  0  0  0  0  0  0\\n   24.7415   15.8190    1.2488 H   0  0  0  0  0  0  0  0  0  0  0  0\\n   23.8280   17.0258    1.6174 H   0  0  0  0  0  0  0  0  0  0  0  0\\n  2  1  1  0\\n  3  1  1  0\\n  5  4  1  0\\n  6  4  1  0\\n  8  7  1  0\\n  9  7  1  0\\n 11 10  1  0\\n 12 10  1  0\\n 14 13  1  0\\n 15 13  1  0\\nM  END\\n\",\"sdf\");\n",
       "\tviewer_1709725812082267.addModel(\"\\n     RDKit          3D\\n\\n 15 10  0  0  0  0  0  0  0  0999 V2000\\n   25.9971   18.9367    0.9733 O   0  0  0  0  0  0  0  0  0  0  0  0\\n   25.7411   18.0312    1.2817 H   0  0  0  0  0  0  0  0  0  0  0  0\\n   25.5342   19.5159    1.6291 H   0  0  0  0  0  0  0  0  0  0  0  0\\n   24.0517   19.0864   -0.9228 O   0  0  0  0  0  0  0  0  0  0  0  0\\n   24.8732   19.0795   -0.3306 H   0  0  0  0  0  0  0  0  0  0  0  0\\n   23.9806   20.0023   -1.2388 H   0  0  0  0  0  0  0  0  0  0  0  0\\n   24.1509   20.2150    2.6514 O   0  0  0  0  0  0  0  0  0  0  0  0\\n   24.2747   19.9539    3.5794 H   0  0  0  0  0  0  0  0  0  0  0  0\\n   23.4879   19.5732    2.2922 H   0  0  0  0  0  0  0  0  0  0  0  0\\n   22.6323   18.3466    1.2362 O   0  0  0  0  0  0  0  0  0  0  0  0\\n   21.6509   18.3962    1.1583 H   0  0  0  0  0  0  0  0  0  0  0  0\\n   23.0089   18.6611    0.3503 H   0  0  0  0  0  0  0  0  0  0  0  0\\n   24.6976   16.6095    1.8166 O   0  0  0  0  0  0  0  0  0  0  0  0\\n   24.7539   15.8188    1.2544 H   0  0  0  0  0  0  0  0  0  0  0  0\\n   23.8187   17.0141    1.6138 H   0  0  0  0  0  0  0  0  0  0  0  0\\n  2  1  1  0\\n  3  1  1  0\\n  5  4  1  0\\n  6  4  1  0\\n  8  7  1  0\\n  9  7  1  0\\n 11 10  1  0\\n 12 10  1  0\\n 14 13  1  0\\n 15 13  1  0\\nM  END\\n\",\"sdf\");\n",
       "\tviewer_1709725812082267.addModel(\"\\n     RDKit          3D\\n\\n 15 10  0  0  0  0  0  0  0  0999 V2000\\n   26.0031   18.9346    0.9850 O   0  0  0  0  0  0  0  0  0  0  0  0\\n   25.7351   18.0319    1.2927 H   0  0  0  0  0  0  0  0  0  0  0  0\\n   25.5360   19.5194    1.6329 H   0  0  0  0  0  0  0  0  0  0  0  0\\n   24.0501   19.0901   -0.9399 O   0  0  0  0  0  0  0  0  0  0  0  0\\n   24.8683   19.0805   -0.3465 H   0  0  0  0  0  0  0  0  0  0  0  0\\n   23.9820   20.0088   -1.2495 H   0  0  0  0  0  0  0  0  0  0  0  0\\n   24.1504   20.2137    2.6487 O   0  0  0  0  0  0  0  0  0  0  0  0\\n   24.2880   19.9490    3.5745 H   0  0  0  0  0  0  0  0  0  0  0  0\\n   23.4963   19.5599    2.2920 H   0  0  0  0  0  0  0  0  0  0  0  0\\n   22.6297   18.3392    1.2454 O   0  0  0  0  0  0  0  0  0  0  0  0\\n   21.6390   18.4422    1.1882 H   0  0  0  0  0  0  0  0  0  0  0  0\\n   22.9983   18.6566    0.3592 H   0  0  0  0  0  0  0  0  0  0  0  0\\n   24.6964   16.6152    1.8140 O   0  0  0  0  0  0  0  0  0  0  0  0\\n   24.7663   15.8186    1.2600 H   0  0  0  0  0  0  0  0  0  0  0  0\\n   23.8094   17.0023    1.6103 H   0  0  0  0  0  0  0  0  0  0  0  0\\n  2  1  1  0\\n  3  1  1  0\\n  5  4  1  0\\n  6  4  1  0\\n  8  7  1  0\\n  9  7  1  0\\n 11 10  1  0\\n 12 10  1  0\\n 14 13  1  0\\n 15 13  1  0\\nM  END\\n\",\"sdf\");\n",
       "\tviewer_1709725812082267.addModel(\"\\n     RDKit          3D\\n\\n 15 10  0  0  0  0  0  0  0  0999 V2000\\n   26.0091   18.9326    0.9968 O   0  0  0  0  0  0  0  0  0  0  0  0\\n   25.7291   18.0327    1.3036 H   0  0  0  0  0  0  0  0  0  0  0  0\\n   25.5379   19.5228    1.6368 H   0  0  0  0  0  0  0  0  0  0  0  0\\n   24.0486   19.0938   -0.9570 O   0  0  0  0  0  0  0  0  0  0  0  0\\n   24.8635   19.0815   -0.3624 H   0  0  0  0  0  0  0  0  0  0  0  0\\n   23.9835   20.0152   -1.2602 H   0  0  0  0  0  0  0  0  0  0  0  0\\n   24.1500   20.2124    2.6460 O   0  0  0  0  0  0  0  0  0  0  0  0\\n   24.3014   19.9441    3.5696 H   0  0  0  0  0  0  0  0  0  0  0  0\\n   23.5048   19.5467    2.2919 H   0  0  0  0  0  0  0  0  0  0  0  0\\n   22.6272   18.3317    1.2547 O   0  0  0  0  0  0  0  0  0  0  0  0\\n   21.6272   18.4882    1.2181 H   0  0  0  0  0  0  0  0  0  0  0  0\\n   22.9877   18.6521    0.3681 H   0  0  0  0  0  0  0  0  0  0  0  0\\n   24.6952   16.6208    1.8113 O   0  0  0  0  0  0  0  0  0  0  0  0\\n   24.7787   15.8184    1.2656 H   0  0  0  0  0  0  0  0  0  0  0  0\\n   23.8000   16.9906    1.6068 H   0  0  0  0  0  0  0  0  0  0  0  0\\n  2  1  1  0\\n  3  1  1  0\\n  5  4  1  0\\n  6  4  1  0\\n  8  7  1  0\\n  9  7  1  0\\n 11 10  1  0\\n 12 10  1  0\\n 14 13  1  0\\n 15 13  1  0\\nM  END\\n\",\"sdf\");\n",
       "\tviewer_1709725812082267.addModel(\"\\n     RDKit          3D\\n\\n 15 10  0  0  0  0  0  0  0  0999 V2000\\n   26.0151   18.9305    1.0085 O   0  0  0  0  0  0  0  0  0  0  0  0\\n   25.7231   18.0335    1.3146 H   0  0  0  0  0  0  0  0  0  0  0  0\\n   25.5398   19.5262    1.6406 H   0  0  0  0  0  0  0  0  0  0  0  0\\n   24.0471   19.0975   -0.9741 O   0  0  0  0  0  0  0  0  0  0  0  0\\n   24.8586   19.0825   -0.3783 H   0  0  0  0  0  0  0  0  0  0  0  0\\n   23.9850   20.0217   -1.2710 H   0  0  0  0  0  0  0  0  0  0  0  0\\n   24.1495   20.2111    2.6432 O   0  0  0  0  0  0  0  0  0  0  0  0\\n   24.3147   19.9392    3.5647 H   0  0  0  0  0  0  0  0  0  0  0  0\\n   23.5132   19.5335    2.2918 H   0  0  0  0  0  0  0  0  0  0  0  0\\n   22.6247   18.3243    1.2639 O   0  0  0  0  0  0  0  0  0  0  0  0\\n   21.6153   18.5342    1.2480 H   0  0  0  0  0  0  0  0  0  0  0  0\\n   22.9771   18.6476    0.3770 H   0  0  0  0  0  0  0  0  0  0  0  0\\n   24.6941   16.6264    1.8087 O   0  0  0  0  0  0  0  0  0  0  0  0\\n   24.7911   15.8182    1.2712 H   0  0  0  0  0  0  0  0  0  0  0  0\\n   23.7907   16.9788    1.6032 H   0  0  0  0  0  0  0  0  0  0  0  0\\n  2  1  1  0\\n  3  1  1  0\\n  5  4  1  0\\n  6  4  1  0\\n  8  7  1  0\\n  9  7  1  0\\n 11 10  1  0\\n 12 10  1  0\\n 14 13  1  0\\n 15 13  1  0\\nM  END\\n\",\"sdf\");\n",
       "\tviewer_1709725812082267.addModel(\"\\n     RDKit          3D\\n\\n 15 10  0  0  0  0  0  0  0  0999 V2000\\n   26.0211   18.9284    1.0202 O   0  0  0  0  0  0  0  0  0  0  0  0\\n   25.7172   18.0342    1.3255 H   0  0  0  0  0  0  0  0  0  0  0  0\\n   25.5417   19.5296    1.6445 H   0  0  0  0  0  0  0  0  0  0  0  0\\n   24.0456   19.1011   -0.9913 O   0  0  0  0  0  0  0  0  0  0  0  0\\n   24.8538   19.0835   -0.3942 H   0  0  0  0  0  0  0  0  0  0  0  0\\n   23.9865   20.0281   -1.2817 H   0  0  0  0  0  0  0  0  0  0  0  0\\n   24.1490   20.2097    2.6405 O   0  0  0  0  0  0  0  0  0  0  0  0\\n   24.3280   19.9343    3.5598 H   0  0  0  0  0  0  0  0  0  0  0  0\\n   23.5217   19.5203    2.2916 H   0  0  0  0  0  0  0  0  0  0  0  0\\n   22.6221   18.3169    1.2731 O   0  0  0  0  0  0  0  0  0  0  0  0\\n   21.6035   18.5801    1.2779 H   0  0  0  0  0  0  0  0  0  0  0  0\\n   22.9665   18.6431    0.3859 H   0  0  0  0  0  0  0  0  0  0  0  0\\n   24.6929   16.6321    1.8061 O   0  0  0  0  0  0  0  0  0  0  0  0\\n   24.8035   15.8180    1.2768 H   0  0  0  0  0  0  0  0  0  0  0  0\\n   23.7814   16.9671    1.5997 H   0  0  0  0  0  0  0  0  0  0  0  0\\n  2  1  1  0\\n  3  1  1  0\\n  5  4  1  0\\n  6  4  1  0\\n  8  7  1  0\\n  9  7  1  0\\n 11 10  1  0\\n 12 10  1  0\\n 14 13  1  0\\n 15 13  1  0\\nM  END\\n\",\"sdf\");\n",
       "\tviewer_1709725812082267.addModel(\"\\n     RDKit          3D\\n\\n 15 10  0  0  0  0  0  0  0  0999 V2000\\n   26.0271   18.9264    1.0320 O   0  0  0  0  0  0  0  0  0  0  0  0\\n   25.7112   18.0350    1.3365 H   0  0  0  0  0  0  0  0  0  0  0  0\\n   25.5435   19.5331    1.6483 H   0  0  0  0  0  0  0  0  0  0  0  0\\n   24.0440   19.1048   -1.0084 O   0  0  0  0  0  0  0  0  0  0  0  0\\n   24.8489   19.0844   -0.4101 H   0  0  0  0  0  0  0  0  0  0  0  0\\n   23.9880   20.0346   -1.2924 H   0  0  0  0  0  0  0  0  0  0  0  0\\n   24.1486   20.2084    2.6378 O   0  0  0  0  0  0  0  0  0  0  0  0\\n   24.3413   19.9294    3.5549 H   0  0  0  0  0  0  0  0  0  0  0  0\\n   23.5301   19.5070    2.2915 H   0  0  0  0  0  0  0  0  0  0  0  0\\n   22.6196   18.3095    1.2823 O   0  0  0  0  0  0  0  0  0  0  0  0\\n   21.5916   18.6261    1.3079 H   0  0  0  0  0  0  0  0  0  0  0  0\\n   22.9559   18.6386    0.3948 H   0  0  0  0  0  0  0  0  0  0  0  0\\n   24.6917   16.6377    1.8035 O   0  0  0  0  0  0  0  0  0  0  0  0\\n   24.8159   15.8178    1.2824 H   0  0  0  0  0  0  0  0  0  0  0  0\\n   23.7720   16.9554    1.5962 H   0  0  0  0  0  0  0  0  0  0  0  0\\n  2  1  1  0\\n  3  1  1  0\\n  5  4  1  0\\n  6  4  1  0\\n  8  7  1  0\\n  9  7  1  0\\n 11 10  1  0\\n 12 10  1  0\\n 14 13  1  0\\n 15 13  1  0\\nM  END\\n\",\"sdf\");\n",
       "\tviewer_1709725812082267.addModel(\"\\n     RDKit          3D\\n\\n 15 10  0  0  0  0  0  0  0  0999 V2000\\n   26.0331   18.9243    1.0437 O   0  0  0  0  0  0  0  0  0  0  0  0\\n   25.7052   18.0357    1.3474 H   0  0  0  0  0  0  0  0  0  0  0  0\\n   25.5454   19.5365    1.6522 H   0  0  0  0  0  0  0  0  0  0  0  0\\n   24.0425   19.1085   -1.0255 O   0  0  0  0  0  0  0  0  0  0  0  0\\n   24.8441   19.0854   -0.4260 H   0  0  0  0  0  0  0  0  0  0  0  0\\n   23.9895   20.0410   -1.3032 H   0  0  0  0  0  0  0  0  0  0  0  0\\n   24.1481   20.2071    2.6350 O   0  0  0  0  0  0  0  0  0  0  0  0\\n   24.3547   19.9245    3.5501 H   0  0  0  0  0  0  0  0  0  0  0  0\\n   23.5386   19.4938    2.2913 H   0  0  0  0  0  0  0  0  0  0  0  0\\n   22.6171   18.3021    1.2916 O   0  0  0  0  0  0  0  0  0  0  0  0\\n   21.5798   18.6721    1.3378 H   0  0  0  0  0  0  0  0  0  0  0  0\\n   22.9453   18.6341    0.4037 H   0  0  0  0  0  0  0  0  0  0  0  0\\n   24.6906   16.6434    1.8008 O   0  0  0  0  0  0  0  0  0  0  0  0\\n   24.8283   15.8176    1.2880 H   0  0  0  0  0  0  0  0  0  0  0  0\\n   23.7627   16.9436    1.5926 H   0  0  0  0  0  0  0  0  0  0  0  0\\n  2  1  1  0\\n  3  1  1  0\\n  5  4  1  0\\n  6  4  1  0\\n  8  7  1  0\\n  9  7  1  0\\n 11 10  1  0\\n 12 10  1  0\\n 14 13  1  0\\n 15 13  1  0\\nM  END\\n\",\"sdf\");\n",
       "\tviewer_1709725812082267.setStyle({\"stick\": {\"radius\": \"0.1\"}});\n",
       "\tviewer_1709725812082267.setBackgroundColor(\"0xeeeeee\");\n",
       "\tviewer_1709725812082267.zoomTo();\n",
       "viewer_1709725812082267.render();\n",
       "});\n",
       "</script>"
      ]
     },
     "metadata": {},
     "output_type": "display_data"
    }
   ],
   "source": [
    "print(\"This shows all structures within the normal mode, \", selected)\n",
    "print(\"We overlay the structures to show the range of motion of O atoms (red) and H atoms (white).\")\n",
    "print(\"The number of overlaid structures: \", len(ftraj_all[str(selected)]))\n",
    "viewer=prepare_view(ftraj_all[str(selected)])\n",
    "viewer.show()\n",
    "p1=viewer"
   ]
  },
  {
   "cell_type": "code",
   "execution_count": 7,
   "metadata": {},
   "outputs": [
    {
     "name": "stdout",
     "output_type": "stream",
     "text": [
      "Use the slider to see how atoms move along the selected normal mode\n"
     ]
    },
    {
     "data": {
      "application/vnd.jupyter.widget-view+json": {
       "model_id": "01c1ec1b101e48969324d99b1811bcee",
       "version_major": 2,
       "version_minor": 0
      },
      "text/plain": [
       "interactive(children=(IntSlider(value=0, description='idx', max=8, min=-9), Output()), _dom_classes=('widget-i…"
      ]
     },
     "metadata": {},
     "output_type": "display_data"
    },
    {
     "data": {
      "text/plain": [
       "<function __main__.mol_viewer(idx)>"
      ]
     },
     "execution_count": 7,
     "metadata": {},
     "output_type": "execute_result"
    }
   ],
   "source": [
    "print(\"Use the slider to see how atoms move along the selected normal mode\")\n",
    "\n",
    "geoms=ftraj_all[str(selected)]\n",
    "\n",
    "def mol_viewer(idx):\n",
    "    mol = geoms[idx]\n",
    "    return prepare_view_single(mol).show()\n",
    "\n",
    "minv=min(geoms)\n",
    "maxv=max(geoms)-1\n",
    "\n",
    "p2=interact(mol_viewer, idx=ipywidgets.IntSlider(min=minv,max=maxv, step=1))\n",
    "p2"
   ]
  },
  {
   "cell_type": "markdown",
   "metadata": {},
   "source": [
    "### Example 1: normal mode #20"
   ]
  },
  {
   "cell_type": "code",
   "execution_count": 8,
   "metadata": {},
   "outputs": [
    {
     "name": "stdout",
     "output_type": "stream",
     "text": [
      "This shows all structures within the normal mode 20.\n",
      "We overlay the structures to show the range of motion of O atoms (red) and H atoms (white).\n",
      "The number of overlaid structures:  19\n"
     ]
    },
    {
     "data": {
      "application/3dmoljs_load.v0": "<div id=\"3dmolviewer_17097258121752927\"  style=\"position: relative; width: 400px; height: 400px;\">\n        <p id=\"3dmolwarning_17097258121752927\" style=\"background-color:#ffcccc;color:black\">You appear to be running in JupyterLab (or JavaScript failed to load for some other reason).  You need to install the 3dmol extension: <br>\n        <tt>jupyter labextension install jupyterlab_3dmol</tt></p>\n        </div>\n<script>\n\nvar loadScriptAsync = function(uri){\n  return new Promise((resolve, reject) => {\n    //this is to ignore the existence of requirejs amd\n    var savedexports, savedmodule;\n    if (typeof exports !== 'undefined') savedexports = exports;\n    else exports = {}\n    if (typeof module !== 'undefined') savedmodule = module;\n    else module = {}\n\n    var tag = document.createElement('script');\n    tag.src = uri;\n    tag.async = true;\n    tag.onload = () => {\n        exports = savedexports;\n        module = savedmodule;\n        resolve();\n    };\n  var firstScriptTag = document.getElementsByTagName('script')[0];\n  firstScriptTag.parentNode.insertBefore(tag, firstScriptTag);\n});\n};\n\nif(typeof $3Dmolpromise === 'undefined') {\n$3Dmolpromise = null;\n  $3Dmolpromise = loadScriptAsync('https://cdnjs.cloudflare.com/ajax/libs/3Dmol/2.0.4/3Dmol-min.js');\n}\n\nvar viewer_17097258121752927 = null;\nvar warn = document.getElementById(\"3dmolwarning_17097258121752927\");\nif(warn) {\n    warn.parentNode.removeChild(warn);\n}\n$3Dmolpromise.then(function() {\nviewer_17097258121752927 = $3Dmol.createViewer(document.getElementById(\"3dmolviewer_17097258121752927\"),{backgroundColor:\"white\"});\nviewer_17097258121752927.zoomTo();\n\tviewer_17097258121752927.removeAllModels();\n\tviewer_17097258121752927.addModel(\"\\n     RDKit          3D\\n\\n 15 10  0  0  0  0  0  0  0  0999 V2000\\n   25.9791   18.9429    0.9381 O   0  0  0  0  0  0  0  0  0  0  0  0\\n   25.7590   18.0289    1.2488 H   0  0  0  0  0  0  0  0  0  0  0  0\\n   25.5286   19.5056    1.6176 H   0  0  0  0  0  0  0  0  0  0  0  0\\n   24.0562   19.0753   -0.8715 O   0  0  0  0  0  0  0  0  0  0  0  0\\n   24.8877   19.0765   -0.2829 H   0  0  0  0  0  0  0  0  0  0  0  0\\n   23.9761   19.9829   -1.2066 H   0  0  0  0  0  0  0  0  0  0  0  0\\n   24.1522   20.2189    2.6596 O   0  0  0  0  0  0  0  0  0  0  0  0\\n   24.2347   19.9686    3.5940 H   0  0  0  0  0  0  0  0  0  0  0  0\\n   23.4625   19.6128    2.2926 H   0  0  0  0  0  0  0  0  0  0  0  0\\n   22.6398   18.3688    1.2086 O   0  0  0  0  0  0  0  0  0  0  0  0\\n   21.6864   18.2583    1.0686 H   0  0  0  0  0  0  0  0  0  0  0  0\\n   23.0407   18.6746    0.3236 H   0  0  0  0  0  0  0  0  0  0  0  0\\n   24.7011   16.5926    1.8245 O   0  0  0  0  0  0  0  0  0  0  0  0\\n   24.7167   15.8194    1.2377 H   0  0  0  0  0  0  0  0  0  0  0  0\\n   23.8467   17.0493    1.6244 H   0  0  0  0  0  0  0  0  0  0  0  0\\n  2  1  1  0\\n  3  1  1  0\\n  5  4  1  0\\n  6  4  1  0\\n  8  7  1  0\\n  9  7  1  0\\n 11 10  1  0\\n 12 10  1  0\\n 14 13  1  0\\n 15 13  1  0\\nM  END\\n\",\"sdf\");\n\tviewer_17097258121752927.addModel(\"\\n     RDKit          3D\\n\\n 15 10  0  0  0  0  0  0  0  0999 V2000\\n   25.9731   18.9449    0.9264 O   0  0  0  0  0  0  0  0  0  0  0  0\\n   25.7650   18.0281    1.2379 H   0  0  0  0  0  0  0  0  0  0  0  0\\n   25.5267   19.5022    1.6137 H   0  0  0  0  0  0  0  0  0  0  0  0\\n   24.0578   19.0716   -0.8544 O   0  0  0  0  0  0  0  0  0  0  0  0\\n   24.8925   19.0756   -0.2670 H   0  0  0  0  0  0  0  0  0  0  0  0\\n   23.9746   19.9765   -1.1958 H   0  0  0  0  0  0  0  0  0  0  0  0\\n   24.1527   20.2203    2.6623 O   0  0  0  0  0  0  0  0  0  0  0  0\\n   24.2214   19.9735    3.5989 H   0  0  0  0  0  0  0  0  0  0  0  0\\n   23.4540   19.6260    2.2927 H   0  0  0  0  0  0  0  0  0  0  0  0\\n   22.6424   18.3762    1.1993 O   0  0  0  0  0  0  0  0  0  0  0  0\\n   21.6983   18.2123    1.0387 H   0  0  0  0  0  0  0  0  0  0  0  0\\n   23.0513   18.6792    0.3147 H   0  0  0  0  0  0  0  0  0  0  0  0\\n   24.7023   16.5869    1.8271 O   0  0  0  0  0  0  0  0  0  0  0  0\\n   24.7043   15.8196    1.2321 H   0  0  0  0  0  0  0  0  0  0  0  0\\n   23.8560   17.0610    1.6280 H   0  0  0  0  0  0  0  0  0  0  0  0\\n  2  1  1  0\\n  3  1  1  0\\n  5  4  1  0\\n  6  4  1  0\\n  8  7  1  0\\n  9  7  1  0\\n 11 10  1  0\\n 12 10  1  0\\n 14 13  1  0\\n 15 13  1  0\\nM  END\\n\",\"sdf\");\n\tviewer_17097258121752927.addModel(\"\\n     RDKit          3D\\n\\n 15 10  0  0  0  0  0  0  0  0999 V2000\\n   25.9671   18.9470    0.9147 O   0  0  0  0  0  0  0  0  0  0  0  0\\n   25.7710   18.0274    1.2269 H   0  0  0  0  0  0  0  0  0  0  0  0\\n   25.5248   19.4988    1.6099 H   0  0  0  0  0  0  0  0  0  0  0  0\\n   24.0593   19.0680   -0.8373 O   0  0  0  0  0  0  0  0  0  0  0  0\\n   24.8974   19.0746   -0.2511 H   0  0  0  0  0  0  0  0  0  0  0  0\\n   23.9731   19.9700   -1.1851 H   0  0  0  0  0  0  0  0  0  0  0  0\\n   24.1532   20.2216    2.6650 O   0  0  0  0  0  0  0  0  0  0  0  0\\n   24.2081   19.9784    3.6038 H   0  0  0  0  0  0  0  0  0  0  0  0\\n   23.4456   19.6393    2.2928 H   0  0  0  0  0  0  0  0  0  0  0  0\\n   22.6449   18.3836    1.1901 O   0  0  0  0  0  0  0  0  0  0  0  0\\n   21.7101   18.1663    1.0088 H   0  0  0  0  0  0  0  0  0  0  0  0\\n   23.0619   18.6837    0.3058 H   0  0  0  0  0  0  0  0  0  0  0  0\\n   24.7034   16.5813    1.8297 O   0  0  0  0  0  0  0  0  0  0  0  0\\n   24.6919   15.8198    1.2265 H   0  0  0  0  0  0  0  0  0  0  0  0\\n   23.8653   17.0728    1.6315 H   0  0  0  0  0  0  0  0  0  0  0  0\\n  2  1  1  0\\n  3  1  1  0\\n  5  4  1  0\\n  6  4  1  0\\n  8  7  1  0\\n  9  7  1  0\\n 11 10  1  0\\n 12 10  1  0\\n 14 13  1  0\\n 15 13  1  0\\nM  END\\n\",\"sdf\");\n\tviewer_17097258121752927.addModel(\"\\n     RDKit          3D\\n\\n 15 10  0  0  0  0  0  0  0  0999 V2000\\n   25.9611   18.9490    0.9029 O   0  0  0  0  0  0  0  0  0  0  0  0\\n   25.7770   18.0266    1.2159 H   0  0  0  0  0  0  0  0  0  0  0  0\\n   25.5229   19.4954    1.6060 H   0  0  0  0  0  0  0  0  0  0  0  0\\n   24.0608   19.0643   -0.8201 O   0  0  0  0  0  0  0  0  0  0  0  0\\n   24.9022   19.0736   -0.2352 H   0  0  0  0  0  0  0  0  0  0  0  0\\n   23.9716   19.9636   -1.1743 H   0  0  0  0  0  0  0  0  0  0  0  0\\n   24.1536   20.2229    2.6678 O   0  0  0  0  0  0  0  0  0  0  0  0\\n   24.1948   19.9833    3.6087 H   0  0  0  0  0  0  0  0  0  0  0  0\\n   23.4371   19.6525    2.2930 H   0  0  0  0  0  0  0  0  0  0  0  0\\n   22.6474   18.3910    1.1809 O   0  0  0  0  0  0  0  0  0  0  0  0\\n   21.7220   18.1203    0.9789 H   0  0  0  0  0  0  0  0  0  0  0  0\\n   23.0725   18.6882    0.2968 H   0  0  0  0  0  0  0  0  0  0  0  0\\n   24.7046   16.5757    1.8324 O   0  0  0  0  0  0  0  0  0  0  0  0\\n   24.6796   15.8200    1.2209 H   0  0  0  0  0  0  0  0  0  0  0  0\\n   23.8747   17.0845    1.6350 H   0  0  0  0  0  0  0  0  0  0  0  0\\n  2  1  1  0\\n  3  1  1  0\\n  5  4  1  0\\n  6  4  1  0\\n  8  7  1  0\\n  9  7  1  0\\n 11 10  1  0\\n 12 10  1  0\\n 14 13  1  0\\n 15 13  1  0\\nM  END\\n\",\"sdf\");\n\tviewer_17097258121752927.addModel(\"\\n     RDKit          3D\\n\\n 15 10  0  0  0  0  0  0  0  0999 V2000\\n   25.9551   18.9511    0.8912 O   0  0  0  0  0  0  0  0  0  0  0  0\\n   25.7830   18.0258    1.2050 H   0  0  0  0  0  0  0  0  0  0  0  0\\n   25.5211   19.4919    1.6022 H   0  0  0  0  0  0  0  0  0  0  0  0\\n   24.0623   19.0606   -0.8030 O   0  0  0  0  0  0  0  0  0  0  0  0\\n   24.9071   19.0726   -0.2193 H   0  0  0  0  0  0  0  0  0  0  0  0\\n   23.9702   19.9571   -1.1636 H   0  0  0  0  0  0  0  0  0  0  0  0\\n   24.1541   20.2242    2.6705 O   0  0  0  0  0  0  0  0  0  0  0  0\\n   24.1815   19.9882    3.6136 H   0  0  0  0  0  0  0  0  0  0  0  0\\n   23.4287   19.6657    2.2931 H   0  0  0  0  0  0  0  0  0  0  0  0\\n   22.6500   18.3984    1.1717 O   0  0  0  0  0  0  0  0  0  0  0  0\\n   21.7339   18.0743    0.9490 H   0  0  0  0  0  0  0  0  0  0  0  0\\n   23.0831   18.6927    0.2879 H   0  0  0  0  0  0  0  0  0  0  0  0\\n   24.7058   16.5700    1.8350 O   0  0  0  0  0  0  0  0  0  0  0  0\\n   24.6672   15.8202    1.2153 H   0  0  0  0  0  0  0  0  0  0  0  0\\n   23.8840   17.0963    1.6386 H   0  0  0  0  0  0  0  0  0  0  0  0\\n  2  1  1  0\\n  3  1  1  0\\n  5  4  1  0\\n  6  4  1  0\\n  8  7  1  0\\n  9  7  1  0\\n 11 10  1  0\\n 12 10  1  0\\n 14 13  1  0\\n 15 13  1  0\\nM  END\\n\",\"sdf\");\n\tviewer_17097258121752927.addModel(\"\\n     RDKit          3D\\n\\n 15 10  0  0  0  0  0  0  0  0999 V2000\\n   25.9491   18.9532    0.8795 O   0  0  0  0  0  0  0  0  0  0  0  0\\n   25.7890   18.0251    1.1940 H   0  0  0  0  0  0  0  0  0  0  0  0\\n   25.5192   19.4885    1.5983 H   0  0  0  0  0  0  0  0  0  0  0  0\\n   24.0639   19.0569   -0.7859 O   0  0  0  0  0  0  0  0  0  0  0  0\\n   24.9119   19.0716   -0.2035 H   0  0  0  0  0  0  0  0  0  0  0  0\\n   23.9687   19.9507   -1.1529 H   0  0  0  0  0  0  0  0  0  0  0  0\\n   24.1545   20.2255    2.6732 O   0  0  0  0  0  0  0  0  0  0  0  0\\n   24.1681   19.9931    3.6185 H   0  0  0  0  0  0  0  0  0  0  0  0\\n   23.4202   19.6789    2.2933 H   0  0  0  0  0  0  0  0  0  0  0  0\\n   22.6525   18.4058    1.1624 O   0  0  0  0  0  0  0  0  0  0  0  0\\n   21.7457   18.0283    0.9191 H   0  0  0  0  0  0  0  0  0  0  0  0\\n   23.0937   18.6972    0.2790 H   0  0  0  0  0  0  0  0  0  0  0  0\\n   24.7070   16.5644    1.8376 O   0  0  0  0  0  0  0  0  0  0  0  0\\n   24.6548   15.8204    1.2097 H   0  0  0  0  0  0  0  0  0  0  0  0\\n   23.8933   17.1080    1.6421 H   0  0  0  0  0  0  0  0  0  0  0  0\\n  2  1  1  0\\n  3  1  1  0\\n  5  4  1  0\\n  6  4  1  0\\n  8  7  1  0\\n  9  7  1  0\\n 11 10  1  0\\n 12 10  1  0\\n 14 13  1  0\\n 15 13  1  0\\nM  END\\n\",\"sdf\");\n\tviewer_17097258121752927.addModel(\"\\n     RDKit          3D\\n\\n 15 10  0  0  0  0  0  0  0  0999 V2000\\n   25.9431   18.9552    0.8678 O   0  0  0  0  0  0  0  0  0  0  0  0\\n   25.7950   18.0243    1.1831 H   0  0  0  0  0  0  0  0  0  0  0  0\\n   25.5173   19.4851    1.5945 H   0  0  0  0  0  0  0  0  0  0  0  0\\n   24.0654   19.0532   -0.7688 O   0  0  0  0  0  0  0  0  0  0  0  0\\n   24.9168   19.0706   -0.1876 H   0  0  0  0  0  0  0  0  0  0  0  0\\n   23.9672   19.9442   -1.1421 H   0  0  0  0  0  0  0  0  0  0  0  0\\n   24.1550   20.2268    2.6759 O   0  0  0  0  0  0  0  0  0  0  0  0\\n   24.1548   19.9980    3.6234 H   0  0  0  0  0  0  0  0  0  0  0  0\\n   23.4118   19.6922    2.2934 H   0  0  0  0  0  0  0  0  0  0  0  0\\n   22.6550   18.4132    1.1532 O   0  0  0  0  0  0  0  0  0  0  0  0\\n   21.7576   17.9824    0.8892 H   0  0  0  0  0  0  0  0  0  0  0  0\\n   23.1043   18.7017    0.2701 H   0  0  0  0  0  0  0  0  0  0  0  0\\n   24.7081   16.5587    1.8402 O   0  0  0  0  0  0  0  0  0  0  0  0\\n   24.6424   15.8207    1.2041 H   0  0  0  0  0  0  0  0  0  0  0  0\\n   23.9027   17.1198    1.6456 H   0  0  0  0  0  0  0  0  0  0  0  0\\n  2  1  1  0\\n  3  1  1  0\\n  5  4  1  0\\n  6  4  1  0\\n  8  7  1  0\\n  9  7  1  0\\n 11 10  1  0\\n 12 10  1  0\\n 14 13  1  0\\n 15 13  1  0\\nM  END\\n\",\"sdf\");\n\tviewer_17097258121752927.addModel(\"\\n     RDKit          3D\\n\\n 15 10  0  0  0  0  0  0  0  0999 V2000\\n   25.9371   18.9573    0.8560 O   0  0  0  0  0  0  0  0  0  0  0  0\\n   25.8009   18.0235    1.1721 H   0  0  0  0  0  0  0  0  0  0  0  0\\n   25.5155   19.4816    1.5906 H   0  0  0  0  0  0  0  0  0  0  0  0\\n   24.0669   19.0495   -0.7517 O   0  0  0  0  0  0  0  0  0  0  0  0\\n   24.9216   19.0696   -0.1717 H   0  0  0  0  0  0  0  0  0  0  0  0\\n   23.9657   19.9378   -1.1314 H   0  0  0  0  0  0  0  0  0  0  0  0\\n   24.1554   20.2282    2.6787 O   0  0  0  0  0  0  0  0  0  0  0  0\\n   24.1415   20.0029    3.6283 H   0  0  0  0  0  0  0  0  0  0  0  0\\n   23.4033   19.7054    2.2935 H   0  0  0  0  0  0  0  0  0  0  0  0\\n   22.6576   18.4206    1.1440 O   0  0  0  0  0  0  0  0  0  0  0  0\\n   21.7694   17.9364    0.8593 H   0  0  0  0  0  0  0  0  0  0  0  0\\n   23.1149   18.7062    0.2612 H   0  0  0  0  0  0  0  0  0  0  0  0\\n   24.7093   16.5531    1.8429 O   0  0  0  0  0  0  0  0  0  0  0  0\\n   24.6300   15.8209    1.1985 H   0  0  0  0  0  0  0  0  0  0  0  0\\n   23.9120   17.1315    1.6492 H   0  0  0  0  0  0  0  0  0  0  0  0\\n  2  1  1  0\\n  3  1  1  0\\n  5  4  1  0\\n  6  4  1  0\\n  8  7  1  0\\n  9  7  1  0\\n 11 10  1  0\\n 12 10  1  0\\n 14 13  1  0\\n 15 13  1  0\\nM  END\\n\",\"sdf\");\n\tviewer_17097258121752927.addModel(\"\\n     RDKit          3D\\n\\n 15 10  0  0  0  0  0  0  0  0999 V2000\\n   25.9311   18.9593    0.8443 O   0  0  0  0  0  0  0  0  0  0  0  0\\n   25.8069   18.0228    1.1612 H   0  0  0  0  0  0  0  0  0  0  0  0\\n   25.5136   19.4782    1.5868 H   0  0  0  0  0  0  0  0  0  0  0  0\\n   24.0684   19.0458   -0.7346 O   0  0  0  0  0  0  0  0  0  0  0  0\\n   24.9265   19.0686   -0.1558 H   0  0  0  0  0  0  0  0  0  0  0  0\\n   23.9642   19.9313   -1.1207 H   0  0  0  0  0  0  0  0  0  0  0  0\\n   24.1559   20.2295    2.6814 O   0  0  0  0  0  0  0  0  0  0  0  0\\n   24.1282   20.0078    3.6331 H   0  0  0  0  0  0  0  0  0  0  0  0\\n   23.3949   19.7186    2.2937 H   0  0  0  0  0  0  0  0  0  0  0  0\\n   22.6601   18.4280    1.1348 O   0  0  0  0  0  0  0  0  0  0  0  0\\n   21.7813   17.8904    0.8294 H   0  0  0  0  0  0  0  0  0  0  0  0\\n   23.1255   18.7107    0.2523 H   0  0  0  0  0  0  0  0  0  0  0  0\\n   24.7105   16.5474    1.8455 O   0  0  0  0  0  0  0  0  0  0  0  0\\n   24.6176   15.8211    1.1930 H   0  0  0  0  0  0  0  0  0  0  0  0\\n   23.9213   17.1432    1.6527 H   0  0  0  0  0  0  0  0  0  0  0  0\\n  2  1  1  0\\n  3  1  1  0\\n  5  4  1  0\\n  6  4  1  0\\n  8  7  1  0\\n  9  7  1  0\\n 11 10  1  0\\n 12 10  1  0\\n 14 13  1  0\\n 15 13  1  0\\nM  END\\n\",\"sdf\");\n\tviewer_17097258121752927.addModel(\"\\n     RDKit          3D\\n\\n 15 10  0  0  0  0  0  0  0  0999 V2000\\n   25.9251   18.9614    0.8326 O   0  0  0  0  0  0  0  0  0  0  0  0\\n   25.8129   18.0220    1.1502 H   0  0  0  0  0  0  0  0  0  0  0  0\\n   25.5117   19.4748    1.5830 H   0  0  0  0  0  0  0  0  0  0  0  0\\n   24.0700   19.0421   -0.7175 O   0  0  0  0  0  0  0  0  0  0  0  0\\n   24.9313   19.0677   -0.1399 H   0  0  0  0  0  0  0  0  0  0  0  0\\n   23.9627   19.9249   -1.1099 H   0  0  0  0  0  0  0  0  0  0  0  0\\n   24.1564   20.2308    2.6841 O   0  0  0  0  0  0  0  0  0  0  0  0\\n   24.1148   20.0127    3.6380 H   0  0  0  0  0  0  0  0  0  0  0  0\\n   23.3864   19.7318    2.2938 H   0  0  0  0  0  0  0  0  0  0  0  0\\n   22.6626   18.4354    1.1255 O   0  0  0  0  0  0  0  0  0  0  0  0\\n   21.7931   17.8444    0.7995 H   0  0  0  0  0  0  0  0  0  0  0  0\\n   23.1361   18.7152    0.2434 H   0  0  0  0  0  0  0  0  0  0  0  0\\n   24.7116   16.5418    1.8481 O   0  0  0  0  0  0  0  0  0  0  0  0\\n   24.6052   15.8213    1.1874 H   0  0  0  0  0  0  0  0  0  0  0  0\\n   23.9307   17.1550    1.6562 H   0  0  0  0  0  0  0  0  0  0  0  0\\n  2  1  1  0\\n  3  1  1  0\\n  5  4  1  0\\n  6  4  1  0\\n  8  7  1  0\\n  9  7  1  0\\n 11 10  1  0\\n 12 10  1  0\\n 14 13  1  0\\n 15 13  1  0\\nM  END\\n\",\"sdf\");\n\tviewer_17097258121752927.addModel(\"\\n     RDKit          3D\\n\\n 15 10  0  0  0  0  0  0  0  0999 V2000\\n   25.9851   18.9408    0.9499 O   0  0  0  0  0  0  0  0  0  0  0  0\\n   25.7531   18.0296    1.2598 H   0  0  0  0  0  0  0  0  0  0  0  0\\n   25.5304   19.5091    1.6214 H   0  0  0  0  0  0  0  0  0  0  0  0\\n   24.0547   19.0790   -0.8886 O   0  0  0  0  0  0  0  0  0  0  0  0\\n   24.8829   19.0775   -0.2988 H   0  0  0  0  0  0  0  0  0  0  0  0\\n   23.9776   19.9894   -1.2173 H   0  0  0  0  0  0  0  0  0  0  0  0\\n   24.1518   20.2176    2.6569 O   0  0  0  0  0  0  0  0  0  0  0  0\\n   24.2481   19.9637    3.5892 H   0  0  0  0  0  0  0  0  0  0  0  0\\n   23.4710   19.5996    2.2924 H   0  0  0  0  0  0  0  0  0  0  0  0\\n   22.6373   18.3614    1.2178 O   0  0  0  0  0  0  0  0  0  0  0  0\\n   21.6746   18.3042    1.0985 H   0  0  0  0  0  0  0  0  0  0  0  0\\n   23.0301   18.6701    0.3325 H   0  0  0  0  0  0  0  0  0  0  0  0\\n   24.6999   16.5982    1.8219 O   0  0  0  0  0  0  0  0  0  0  0  0\\n   24.7291   15.8192    1.2432 H   0  0  0  0  0  0  0  0  0  0  0  0\\n   23.8373   17.0376    1.6209 H   0  0  0  0  0  0  0  0  0  0  0  0\\n  2  1  1  0\\n  3  1  1  0\\n  5  4  1  0\\n  6  4  1  0\\n  8  7  1  0\\n  9  7  1  0\\n 11 10  1  0\\n 12 10  1  0\\n 14 13  1  0\\n 15 13  1  0\\nM  END\\n\",\"sdf\");\n\tviewer_17097258121752927.addModel(\"\\n     RDKit          3D\\n\\n 15 10  0  0  0  0  0  0  0  0999 V2000\\n   25.9911   18.9387    0.9616 O   0  0  0  0  0  0  0  0  0  0  0  0\\n   25.7471   18.0304    1.2707 H   0  0  0  0  0  0  0  0  0  0  0  0\\n   25.5323   19.5125    1.6252 H   0  0  0  0  0  0  0  0  0  0  0  0\\n   24.0532   19.0827   -0.9057 O   0  0  0  0  0  0  0  0  0  0  0  0\\n   24.8780   19.0785   -0.3147 H   0  0  0  0  0  0  0  0  0  0  0  0\\n   23.9791   19.9959   -1.2280 H   0  0  0  0  0  0  0  0  0  0  0  0\\n   24.1513   20.2163    2.6541 O   0  0  0  0  0  0  0  0  0  0  0  0\\n   24.2614   19.9588    3.5843 H   0  0  0  0  0  0  0  0  0  0  0  0\\n   23.4794   19.5864    2.2923 H   0  0  0  0  0  0  0  0  0  0  0  0\\n   22.6348   18.3540    1.2270 O   0  0  0  0  0  0  0  0  0  0  0  0\\n   21.6627   18.3502    1.1284 H   0  0  0  0  0  0  0  0  0  0  0  0\\n   23.0195   18.6656    0.3414 H   0  0  0  0  0  0  0  0  0  0  0  0\\n   24.6988   16.6039    1.8192 O   0  0  0  0  0  0  0  0  0  0  0  0\\n   24.7415   15.8190    1.2488 H   0  0  0  0  0  0  0  0  0  0  0  0\\n   23.8280   17.0258    1.6174 H   0  0  0  0  0  0  0  0  0  0  0  0\\n  2  1  1  0\\n  3  1  1  0\\n  5  4  1  0\\n  6  4  1  0\\n  8  7  1  0\\n  9  7  1  0\\n 11 10  1  0\\n 12 10  1  0\\n 14 13  1  0\\n 15 13  1  0\\nM  END\\n\",\"sdf\");\n\tviewer_17097258121752927.addModel(\"\\n     RDKit          3D\\n\\n 15 10  0  0  0  0  0  0  0  0999 V2000\\n   25.9971   18.9367    0.9733 O   0  0  0  0  0  0  0  0  0  0  0  0\\n   25.7411   18.0312    1.2817 H   0  0  0  0  0  0  0  0  0  0  0  0\\n   25.5342   19.5159    1.6291 H   0  0  0  0  0  0  0  0  0  0  0  0\\n   24.0517   19.0864   -0.9228 O   0  0  0  0  0  0  0  0  0  0  0  0\\n   24.8732   19.0795   -0.3306 H   0  0  0  0  0  0  0  0  0  0  0  0\\n   23.9806   20.0023   -1.2388 H   0  0  0  0  0  0  0  0  0  0  0  0\\n   24.1509   20.2150    2.6514 O   0  0  0  0  0  0  0  0  0  0  0  0\\n   24.2747   19.9539    3.5794 H   0  0  0  0  0  0  0  0  0  0  0  0\\n   23.4879   19.5732    2.2922 H   0  0  0  0  0  0  0  0  0  0  0  0\\n   22.6323   18.3466    1.2362 O   0  0  0  0  0  0  0  0  0  0  0  0\\n   21.6509   18.3962    1.1583 H   0  0  0  0  0  0  0  0  0  0  0  0\\n   23.0089   18.6611    0.3503 H   0  0  0  0  0  0  0  0  0  0  0  0\\n   24.6976   16.6095    1.8166 O   0  0  0  0  0  0  0  0  0  0  0  0\\n   24.7539   15.8188    1.2544 H   0  0  0  0  0  0  0  0  0  0  0  0\\n   23.8187   17.0141    1.6138 H   0  0  0  0  0  0  0  0  0  0  0  0\\n  2  1  1  0\\n  3  1  1  0\\n  5  4  1  0\\n  6  4  1  0\\n  8  7  1  0\\n  9  7  1  0\\n 11 10  1  0\\n 12 10  1  0\\n 14 13  1  0\\n 15 13  1  0\\nM  END\\n\",\"sdf\");\n\tviewer_17097258121752927.addModel(\"\\n     RDKit          3D\\n\\n 15 10  0  0  0  0  0  0  0  0999 V2000\\n   26.0031   18.9346    0.9850 O   0  0  0  0  0  0  0  0  0  0  0  0\\n   25.7351   18.0319    1.2927 H   0  0  0  0  0  0  0  0  0  0  0  0\\n   25.5360   19.5194    1.6329 H   0  0  0  0  0  0  0  0  0  0  0  0\\n   24.0501   19.0901   -0.9399 O   0  0  0  0  0  0  0  0  0  0  0  0\\n   24.8683   19.0805   -0.3465 H   0  0  0  0  0  0  0  0  0  0  0  0\\n   23.9820   20.0088   -1.2495 H   0  0  0  0  0  0  0  0  0  0  0  0\\n   24.1504   20.2137    2.6487 O   0  0  0  0  0  0  0  0  0  0  0  0\\n   24.2880   19.9490    3.5745 H   0  0  0  0  0  0  0  0  0  0  0  0\\n   23.4963   19.5599    2.2920 H   0  0  0  0  0  0  0  0  0  0  0  0\\n   22.6297   18.3392    1.2454 O   0  0  0  0  0  0  0  0  0  0  0  0\\n   21.6390   18.4422    1.1882 H   0  0  0  0  0  0  0  0  0  0  0  0\\n   22.9983   18.6566    0.3592 H   0  0  0  0  0  0  0  0  0  0  0  0\\n   24.6964   16.6152    1.8140 O   0  0  0  0  0  0  0  0  0  0  0  0\\n   24.7663   15.8186    1.2600 H   0  0  0  0  0  0  0  0  0  0  0  0\\n   23.8094   17.0023    1.6103 H   0  0  0  0  0  0  0  0  0  0  0  0\\n  2  1  1  0\\n  3  1  1  0\\n  5  4  1  0\\n  6  4  1  0\\n  8  7  1  0\\n  9  7  1  0\\n 11 10  1  0\\n 12 10  1  0\\n 14 13  1  0\\n 15 13  1  0\\nM  END\\n\",\"sdf\");\n\tviewer_17097258121752927.addModel(\"\\n     RDKit          3D\\n\\n 15 10  0  0  0  0  0  0  0  0999 V2000\\n   26.0091   18.9326    0.9968 O   0  0  0  0  0  0  0  0  0  0  0  0\\n   25.7291   18.0327    1.3036 H   0  0  0  0  0  0  0  0  0  0  0  0\\n   25.5379   19.5228    1.6368 H   0  0  0  0  0  0  0  0  0  0  0  0\\n   24.0486   19.0938   -0.9570 O   0  0  0  0  0  0  0  0  0  0  0  0\\n   24.8635   19.0815   -0.3624 H   0  0  0  0  0  0  0  0  0  0  0  0\\n   23.9835   20.0152   -1.2602 H   0  0  0  0  0  0  0  0  0  0  0  0\\n   24.1500   20.2124    2.6460 O   0  0  0  0  0  0  0  0  0  0  0  0\\n   24.3014   19.9441    3.5696 H   0  0  0  0  0  0  0  0  0  0  0  0\\n   23.5048   19.5467    2.2919 H   0  0  0  0  0  0  0  0  0  0  0  0\\n   22.6272   18.3317    1.2547 O   0  0  0  0  0  0  0  0  0  0  0  0\\n   21.6272   18.4882    1.2181 H   0  0  0  0  0  0  0  0  0  0  0  0\\n   22.9877   18.6521    0.3681 H   0  0  0  0  0  0  0  0  0  0  0  0\\n   24.6952   16.6208    1.8113 O   0  0  0  0  0  0  0  0  0  0  0  0\\n   24.7787   15.8184    1.2656 H   0  0  0  0  0  0  0  0  0  0  0  0\\n   23.8000   16.9906    1.6068 H   0  0  0  0  0  0  0  0  0  0  0  0\\n  2  1  1  0\\n  3  1  1  0\\n  5  4  1  0\\n  6  4  1  0\\n  8  7  1  0\\n  9  7  1  0\\n 11 10  1  0\\n 12 10  1  0\\n 14 13  1  0\\n 15 13  1  0\\nM  END\\n\",\"sdf\");\n\tviewer_17097258121752927.addModel(\"\\n     RDKit          3D\\n\\n 15 10  0  0  0  0  0  0  0  0999 V2000\\n   26.0151   18.9305    1.0085 O   0  0  0  0  0  0  0  0  0  0  0  0\\n   25.7231   18.0335    1.3146 H   0  0  0  0  0  0  0  0  0  0  0  0\\n   25.5398   19.5262    1.6406 H   0  0  0  0  0  0  0  0  0  0  0  0\\n   24.0471   19.0975   -0.9741 O   0  0  0  0  0  0  0  0  0  0  0  0\\n   24.8586   19.0825   -0.3783 H   0  0  0  0  0  0  0  0  0  0  0  0\\n   23.9850   20.0217   -1.2710 H   0  0  0  0  0  0  0  0  0  0  0  0\\n   24.1495   20.2111    2.6432 O   0  0  0  0  0  0  0  0  0  0  0  0\\n   24.3147   19.9392    3.5647 H   0  0  0  0  0  0  0  0  0  0  0  0\\n   23.5132   19.5335    2.2918 H   0  0  0  0  0  0  0  0  0  0  0  0\\n   22.6247   18.3243    1.2639 O   0  0  0  0  0  0  0  0  0  0  0  0\\n   21.6153   18.5342    1.2480 H   0  0  0  0  0  0  0  0  0  0  0  0\\n   22.9771   18.6476    0.3770 H   0  0  0  0  0  0  0  0  0  0  0  0\\n   24.6941   16.6264    1.8087 O   0  0  0  0  0  0  0  0  0  0  0  0\\n   24.7911   15.8182    1.2712 H   0  0  0  0  0  0  0  0  0  0  0  0\\n   23.7907   16.9788    1.6032 H   0  0  0  0  0  0  0  0  0  0  0  0\\n  2  1  1  0\\n  3  1  1  0\\n  5  4  1  0\\n  6  4  1  0\\n  8  7  1  0\\n  9  7  1  0\\n 11 10  1  0\\n 12 10  1  0\\n 14 13  1  0\\n 15 13  1  0\\nM  END\\n\",\"sdf\");\n\tviewer_17097258121752927.addModel(\"\\n     RDKit          3D\\n\\n 15 10  0  0  0  0  0  0  0  0999 V2000\\n   26.0211   18.9284    1.0202 O   0  0  0  0  0  0  0  0  0  0  0  0\\n   25.7172   18.0342    1.3255 H   0  0  0  0  0  0  0  0  0  0  0  0\\n   25.5417   19.5296    1.6445 H   0  0  0  0  0  0  0  0  0  0  0  0\\n   24.0456   19.1011   -0.9913 O   0  0  0  0  0  0  0  0  0  0  0  0\\n   24.8538   19.0835   -0.3942 H   0  0  0  0  0  0  0  0  0  0  0  0\\n   23.9865   20.0281   -1.2817 H   0  0  0  0  0  0  0  0  0  0  0  0\\n   24.1490   20.2097    2.6405 O   0  0  0  0  0  0  0  0  0  0  0  0\\n   24.3280   19.9343    3.5598 H   0  0  0  0  0  0  0  0  0  0  0  0\\n   23.5217   19.5203    2.2916 H   0  0  0  0  0  0  0  0  0  0  0  0\\n   22.6221   18.3169    1.2731 O   0  0  0  0  0  0  0  0  0  0  0  0\\n   21.6035   18.5801    1.2779 H   0  0  0  0  0  0  0  0  0  0  0  0\\n   22.9665   18.6431    0.3859 H   0  0  0  0  0  0  0  0  0  0  0  0\\n   24.6929   16.6321    1.8061 O   0  0  0  0  0  0  0  0  0  0  0  0\\n   24.8035   15.8180    1.2768 H   0  0  0  0  0  0  0  0  0  0  0  0\\n   23.7814   16.9671    1.5997 H   0  0  0  0  0  0  0  0  0  0  0  0\\n  2  1  1  0\\n  3  1  1  0\\n  5  4  1  0\\n  6  4  1  0\\n  8  7  1  0\\n  9  7  1  0\\n 11 10  1  0\\n 12 10  1  0\\n 14 13  1  0\\n 15 13  1  0\\nM  END\\n\",\"sdf\");\n\tviewer_17097258121752927.addModel(\"\\n     RDKit          3D\\n\\n 15 10  0  0  0  0  0  0  0  0999 V2000\\n   26.0271   18.9264    1.0320 O   0  0  0  0  0  0  0  0  0  0  0  0\\n   25.7112   18.0350    1.3365 H   0  0  0  0  0  0  0  0  0  0  0  0\\n   25.5435   19.5331    1.6483 H   0  0  0  0  0  0  0  0  0  0  0  0\\n   24.0440   19.1048   -1.0084 O   0  0  0  0  0  0  0  0  0  0  0  0\\n   24.8489   19.0844   -0.4101 H   0  0  0  0  0  0  0  0  0  0  0  0\\n   23.9880   20.0346   -1.2924 H   0  0  0  0  0  0  0  0  0  0  0  0\\n   24.1486   20.2084    2.6378 O   0  0  0  0  0  0  0  0  0  0  0  0\\n   24.3413   19.9294    3.5549 H   0  0  0  0  0  0  0  0  0  0  0  0\\n   23.5301   19.5070    2.2915 H   0  0  0  0  0  0  0  0  0  0  0  0\\n   22.6196   18.3095    1.2823 O   0  0  0  0  0  0  0  0  0  0  0  0\\n   21.5916   18.6261    1.3079 H   0  0  0  0  0  0  0  0  0  0  0  0\\n   22.9559   18.6386    0.3948 H   0  0  0  0  0  0  0  0  0  0  0  0\\n   24.6917   16.6377    1.8035 O   0  0  0  0  0  0  0  0  0  0  0  0\\n   24.8159   15.8178    1.2824 H   0  0  0  0  0  0  0  0  0  0  0  0\\n   23.7720   16.9554    1.5962 H   0  0  0  0  0  0  0  0  0  0  0  0\\n  2  1  1  0\\n  3  1  1  0\\n  5  4  1  0\\n  6  4  1  0\\n  8  7  1  0\\n  9  7  1  0\\n 11 10  1  0\\n 12 10  1  0\\n 14 13  1  0\\n 15 13  1  0\\nM  END\\n\",\"sdf\");\n\tviewer_17097258121752927.addModel(\"\\n     RDKit          3D\\n\\n 15 10  0  0  0  0  0  0  0  0999 V2000\\n   26.0331   18.9243    1.0437 O   0  0  0  0  0  0  0  0  0  0  0  0\\n   25.7052   18.0357    1.3474 H   0  0  0  0  0  0  0  0  0  0  0  0\\n   25.5454   19.5365    1.6522 H   0  0  0  0  0  0  0  0  0  0  0  0\\n   24.0425   19.1085   -1.0255 O   0  0  0  0  0  0  0  0  0  0  0  0\\n   24.8441   19.0854   -0.4260 H   0  0  0  0  0  0  0  0  0  0  0  0\\n   23.9895   20.0410   -1.3032 H   0  0  0  0  0  0  0  0  0  0  0  0\\n   24.1481   20.2071    2.6350 O   0  0  0  0  0  0  0  0  0  0  0  0\\n   24.3547   19.9245    3.5501 H   0  0  0  0  0  0  0  0  0  0  0  0\\n   23.5386   19.4938    2.2913 H   0  0  0  0  0  0  0  0  0  0  0  0\\n   22.6171   18.3021    1.2916 O   0  0  0  0  0  0  0  0  0  0  0  0\\n   21.5798   18.6721    1.3378 H   0  0  0  0  0  0  0  0  0  0  0  0\\n   22.9453   18.6341    0.4037 H   0  0  0  0  0  0  0  0  0  0  0  0\\n   24.6906   16.6434    1.8008 O   0  0  0  0  0  0  0  0  0  0  0  0\\n   24.8283   15.8176    1.2880 H   0  0  0  0  0  0  0  0  0  0  0  0\\n   23.7627   16.9436    1.5926 H   0  0  0  0  0  0  0  0  0  0  0  0\\n  2  1  1  0\\n  3  1  1  0\\n  5  4  1  0\\n  6  4  1  0\\n  8  7  1  0\\n  9  7  1  0\\n 11 10  1  0\\n 12 10  1  0\\n 14 13  1  0\\n 15 13  1  0\\nM  END\\n\",\"sdf\");\n\tviewer_17097258121752927.setStyle({\"stick\": {\"radius\": \"0.1\"}});\n\tviewer_17097258121752927.setBackgroundColor(\"0xeeeeee\");\n\tviewer_17097258121752927.zoomTo();\nviewer_17097258121752927.render();\n});\n</script>",
      "text/html": [
       "<div id=\"3dmolviewer_17097258121752927\"  style=\"position: relative; width: 400px; height: 400px;\">\n",
       "        <p id=\"3dmolwarning_17097258121752927\" style=\"background-color:#ffcccc;color:black\">You appear to be running in JupyterLab (or JavaScript failed to load for some other reason).  You need to install the 3dmol extension: <br>\n",
       "        <tt>jupyter labextension install jupyterlab_3dmol</tt></p>\n",
       "        </div>\n",
       "<script>\n",
       "\n",
       "var loadScriptAsync = function(uri){\n",
       "  return new Promise((resolve, reject) => {\n",
       "    //this is to ignore the existence of requirejs amd\n",
       "    var savedexports, savedmodule;\n",
       "    if (typeof exports !== 'undefined') savedexports = exports;\n",
       "    else exports = {}\n",
       "    if (typeof module !== 'undefined') savedmodule = module;\n",
       "    else module = {}\n",
       "\n",
       "    var tag = document.createElement('script');\n",
       "    tag.src = uri;\n",
       "    tag.async = true;\n",
       "    tag.onload = () => {\n",
       "        exports = savedexports;\n",
       "        module = savedmodule;\n",
       "        resolve();\n",
       "    };\n",
       "  var firstScriptTag = document.getElementsByTagName('script')[0];\n",
       "  firstScriptTag.parentNode.insertBefore(tag, firstScriptTag);\n",
       "});\n",
       "};\n",
       "\n",
       "if(typeof $3Dmolpromise === 'undefined') {\n",
       "$3Dmolpromise = null;\n",
       "  $3Dmolpromise = loadScriptAsync('https://cdnjs.cloudflare.com/ajax/libs/3Dmol/2.0.4/3Dmol-min.js');\n",
       "}\n",
       "\n",
       "var viewer_17097258121752927 = null;\n",
       "var warn = document.getElementById(\"3dmolwarning_17097258121752927\");\n",
       "if(warn) {\n",
       "    warn.parentNode.removeChild(warn);\n",
       "}\n",
       "$3Dmolpromise.then(function() {\n",
       "viewer_17097258121752927 = $3Dmol.createViewer(document.getElementById(\"3dmolviewer_17097258121752927\"),{backgroundColor:\"white\"});\n",
       "viewer_17097258121752927.zoomTo();\n",
       "\tviewer_17097258121752927.removeAllModels();\n",
       "\tviewer_17097258121752927.addModel(\"\\n     RDKit          3D\\n\\n 15 10  0  0  0  0  0  0  0  0999 V2000\\n   25.9791   18.9429    0.9381 O   0  0  0  0  0  0  0  0  0  0  0  0\\n   25.7590   18.0289    1.2488 H   0  0  0  0  0  0  0  0  0  0  0  0\\n   25.5286   19.5056    1.6176 H   0  0  0  0  0  0  0  0  0  0  0  0\\n   24.0562   19.0753   -0.8715 O   0  0  0  0  0  0  0  0  0  0  0  0\\n   24.8877   19.0765   -0.2829 H   0  0  0  0  0  0  0  0  0  0  0  0\\n   23.9761   19.9829   -1.2066 H   0  0  0  0  0  0  0  0  0  0  0  0\\n   24.1522   20.2189    2.6596 O   0  0  0  0  0  0  0  0  0  0  0  0\\n   24.2347   19.9686    3.5940 H   0  0  0  0  0  0  0  0  0  0  0  0\\n   23.4625   19.6128    2.2926 H   0  0  0  0  0  0  0  0  0  0  0  0\\n   22.6398   18.3688    1.2086 O   0  0  0  0  0  0  0  0  0  0  0  0\\n   21.6864   18.2583    1.0686 H   0  0  0  0  0  0  0  0  0  0  0  0\\n   23.0407   18.6746    0.3236 H   0  0  0  0  0  0  0  0  0  0  0  0\\n   24.7011   16.5926    1.8245 O   0  0  0  0  0  0  0  0  0  0  0  0\\n   24.7167   15.8194    1.2377 H   0  0  0  0  0  0  0  0  0  0  0  0\\n   23.8467   17.0493    1.6244 H   0  0  0  0  0  0  0  0  0  0  0  0\\n  2  1  1  0\\n  3  1  1  0\\n  5  4  1  0\\n  6  4  1  0\\n  8  7  1  0\\n  9  7  1  0\\n 11 10  1  0\\n 12 10  1  0\\n 14 13  1  0\\n 15 13  1  0\\nM  END\\n\",\"sdf\");\n",
       "\tviewer_17097258121752927.addModel(\"\\n     RDKit          3D\\n\\n 15 10  0  0  0  0  0  0  0  0999 V2000\\n   25.9731   18.9449    0.9264 O   0  0  0  0  0  0  0  0  0  0  0  0\\n   25.7650   18.0281    1.2379 H   0  0  0  0  0  0  0  0  0  0  0  0\\n   25.5267   19.5022    1.6137 H   0  0  0  0  0  0  0  0  0  0  0  0\\n   24.0578   19.0716   -0.8544 O   0  0  0  0  0  0  0  0  0  0  0  0\\n   24.8925   19.0756   -0.2670 H   0  0  0  0  0  0  0  0  0  0  0  0\\n   23.9746   19.9765   -1.1958 H   0  0  0  0  0  0  0  0  0  0  0  0\\n   24.1527   20.2203    2.6623 O   0  0  0  0  0  0  0  0  0  0  0  0\\n   24.2214   19.9735    3.5989 H   0  0  0  0  0  0  0  0  0  0  0  0\\n   23.4540   19.6260    2.2927 H   0  0  0  0  0  0  0  0  0  0  0  0\\n   22.6424   18.3762    1.1993 O   0  0  0  0  0  0  0  0  0  0  0  0\\n   21.6983   18.2123    1.0387 H   0  0  0  0  0  0  0  0  0  0  0  0\\n   23.0513   18.6792    0.3147 H   0  0  0  0  0  0  0  0  0  0  0  0\\n   24.7023   16.5869    1.8271 O   0  0  0  0  0  0  0  0  0  0  0  0\\n   24.7043   15.8196    1.2321 H   0  0  0  0  0  0  0  0  0  0  0  0\\n   23.8560   17.0610    1.6280 H   0  0  0  0  0  0  0  0  0  0  0  0\\n  2  1  1  0\\n  3  1  1  0\\n  5  4  1  0\\n  6  4  1  0\\n  8  7  1  0\\n  9  7  1  0\\n 11 10  1  0\\n 12 10  1  0\\n 14 13  1  0\\n 15 13  1  0\\nM  END\\n\",\"sdf\");\n",
       "\tviewer_17097258121752927.addModel(\"\\n     RDKit          3D\\n\\n 15 10  0  0  0  0  0  0  0  0999 V2000\\n   25.9671   18.9470    0.9147 O   0  0  0  0  0  0  0  0  0  0  0  0\\n   25.7710   18.0274    1.2269 H   0  0  0  0  0  0  0  0  0  0  0  0\\n   25.5248   19.4988    1.6099 H   0  0  0  0  0  0  0  0  0  0  0  0\\n   24.0593   19.0680   -0.8373 O   0  0  0  0  0  0  0  0  0  0  0  0\\n   24.8974   19.0746   -0.2511 H   0  0  0  0  0  0  0  0  0  0  0  0\\n   23.9731   19.9700   -1.1851 H   0  0  0  0  0  0  0  0  0  0  0  0\\n   24.1532   20.2216    2.6650 O   0  0  0  0  0  0  0  0  0  0  0  0\\n   24.2081   19.9784    3.6038 H   0  0  0  0  0  0  0  0  0  0  0  0\\n   23.4456   19.6393    2.2928 H   0  0  0  0  0  0  0  0  0  0  0  0\\n   22.6449   18.3836    1.1901 O   0  0  0  0  0  0  0  0  0  0  0  0\\n   21.7101   18.1663    1.0088 H   0  0  0  0  0  0  0  0  0  0  0  0\\n   23.0619   18.6837    0.3058 H   0  0  0  0  0  0  0  0  0  0  0  0\\n   24.7034   16.5813    1.8297 O   0  0  0  0  0  0  0  0  0  0  0  0\\n   24.6919   15.8198    1.2265 H   0  0  0  0  0  0  0  0  0  0  0  0\\n   23.8653   17.0728    1.6315 H   0  0  0  0  0  0  0  0  0  0  0  0\\n  2  1  1  0\\n  3  1  1  0\\n  5  4  1  0\\n  6  4  1  0\\n  8  7  1  0\\n  9  7  1  0\\n 11 10  1  0\\n 12 10  1  0\\n 14 13  1  0\\n 15 13  1  0\\nM  END\\n\",\"sdf\");\n",
       "\tviewer_17097258121752927.addModel(\"\\n     RDKit          3D\\n\\n 15 10  0  0  0  0  0  0  0  0999 V2000\\n   25.9611   18.9490    0.9029 O   0  0  0  0  0  0  0  0  0  0  0  0\\n   25.7770   18.0266    1.2159 H   0  0  0  0  0  0  0  0  0  0  0  0\\n   25.5229   19.4954    1.6060 H   0  0  0  0  0  0  0  0  0  0  0  0\\n   24.0608   19.0643   -0.8201 O   0  0  0  0  0  0  0  0  0  0  0  0\\n   24.9022   19.0736   -0.2352 H   0  0  0  0  0  0  0  0  0  0  0  0\\n   23.9716   19.9636   -1.1743 H   0  0  0  0  0  0  0  0  0  0  0  0\\n   24.1536   20.2229    2.6678 O   0  0  0  0  0  0  0  0  0  0  0  0\\n   24.1948   19.9833    3.6087 H   0  0  0  0  0  0  0  0  0  0  0  0\\n   23.4371   19.6525    2.2930 H   0  0  0  0  0  0  0  0  0  0  0  0\\n   22.6474   18.3910    1.1809 O   0  0  0  0  0  0  0  0  0  0  0  0\\n   21.7220   18.1203    0.9789 H   0  0  0  0  0  0  0  0  0  0  0  0\\n   23.0725   18.6882    0.2968 H   0  0  0  0  0  0  0  0  0  0  0  0\\n   24.7046   16.5757    1.8324 O   0  0  0  0  0  0  0  0  0  0  0  0\\n   24.6796   15.8200    1.2209 H   0  0  0  0  0  0  0  0  0  0  0  0\\n   23.8747   17.0845    1.6350 H   0  0  0  0  0  0  0  0  0  0  0  0\\n  2  1  1  0\\n  3  1  1  0\\n  5  4  1  0\\n  6  4  1  0\\n  8  7  1  0\\n  9  7  1  0\\n 11 10  1  0\\n 12 10  1  0\\n 14 13  1  0\\n 15 13  1  0\\nM  END\\n\",\"sdf\");\n",
       "\tviewer_17097258121752927.addModel(\"\\n     RDKit          3D\\n\\n 15 10  0  0  0  0  0  0  0  0999 V2000\\n   25.9551   18.9511    0.8912 O   0  0  0  0  0  0  0  0  0  0  0  0\\n   25.7830   18.0258    1.2050 H   0  0  0  0  0  0  0  0  0  0  0  0\\n   25.5211   19.4919    1.6022 H   0  0  0  0  0  0  0  0  0  0  0  0\\n   24.0623   19.0606   -0.8030 O   0  0  0  0  0  0  0  0  0  0  0  0\\n   24.9071   19.0726   -0.2193 H   0  0  0  0  0  0  0  0  0  0  0  0\\n   23.9702   19.9571   -1.1636 H   0  0  0  0  0  0  0  0  0  0  0  0\\n   24.1541   20.2242    2.6705 O   0  0  0  0  0  0  0  0  0  0  0  0\\n   24.1815   19.9882    3.6136 H   0  0  0  0  0  0  0  0  0  0  0  0\\n   23.4287   19.6657    2.2931 H   0  0  0  0  0  0  0  0  0  0  0  0\\n   22.6500   18.3984    1.1717 O   0  0  0  0  0  0  0  0  0  0  0  0\\n   21.7339   18.0743    0.9490 H   0  0  0  0  0  0  0  0  0  0  0  0\\n   23.0831   18.6927    0.2879 H   0  0  0  0  0  0  0  0  0  0  0  0\\n   24.7058   16.5700    1.8350 O   0  0  0  0  0  0  0  0  0  0  0  0\\n   24.6672   15.8202    1.2153 H   0  0  0  0  0  0  0  0  0  0  0  0\\n   23.8840   17.0963    1.6386 H   0  0  0  0  0  0  0  0  0  0  0  0\\n  2  1  1  0\\n  3  1  1  0\\n  5  4  1  0\\n  6  4  1  0\\n  8  7  1  0\\n  9  7  1  0\\n 11 10  1  0\\n 12 10  1  0\\n 14 13  1  0\\n 15 13  1  0\\nM  END\\n\",\"sdf\");\n",
       "\tviewer_17097258121752927.addModel(\"\\n     RDKit          3D\\n\\n 15 10  0  0  0  0  0  0  0  0999 V2000\\n   25.9491   18.9532    0.8795 O   0  0  0  0  0  0  0  0  0  0  0  0\\n   25.7890   18.0251    1.1940 H   0  0  0  0  0  0  0  0  0  0  0  0\\n   25.5192   19.4885    1.5983 H   0  0  0  0  0  0  0  0  0  0  0  0\\n   24.0639   19.0569   -0.7859 O   0  0  0  0  0  0  0  0  0  0  0  0\\n   24.9119   19.0716   -0.2035 H   0  0  0  0  0  0  0  0  0  0  0  0\\n   23.9687   19.9507   -1.1529 H   0  0  0  0  0  0  0  0  0  0  0  0\\n   24.1545   20.2255    2.6732 O   0  0  0  0  0  0  0  0  0  0  0  0\\n   24.1681   19.9931    3.6185 H   0  0  0  0  0  0  0  0  0  0  0  0\\n   23.4202   19.6789    2.2933 H   0  0  0  0  0  0  0  0  0  0  0  0\\n   22.6525   18.4058    1.1624 O   0  0  0  0  0  0  0  0  0  0  0  0\\n   21.7457   18.0283    0.9191 H   0  0  0  0  0  0  0  0  0  0  0  0\\n   23.0937   18.6972    0.2790 H   0  0  0  0  0  0  0  0  0  0  0  0\\n   24.7070   16.5644    1.8376 O   0  0  0  0  0  0  0  0  0  0  0  0\\n   24.6548   15.8204    1.2097 H   0  0  0  0  0  0  0  0  0  0  0  0\\n   23.8933   17.1080    1.6421 H   0  0  0  0  0  0  0  0  0  0  0  0\\n  2  1  1  0\\n  3  1  1  0\\n  5  4  1  0\\n  6  4  1  0\\n  8  7  1  0\\n  9  7  1  0\\n 11 10  1  0\\n 12 10  1  0\\n 14 13  1  0\\n 15 13  1  0\\nM  END\\n\",\"sdf\");\n",
       "\tviewer_17097258121752927.addModel(\"\\n     RDKit          3D\\n\\n 15 10  0  0  0  0  0  0  0  0999 V2000\\n   25.9431   18.9552    0.8678 O   0  0  0  0  0  0  0  0  0  0  0  0\\n   25.7950   18.0243    1.1831 H   0  0  0  0  0  0  0  0  0  0  0  0\\n   25.5173   19.4851    1.5945 H   0  0  0  0  0  0  0  0  0  0  0  0\\n   24.0654   19.0532   -0.7688 O   0  0  0  0  0  0  0  0  0  0  0  0\\n   24.9168   19.0706   -0.1876 H   0  0  0  0  0  0  0  0  0  0  0  0\\n   23.9672   19.9442   -1.1421 H   0  0  0  0  0  0  0  0  0  0  0  0\\n   24.1550   20.2268    2.6759 O   0  0  0  0  0  0  0  0  0  0  0  0\\n   24.1548   19.9980    3.6234 H   0  0  0  0  0  0  0  0  0  0  0  0\\n   23.4118   19.6922    2.2934 H   0  0  0  0  0  0  0  0  0  0  0  0\\n   22.6550   18.4132    1.1532 O   0  0  0  0  0  0  0  0  0  0  0  0\\n   21.7576   17.9824    0.8892 H   0  0  0  0  0  0  0  0  0  0  0  0\\n   23.1043   18.7017    0.2701 H   0  0  0  0  0  0  0  0  0  0  0  0\\n   24.7081   16.5587    1.8402 O   0  0  0  0  0  0  0  0  0  0  0  0\\n   24.6424   15.8207    1.2041 H   0  0  0  0  0  0  0  0  0  0  0  0\\n   23.9027   17.1198    1.6456 H   0  0  0  0  0  0  0  0  0  0  0  0\\n  2  1  1  0\\n  3  1  1  0\\n  5  4  1  0\\n  6  4  1  0\\n  8  7  1  0\\n  9  7  1  0\\n 11 10  1  0\\n 12 10  1  0\\n 14 13  1  0\\n 15 13  1  0\\nM  END\\n\",\"sdf\");\n",
       "\tviewer_17097258121752927.addModel(\"\\n     RDKit          3D\\n\\n 15 10  0  0  0  0  0  0  0  0999 V2000\\n   25.9371   18.9573    0.8560 O   0  0  0  0  0  0  0  0  0  0  0  0\\n   25.8009   18.0235    1.1721 H   0  0  0  0  0  0  0  0  0  0  0  0\\n   25.5155   19.4816    1.5906 H   0  0  0  0  0  0  0  0  0  0  0  0\\n   24.0669   19.0495   -0.7517 O   0  0  0  0  0  0  0  0  0  0  0  0\\n   24.9216   19.0696   -0.1717 H   0  0  0  0  0  0  0  0  0  0  0  0\\n   23.9657   19.9378   -1.1314 H   0  0  0  0  0  0  0  0  0  0  0  0\\n   24.1554   20.2282    2.6787 O   0  0  0  0  0  0  0  0  0  0  0  0\\n   24.1415   20.0029    3.6283 H   0  0  0  0  0  0  0  0  0  0  0  0\\n   23.4033   19.7054    2.2935 H   0  0  0  0  0  0  0  0  0  0  0  0\\n   22.6576   18.4206    1.1440 O   0  0  0  0  0  0  0  0  0  0  0  0\\n   21.7694   17.9364    0.8593 H   0  0  0  0  0  0  0  0  0  0  0  0\\n   23.1149   18.7062    0.2612 H   0  0  0  0  0  0  0  0  0  0  0  0\\n   24.7093   16.5531    1.8429 O   0  0  0  0  0  0  0  0  0  0  0  0\\n   24.6300   15.8209    1.1985 H   0  0  0  0  0  0  0  0  0  0  0  0\\n   23.9120   17.1315    1.6492 H   0  0  0  0  0  0  0  0  0  0  0  0\\n  2  1  1  0\\n  3  1  1  0\\n  5  4  1  0\\n  6  4  1  0\\n  8  7  1  0\\n  9  7  1  0\\n 11 10  1  0\\n 12 10  1  0\\n 14 13  1  0\\n 15 13  1  0\\nM  END\\n\",\"sdf\");\n",
       "\tviewer_17097258121752927.addModel(\"\\n     RDKit          3D\\n\\n 15 10  0  0  0  0  0  0  0  0999 V2000\\n   25.9311   18.9593    0.8443 O   0  0  0  0  0  0  0  0  0  0  0  0\\n   25.8069   18.0228    1.1612 H   0  0  0  0  0  0  0  0  0  0  0  0\\n   25.5136   19.4782    1.5868 H   0  0  0  0  0  0  0  0  0  0  0  0\\n   24.0684   19.0458   -0.7346 O   0  0  0  0  0  0  0  0  0  0  0  0\\n   24.9265   19.0686   -0.1558 H   0  0  0  0  0  0  0  0  0  0  0  0\\n   23.9642   19.9313   -1.1207 H   0  0  0  0  0  0  0  0  0  0  0  0\\n   24.1559   20.2295    2.6814 O   0  0  0  0  0  0  0  0  0  0  0  0\\n   24.1282   20.0078    3.6331 H   0  0  0  0  0  0  0  0  0  0  0  0\\n   23.3949   19.7186    2.2937 H   0  0  0  0  0  0  0  0  0  0  0  0\\n   22.6601   18.4280    1.1348 O   0  0  0  0  0  0  0  0  0  0  0  0\\n   21.7813   17.8904    0.8294 H   0  0  0  0  0  0  0  0  0  0  0  0\\n   23.1255   18.7107    0.2523 H   0  0  0  0  0  0  0  0  0  0  0  0\\n   24.7105   16.5474    1.8455 O   0  0  0  0  0  0  0  0  0  0  0  0\\n   24.6176   15.8211    1.1930 H   0  0  0  0  0  0  0  0  0  0  0  0\\n   23.9213   17.1432    1.6527 H   0  0  0  0  0  0  0  0  0  0  0  0\\n  2  1  1  0\\n  3  1  1  0\\n  5  4  1  0\\n  6  4  1  0\\n  8  7  1  0\\n  9  7  1  0\\n 11 10  1  0\\n 12 10  1  0\\n 14 13  1  0\\n 15 13  1  0\\nM  END\\n\",\"sdf\");\n",
       "\tviewer_17097258121752927.addModel(\"\\n     RDKit          3D\\n\\n 15 10  0  0  0  0  0  0  0  0999 V2000\\n   25.9251   18.9614    0.8326 O   0  0  0  0  0  0  0  0  0  0  0  0\\n   25.8129   18.0220    1.1502 H   0  0  0  0  0  0  0  0  0  0  0  0\\n   25.5117   19.4748    1.5830 H   0  0  0  0  0  0  0  0  0  0  0  0\\n   24.0700   19.0421   -0.7175 O   0  0  0  0  0  0  0  0  0  0  0  0\\n   24.9313   19.0677   -0.1399 H   0  0  0  0  0  0  0  0  0  0  0  0\\n   23.9627   19.9249   -1.1099 H   0  0  0  0  0  0  0  0  0  0  0  0\\n   24.1564   20.2308    2.6841 O   0  0  0  0  0  0  0  0  0  0  0  0\\n   24.1148   20.0127    3.6380 H   0  0  0  0  0  0  0  0  0  0  0  0\\n   23.3864   19.7318    2.2938 H   0  0  0  0  0  0  0  0  0  0  0  0\\n   22.6626   18.4354    1.1255 O   0  0  0  0  0  0  0  0  0  0  0  0\\n   21.7931   17.8444    0.7995 H   0  0  0  0  0  0  0  0  0  0  0  0\\n   23.1361   18.7152    0.2434 H   0  0  0  0  0  0  0  0  0  0  0  0\\n   24.7116   16.5418    1.8481 O   0  0  0  0  0  0  0  0  0  0  0  0\\n   24.6052   15.8213    1.1874 H   0  0  0  0  0  0  0  0  0  0  0  0\\n   23.9307   17.1550    1.6562 H   0  0  0  0  0  0  0  0  0  0  0  0\\n  2  1  1  0\\n  3  1  1  0\\n  5  4  1  0\\n  6  4  1  0\\n  8  7  1  0\\n  9  7  1  0\\n 11 10  1  0\\n 12 10  1  0\\n 14 13  1  0\\n 15 13  1  0\\nM  END\\n\",\"sdf\");\n",
       "\tviewer_17097258121752927.addModel(\"\\n     RDKit          3D\\n\\n 15 10  0  0  0  0  0  0  0  0999 V2000\\n   25.9851   18.9408    0.9499 O   0  0  0  0  0  0  0  0  0  0  0  0\\n   25.7531   18.0296    1.2598 H   0  0  0  0  0  0  0  0  0  0  0  0\\n   25.5304   19.5091    1.6214 H   0  0  0  0  0  0  0  0  0  0  0  0\\n   24.0547   19.0790   -0.8886 O   0  0  0  0  0  0  0  0  0  0  0  0\\n   24.8829   19.0775   -0.2988 H   0  0  0  0  0  0  0  0  0  0  0  0\\n   23.9776   19.9894   -1.2173 H   0  0  0  0  0  0  0  0  0  0  0  0\\n   24.1518   20.2176    2.6569 O   0  0  0  0  0  0  0  0  0  0  0  0\\n   24.2481   19.9637    3.5892 H   0  0  0  0  0  0  0  0  0  0  0  0\\n   23.4710   19.5996    2.2924 H   0  0  0  0  0  0  0  0  0  0  0  0\\n   22.6373   18.3614    1.2178 O   0  0  0  0  0  0  0  0  0  0  0  0\\n   21.6746   18.3042    1.0985 H   0  0  0  0  0  0  0  0  0  0  0  0\\n   23.0301   18.6701    0.3325 H   0  0  0  0  0  0  0  0  0  0  0  0\\n   24.6999   16.5982    1.8219 O   0  0  0  0  0  0  0  0  0  0  0  0\\n   24.7291   15.8192    1.2432 H   0  0  0  0  0  0  0  0  0  0  0  0\\n   23.8373   17.0376    1.6209 H   0  0  0  0  0  0  0  0  0  0  0  0\\n  2  1  1  0\\n  3  1  1  0\\n  5  4  1  0\\n  6  4  1  0\\n  8  7  1  0\\n  9  7  1  0\\n 11 10  1  0\\n 12 10  1  0\\n 14 13  1  0\\n 15 13  1  0\\nM  END\\n\",\"sdf\");\n",
       "\tviewer_17097258121752927.addModel(\"\\n     RDKit          3D\\n\\n 15 10  0  0  0  0  0  0  0  0999 V2000\\n   25.9911   18.9387    0.9616 O   0  0  0  0  0  0  0  0  0  0  0  0\\n   25.7471   18.0304    1.2707 H   0  0  0  0  0  0  0  0  0  0  0  0\\n   25.5323   19.5125    1.6252 H   0  0  0  0  0  0  0  0  0  0  0  0\\n   24.0532   19.0827   -0.9057 O   0  0  0  0  0  0  0  0  0  0  0  0\\n   24.8780   19.0785   -0.3147 H   0  0  0  0  0  0  0  0  0  0  0  0\\n   23.9791   19.9959   -1.2280 H   0  0  0  0  0  0  0  0  0  0  0  0\\n   24.1513   20.2163    2.6541 O   0  0  0  0  0  0  0  0  0  0  0  0\\n   24.2614   19.9588    3.5843 H   0  0  0  0  0  0  0  0  0  0  0  0\\n   23.4794   19.5864    2.2923 H   0  0  0  0  0  0  0  0  0  0  0  0\\n   22.6348   18.3540    1.2270 O   0  0  0  0  0  0  0  0  0  0  0  0\\n   21.6627   18.3502    1.1284 H   0  0  0  0  0  0  0  0  0  0  0  0\\n   23.0195   18.6656    0.3414 H   0  0  0  0  0  0  0  0  0  0  0  0\\n   24.6988   16.6039    1.8192 O   0  0  0  0  0  0  0  0  0  0  0  0\\n   24.7415   15.8190    1.2488 H   0  0  0  0  0  0  0  0  0  0  0  0\\n   23.8280   17.0258    1.6174 H   0  0  0  0  0  0  0  0  0  0  0  0\\n  2  1  1  0\\n  3  1  1  0\\n  5  4  1  0\\n  6  4  1  0\\n  8  7  1  0\\n  9  7  1  0\\n 11 10  1  0\\n 12 10  1  0\\n 14 13  1  0\\n 15 13  1  0\\nM  END\\n\",\"sdf\");\n",
       "\tviewer_17097258121752927.addModel(\"\\n     RDKit          3D\\n\\n 15 10  0  0  0  0  0  0  0  0999 V2000\\n   25.9971   18.9367    0.9733 O   0  0  0  0  0  0  0  0  0  0  0  0\\n   25.7411   18.0312    1.2817 H   0  0  0  0  0  0  0  0  0  0  0  0\\n   25.5342   19.5159    1.6291 H   0  0  0  0  0  0  0  0  0  0  0  0\\n   24.0517   19.0864   -0.9228 O   0  0  0  0  0  0  0  0  0  0  0  0\\n   24.8732   19.0795   -0.3306 H   0  0  0  0  0  0  0  0  0  0  0  0\\n   23.9806   20.0023   -1.2388 H   0  0  0  0  0  0  0  0  0  0  0  0\\n   24.1509   20.2150    2.6514 O   0  0  0  0  0  0  0  0  0  0  0  0\\n   24.2747   19.9539    3.5794 H   0  0  0  0  0  0  0  0  0  0  0  0\\n   23.4879   19.5732    2.2922 H   0  0  0  0  0  0  0  0  0  0  0  0\\n   22.6323   18.3466    1.2362 O   0  0  0  0  0  0  0  0  0  0  0  0\\n   21.6509   18.3962    1.1583 H   0  0  0  0  0  0  0  0  0  0  0  0\\n   23.0089   18.6611    0.3503 H   0  0  0  0  0  0  0  0  0  0  0  0\\n   24.6976   16.6095    1.8166 O   0  0  0  0  0  0  0  0  0  0  0  0\\n   24.7539   15.8188    1.2544 H   0  0  0  0  0  0  0  0  0  0  0  0\\n   23.8187   17.0141    1.6138 H   0  0  0  0  0  0  0  0  0  0  0  0\\n  2  1  1  0\\n  3  1  1  0\\n  5  4  1  0\\n  6  4  1  0\\n  8  7  1  0\\n  9  7  1  0\\n 11 10  1  0\\n 12 10  1  0\\n 14 13  1  0\\n 15 13  1  0\\nM  END\\n\",\"sdf\");\n",
       "\tviewer_17097258121752927.addModel(\"\\n     RDKit          3D\\n\\n 15 10  0  0  0  0  0  0  0  0999 V2000\\n   26.0031   18.9346    0.9850 O   0  0  0  0  0  0  0  0  0  0  0  0\\n   25.7351   18.0319    1.2927 H   0  0  0  0  0  0  0  0  0  0  0  0\\n   25.5360   19.5194    1.6329 H   0  0  0  0  0  0  0  0  0  0  0  0\\n   24.0501   19.0901   -0.9399 O   0  0  0  0  0  0  0  0  0  0  0  0\\n   24.8683   19.0805   -0.3465 H   0  0  0  0  0  0  0  0  0  0  0  0\\n   23.9820   20.0088   -1.2495 H   0  0  0  0  0  0  0  0  0  0  0  0\\n   24.1504   20.2137    2.6487 O   0  0  0  0  0  0  0  0  0  0  0  0\\n   24.2880   19.9490    3.5745 H   0  0  0  0  0  0  0  0  0  0  0  0\\n   23.4963   19.5599    2.2920 H   0  0  0  0  0  0  0  0  0  0  0  0\\n   22.6297   18.3392    1.2454 O   0  0  0  0  0  0  0  0  0  0  0  0\\n   21.6390   18.4422    1.1882 H   0  0  0  0  0  0  0  0  0  0  0  0\\n   22.9983   18.6566    0.3592 H   0  0  0  0  0  0  0  0  0  0  0  0\\n   24.6964   16.6152    1.8140 O   0  0  0  0  0  0  0  0  0  0  0  0\\n   24.7663   15.8186    1.2600 H   0  0  0  0  0  0  0  0  0  0  0  0\\n   23.8094   17.0023    1.6103 H   0  0  0  0  0  0  0  0  0  0  0  0\\n  2  1  1  0\\n  3  1  1  0\\n  5  4  1  0\\n  6  4  1  0\\n  8  7  1  0\\n  9  7  1  0\\n 11 10  1  0\\n 12 10  1  0\\n 14 13  1  0\\n 15 13  1  0\\nM  END\\n\",\"sdf\");\n",
       "\tviewer_17097258121752927.addModel(\"\\n     RDKit          3D\\n\\n 15 10  0  0  0  0  0  0  0  0999 V2000\\n   26.0091   18.9326    0.9968 O   0  0  0  0  0  0  0  0  0  0  0  0\\n   25.7291   18.0327    1.3036 H   0  0  0  0  0  0  0  0  0  0  0  0\\n   25.5379   19.5228    1.6368 H   0  0  0  0  0  0  0  0  0  0  0  0\\n   24.0486   19.0938   -0.9570 O   0  0  0  0  0  0  0  0  0  0  0  0\\n   24.8635   19.0815   -0.3624 H   0  0  0  0  0  0  0  0  0  0  0  0\\n   23.9835   20.0152   -1.2602 H   0  0  0  0  0  0  0  0  0  0  0  0\\n   24.1500   20.2124    2.6460 O   0  0  0  0  0  0  0  0  0  0  0  0\\n   24.3014   19.9441    3.5696 H   0  0  0  0  0  0  0  0  0  0  0  0\\n   23.5048   19.5467    2.2919 H   0  0  0  0  0  0  0  0  0  0  0  0\\n   22.6272   18.3317    1.2547 O   0  0  0  0  0  0  0  0  0  0  0  0\\n   21.6272   18.4882    1.2181 H   0  0  0  0  0  0  0  0  0  0  0  0\\n   22.9877   18.6521    0.3681 H   0  0  0  0  0  0  0  0  0  0  0  0\\n   24.6952   16.6208    1.8113 O   0  0  0  0  0  0  0  0  0  0  0  0\\n   24.7787   15.8184    1.2656 H   0  0  0  0  0  0  0  0  0  0  0  0\\n   23.8000   16.9906    1.6068 H   0  0  0  0  0  0  0  0  0  0  0  0\\n  2  1  1  0\\n  3  1  1  0\\n  5  4  1  0\\n  6  4  1  0\\n  8  7  1  0\\n  9  7  1  0\\n 11 10  1  0\\n 12 10  1  0\\n 14 13  1  0\\n 15 13  1  0\\nM  END\\n\",\"sdf\");\n",
       "\tviewer_17097258121752927.addModel(\"\\n     RDKit          3D\\n\\n 15 10  0  0  0  0  0  0  0  0999 V2000\\n   26.0151   18.9305    1.0085 O   0  0  0  0  0  0  0  0  0  0  0  0\\n   25.7231   18.0335    1.3146 H   0  0  0  0  0  0  0  0  0  0  0  0\\n   25.5398   19.5262    1.6406 H   0  0  0  0  0  0  0  0  0  0  0  0\\n   24.0471   19.0975   -0.9741 O   0  0  0  0  0  0  0  0  0  0  0  0\\n   24.8586   19.0825   -0.3783 H   0  0  0  0  0  0  0  0  0  0  0  0\\n   23.9850   20.0217   -1.2710 H   0  0  0  0  0  0  0  0  0  0  0  0\\n   24.1495   20.2111    2.6432 O   0  0  0  0  0  0  0  0  0  0  0  0\\n   24.3147   19.9392    3.5647 H   0  0  0  0  0  0  0  0  0  0  0  0\\n   23.5132   19.5335    2.2918 H   0  0  0  0  0  0  0  0  0  0  0  0\\n   22.6247   18.3243    1.2639 O   0  0  0  0  0  0  0  0  0  0  0  0\\n   21.6153   18.5342    1.2480 H   0  0  0  0  0  0  0  0  0  0  0  0\\n   22.9771   18.6476    0.3770 H   0  0  0  0  0  0  0  0  0  0  0  0\\n   24.6941   16.6264    1.8087 O   0  0  0  0  0  0  0  0  0  0  0  0\\n   24.7911   15.8182    1.2712 H   0  0  0  0  0  0  0  0  0  0  0  0\\n   23.7907   16.9788    1.6032 H   0  0  0  0  0  0  0  0  0  0  0  0\\n  2  1  1  0\\n  3  1  1  0\\n  5  4  1  0\\n  6  4  1  0\\n  8  7  1  0\\n  9  7  1  0\\n 11 10  1  0\\n 12 10  1  0\\n 14 13  1  0\\n 15 13  1  0\\nM  END\\n\",\"sdf\");\n",
       "\tviewer_17097258121752927.addModel(\"\\n     RDKit          3D\\n\\n 15 10  0  0  0  0  0  0  0  0999 V2000\\n   26.0211   18.9284    1.0202 O   0  0  0  0  0  0  0  0  0  0  0  0\\n   25.7172   18.0342    1.3255 H   0  0  0  0  0  0  0  0  0  0  0  0\\n   25.5417   19.5296    1.6445 H   0  0  0  0  0  0  0  0  0  0  0  0\\n   24.0456   19.1011   -0.9913 O   0  0  0  0  0  0  0  0  0  0  0  0\\n   24.8538   19.0835   -0.3942 H   0  0  0  0  0  0  0  0  0  0  0  0\\n   23.9865   20.0281   -1.2817 H   0  0  0  0  0  0  0  0  0  0  0  0\\n   24.1490   20.2097    2.6405 O   0  0  0  0  0  0  0  0  0  0  0  0\\n   24.3280   19.9343    3.5598 H   0  0  0  0  0  0  0  0  0  0  0  0\\n   23.5217   19.5203    2.2916 H   0  0  0  0  0  0  0  0  0  0  0  0\\n   22.6221   18.3169    1.2731 O   0  0  0  0  0  0  0  0  0  0  0  0\\n   21.6035   18.5801    1.2779 H   0  0  0  0  0  0  0  0  0  0  0  0\\n   22.9665   18.6431    0.3859 H   0  0  0  0  0  0  0  0  0  0  0  0\\n   24.6929   16.6321    1.8061 O   0  0  0  0  0  0  0  0  0  0  0  0\\n   24.8035   15.8180    1.2768 H   0  0  0  0  0  0  0  0  0  0  0  0\\n   23.7814   16.9671    1.5997 H   0  0  0  0  0  0  0  0  0  0  0  0\\n  2  1  1  0\\n  3  1  1  0\\n  5  4  1  0\\n  6  4  1  0\\n  8  7  1  0\\n  9  7  1  0\\n 11 10  1  0\\n 12 10  1  0\\n 14 13  1  0\\n 15 13  1  0\\nM  END\\n\",\"sdf\");\n",
       "\tviewer_17097258121752927.addModel(\"\\n     RDKit          3D\\n\\n 15 10  0  0  0  0  0  0  0  0999 V2000\\n   26.0271   18.9264    1.0320 O   0  0  0  0  0  0  0  0  0  0  0  0\\n   25.7112   18.0350    1.3365 H   0  0  0  0  0  0  0  0  0  0  0  0\\n   25.5435   19.5331    1.6483 H   0  0  0  0  0  0  0  0  0  0  0  0\\n   24.0440   19.1048   -1.0084 O   0  0  0  0  0  0  0  0  0  0  0  0\\n   24.8489   19.0844   -0.4101 H   0  0  0  0  0  0  0  0  0  0  0  0\\n   23.9880   20.0346   -1.2924 H   0  0  0  0  0  0  0  0  0  0  0  0\\n   24.1486   20.2084    2.6378 O   0  0  0  0  0  0  0  0  0  0  0  0\\n   24.3413   19.9294    3.5549 H   0  0  0  0  0  0  0  0  0  0  0  0\\n   23.5301   19.5070    2.2915 H   0  0  0  0  0  0  0  0  0  0  0  0\\n   22.6196   18.3095    1.2823 O   0  0  0  0  0  0  0  0  0  0  0  0\\n   21.5916   18.6261    1.3079 H   0  0  0  0  0  0  0  0  0  0  0  0\\n   22.9559   18.6386    0.3948 H   0  0  0  0  0  0  0  0  0  0  0  0\\n   24.6917   16.6377    1.8035 O   0  0  0  0  0  0  0  0  0  0  0  0\\n   24.8159   15.8178    1.2824 H   0  0  0  0  0  0  0  0  0  0  0  0\\n   23.7720   16.9554    1.5962 H   0  0  0  0  0  0  0  0  0  0  0  0\\n  2  1  1  0\\n  3  1  1  0\\n  5  4  1  0\\n  6  4  1  0\\n  8  7  1  0\\n  9  7  1  0\\n 11 10  1  0\\n 12 10  1  0\\n 14 13  1  0\\n 15 13  1  0\\nM  END\\n\",\"sdf\");\n",
       "\tviewer_17097258121752927.addModel(\"\\n     RDKit          3D\\n\\n 15 10  0  0  0  0  0  0  0  0999 V2000\\n   26.0331   18.9243    1.0437 O   0  0  0  0  0  0  0  0  0  0  0  0\\n   25.7052   18.0357    1.3474 H   0  0  0  0  0  0  0  0  0  0  0  0\\n   25.5454   19.5365    1.6522 H   0  0  0  0  0  0  0  0  0  0  0  0\\n   24.0425   19.1085   -1.0255 O   0  0  0  0  0  0  0  0  0  0  0  0\\n   24.8441   19.0854   -0.4260 H   0  0  0  0  0  0  0  0  0  0  0  0\\n   23.9895   20.0410   -1.3032 H   0  0  0  0  0  0  0  0  0  0  0  0\\n   24.1481   20.2071    2.6350 O   0  0  0  0  0  0  0  0  0  0  0  0\\n   24.3547   19.9245    3.5501 H   0  0  0  0  0  0  0  0  0  0  0  0\\n   23.5386   19.4938    2.2913 H   0  0  0  0  0  0  0  0  0  0  0  0\\n   22.6171   18.3021    1.2916 O   0  0  0  0  0  0  0  0  0  0  0  0\\n   21.5798   18.6721    1.3378 H   0  0  0  0  0  0  0  0  0  0  0  0\\n   22.9453   18.6341    0.4037 H   0  0  0  0  0  0  0  0  0  0  0  0\\n   24.6906   16.6434    1.8008 O   0  0  0  0  0  0  0  0  0  0  0  0\\n   24.8283   15.8176    1.2880 H   0  0  0  0  0  0  0  0  0  0  0  0\\n   23.7627   16.9436    1.5926 H   0  0  0  0  0  0  0  0  0  0  0  0\\n  2  1  1  0\\n  3  1  1  0\\n  5  4  1  0\\n  6  4  1  0\\n  8  7  1  0\\n  9  7  1  0\\n 11 10  1  0\\n 12 10  1  0\\n 14 13  1  0\\n 15 13  1  0\\nM  END\\n\",\"sdf\");\n",
       "\tviewer_17097258121752927.setStyle({\"stick\": {\"radius\": \"0.1\"}});\n",
       "\tviewer_17097258121752927.setBackgroundColor(\"0xeeeeee\");\n",
       "\tviewer_17097258121752927.zoomTo();\n",
       "viewer_17097258121752927.render();\n",
       "});\n",
       "</script>"
      ]
     },
     "metadata": {},
     "output_type": "display_data"
    }
   ],
   "source": [
    "print(\"This shows all structures within the normal mode 20.\\nWe overlay the structures to show the range of motion of O atoms (red) and H atoms (white).\")\n",
    "print(\"The number of overlaid structures: \", len(ftraj_all[\"20\"]))\n",
    "viewer=prepare_view(ftraj_all[\"20\"])\n",
    "viewer.show()\n",
    "p1=viewer"
   ]
  },
  {
   "cell_type": "code",
   "execution_count": 9,
   "metadata": {},
   "outputs": [
    {
     "data": {
      "application/vnd.jupyter.widget-view+json": {
       "model_id": "653ea72755cc454d8fc9d7e983fc1729",
       "version_major": 2,
       "version_minor": 0
      },
      "text/plain": [
       "interactive(children=(IntSlider(value=0, description='idx', max=8, min=-9), Output()), _dom_classes=('widget-i…"
      ]
     },
     "metadata": {},
     "output_type": "display_data"
    },
    {
     "data": {
      "text/plain": [
       "<function __main__.mol_viewer(idx)>"
      ]
     },
     "execution_count": 9,
     "metadata": {},
     "output_type": "execute_result"
    }
   ],
   "source": [
    "geoms=ftraj_all[\"20\"]\n",
    "\n",
    "def mol_viewer(idx):\n",
    "    mol = geoms[idx]\n",
    "    return prepare_view_single(mol).show()\n",
    "\n",
    "minv=min(geoms)\n",
    "maxv=max(geoms)-1\n",
    "\n",
    "p2=interact(mol_viewer, idx=ipywidgets.IntSlider(min=minv,max=maxv, step=1))\n",
    "p2"
   ]
  },
  {
   "cell_type": "code",
   "execution_count": 10,
   "metadata": {},
   "outputs": [
    {
     "data": {
      "application/3dmoljs_load.v0": "<div id=\"3dmolviewer_17097258122477796\"  style=\"position: relative; width: <function mol_viewer at 0x7f3e4a43c280>; height: 480px;\">\n        <p id=\"3dmolwarning_17097258122477796\" style=\"background-color:#ffcccc;color:black\">You appear to be running in JupyterLab (or JavaScript failed to load for some other reason).  You need to install the 3dmol extension: <br>\n        <tt>jupyter labextension install jupyterlab_3dmol</tt></p>\n        </div>\n<script>\n\nvar loadScriptAsync = function(uri){\n  return new Promise((resolve, reject) => {\n    //this is to ignore the existence of requirejs amd\n    var savedexports, savedmodule;\n    if (typeof exports !== 'undefined') savedexports = exports;\n    else exports = {}\n    if (typeof module !== 'undefined') savedmodule = module;\n    else module = {}\n\n    var tag = document.createElement('script');\n    tag.src = uri;\n    tag.async = true;\n    tag.onload = () => {\n        exports = savedexports;\n        module = savedmodule;\n        resolve();\n    };\n  var firstScriptTag = document.getElementsByTagName('script')[0];\n  firstScriptTag.parentNode.insertBefore(tag, firstScriptTag);\n});\n};\n\nif(typeof $3Dmolpromise === 'undefined') {\n$3Dmolpromise = null;\n  $3Dmolpromise = loadScriptAsync('https://cdnjs.cloudflare.com/ajax/libs/3Dmol/2.0.4/3Dmol-min.js');\n}\n\nvar viewer_17097258122477796 = null;\nvar warn = document.getElementById(\"3dmolwarning_17097258122477796\");\nif(warn) {\n    warn.parentNode.removeChild(warn);\n}\n$3Dmolpromise.then(function() {\nvar viewergrid_17097258122477796 = null;\nviewergrid_17097258122477796 = $3Dmol.createViewerGrid(document.getElementById(\"3dmolviewer_17097258122477796\"),{rows: 1, cols: 2, control_all: true},{backgroundColor:\"white\"});\nviewer_17097258122477796 = viewergrid_17097258122477796[0][0];\n$3Dmol.download(\"<py3Dmol.view object at 0x7f3e4a463f40>\", viewergrid_17097258122477796[0][0], {}, function() {\n$3Dmol.download(\"<py3Dmol.view object at 0x7f3e4a463f40>\", viewergrid_17097258122477796[0][1], {}, function() {\nviewergrid_17097258122477796[0][0].zoomTo();viewergrid_17097258122477796[0][1].zoomTo();\tviewergrid_17097258122477796[0][0].render();\n\tviewergrid_17097258122477796[0][1].render();\nviewergrid_17097258122477796[0][1].render();\nviewergrid_17097258122477796[0][0].render();\n})\n})\n});\n</script>",
      "text/html": [
       "<div id=\"3dmolviewer_17097258122477796\"  style=\"position: relative; width: <function mol_viewer at 0x7f3e4a43c280>; height: 480px;\">\n",
       "        <p id=\"3dmolwarning_17097258122477796\" style=\"background-color:#ffcccc;color:black\">You appear to be running in JupyterLab (or JavaScript failed to load for some other reason).  You need to install the 3dmol extension: <br>\n",
       "        <tt>jupyter labextension install jupyterlab_3dmol</tt></p>\n",
       "        </div>\n",
       "<script>\n",
       "\n",
       "var loadScriptAsync = function(uri){\n",
       "  return new Promise((resolve, reject) => {\n",
       "    //this is to ignore the existence of requirejs amd\n",
       "    var savedexports, savedmodule;\n",
       "    if (typeof exports !== 'undefined') savedexports = exports;\n",
       "    else exports = {}\n",
       "    if (typeof module !== 'undefined') savedmodule = module;\n",
       "    else module = {}\n",
       "\n",
       "    var tag = document.createElement('script');\n",
       "    tag.src = uri;\n",
       "    tag.async = true;\n",
       "    tag.onload = () => {\n",
       "        exports = savedexports;\n",
       "        module = savedmodule;\n",
       "        resolve();\n",
       "    };\n",
       "  var firstScriptTag = document.getElementsByTagName('script')[0];\n",
       "  firstScriptTag.parentNode.insertBefore(tag, firstScriptTag);\n",
       "});\n",
       "};\n",
       "\n",
       "if(typeof $3Dmolpromise === 'undefined') {\n",
       "$3Dmolpromise = null;\n",
       "  $3Dmolpromise = loadScriptAsync('https://cdnjs.cloudflare.com/ajax/libs/3Dmol/2.0.4/3Dmol-min.js');\n",
       "}\n",
       "\n",
       "var viewer_17097258122477796 = null;\n",
       "var warn = document.getElementById(\"3dmolwarning_17097258122477796\");\n",
       "if(warn) {\n",
       "    warn.parentNode.removeChild(warn);\n",
       "}\n",
       "$3Dmolpromise.then(function() {\n",
       "var viewergrid_17097258122477796 = null;\n",
       "viewergrid_17097258122477796 = $3Dmol.createViewerGrid(document.getElementById(\"3dmolviewer_17097258122477796\"),{rows: 1, cols: 2, control_all: true},{backgroundColor:\"white\"});\n",
       "viewer_17097258122477796 = viewergrid_17097258122477796[0][0];\n",
       "$3Dmol.download(\"<py3Dmol.view object at 0x7f3e4a463f40>\", viewergrid_17097258122477796[0][0], {}, function() {\n",
       "$3Dmol.download(\"<py3Dmol.view object at 0x7f3e4a463f40>\", viewergrid_17097258122477796[0][1], {}, function() {\n",
       "viewergrid_17097258122477796[0][0].zoomTo();viewergrid_17097258122477796[0][1].zoomTo();\tviewergrid_17097258122477796[0][0].render();\n",
       "\tviewergrid_17097258122477796[0][1].render();\n",
       "viewergrid_17097258122477796[0][1].render();\n",
       "viewergrid_17097258122477796[0][0].render();\n",
       "})\n",
       "})\n",
       "});\n",
       "</script>"
      ]
     },
     "metadata": {},
     "output_type": "display_data"
    },
    {
     "data": {
      "text/plain": [
       "<py3Dmol.view at 0x7f3e4a41bd00>"
      ]
     },
     "execution_count": 10,
     "metadata": {},
     "output_type": "execute_result"
    }
   ],
   "source": [
    "view = py3Dmol.view(p1,p2,linked=True,viewergrid=(1,2))\n",
    "#view.setViewStyle({'style':'outline','color':'black','width':0.1})\n",
    "#view.setStyle({'cartoon':{'arrows':True, 'tubes':True, 'style':'oval', 'color':'white'}},viewer=(0,1))\n",
    "#view.setStyle({'stick':{'colorscheme':'greenCarbon'}},viewer=(1,0))\n",
    "#view.setStyle({'cartoon':{'color':'spectrum'}},viewer=(1,1))\n",
    "#view.removeAllModels(viewer=(0,0))\n",
    "#view.addModel(benz,'sdf',viewer=(0,0))\n",
    "#view.setStyle({'stick':{}},viewer=(0,0))\n",
    "#view.zoomTo(viewer=(0,0))\n",
    "view.render()"
   ]
  },
  {
   "cell_type": "code",
   "execution_count": null,
   "metadata": {},
   "outputs": [],
   "source": []
  },
  {
   "cell_type": "code",
   "execution_count": null,
   "metadata": {},
   "outputs": [],
   "source": []
  },
  {
   "cell_type": "code",
   "execution_count": null,
   "metadata": {},
   "outputs": [],
   "source": []
  },
  {
   "cell_type": "code",
   "execution_count": null,
   "metadata": {
    "editable": true,
    "slideshow": {
     "slide_type": ""
    },
    "tags": []
   },
   "outputs": [],
   "source": []
  }
 ],
 "metadata": {
  "kernelspec": {
   "display_name": "Python 3 (ipykernel)",
   "language": "python",
   "name": "python3"
  },
  "language_info": {
   "codemirror_mode": {
    "name": "ipython",
    "version": 3
   },
   "file_extension": ".py",
   "mimetype": "text/x-python",
   "name": "python",
   "nbconvert_exporter": "python",
   "pygments_lexer": "ipython3",
   "version": "3.10.13"
  }
 },
 "nbformat": 4,
 "nbformat_minor": 4
}
